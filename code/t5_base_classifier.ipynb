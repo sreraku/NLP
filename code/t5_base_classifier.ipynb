{
  "cells": [
    {
      "cell_type": "markdown",
      "metadata": {
        "id": "00805af9"
      },
      "source": [
        "Install the packages required\n",
        "\n"
      ],
      "id": "00805af9"
    },
    {
      "cell_type": "code",
      "execution_count": 1,
      "metadata": {
        "colab": {
          "base_uri": "https://localhost:8080/"
        },
        "id": "f42ea37d",
        "outputId": "815123c0-b523-440c-b164-8c3bc533a971"
      },
      "outputs": [
        {
          "output_type": "stream",
          "name": "stdout",
          "text": [
            "\u001b[2K     \u001b[90m━━━━━━━━━━━━━━━━━━━━━━━━━━━━━━━━━━━━━━━━\u001b[0m \u001b[32m6.8/6.8 MB\u001b[0m \u001b[31m70.3 MB/s\u001b[0m eta \u001b[36m0:00:00\u001b[0m\n",
            "\u001b[2K     \u001b[90m━━━━━━━━━━━━━━━━━━━━━━━━━━━━━━━━━━━━━━━\u001b[0m \u001b[32m200.1/200.1 kB\u001b[0m \u001b[31m3.0 MB/s\u001b[0m eta \u001b[36m0:00:00\u001b[0m\n",
            "\u001b[2K     \u001b[90m━━━━━━━━━━━━━━━━━━━━━━━━━━━━━━━━━━━━━━━━\u001b[0m \u001b[32m7.8/7.8 MB\u001b[0m \u001b[31m88.3 MB/s\u001b[0m eta \u001b[36m0:00:00\u001b[0m\n",
            "\u001b[2K     \u001b[90m━━━━━━━━━━━━━━━━━━━━━━━━━━━━━━━━━━━━━━━━\u001b[0m \u001b[32m1.3/1.3 MB\u001b[0m \u001b[31m3.6 MB/s\u001b[0m eta \u001b[36m0:00:00\u001b[0m\n",
            "\u001b[?25h"
          ]
        }
      ],
      "source": [
        "!pip install pydot --quiet\n",
        "!pip install transformers --quiet\n",
        "!pip install sentencepiece --quiet\n",
        "!pip install nltk --quiet\n",
        "!pip install torch --quiet"
      ],
      "id": "f42ea37d"
    },
    {
      "cell_type": "code",
      "execution_count": 2,
      "metadata": {
        "id": "a74e61e8"
      },
      "outputs": [],
      "source": [
        "# standard\n",
        "import numpy as np\n",
        "import pandas as pd\n",
        "\n",
        "\n",
        "import sklearn as sk\n",
        "from sklearn.feature_extraction.text import CountVectorizer\n",
        "import os\n",
        "import nltk\n",
        "from nltk.data import find\n",
        "\n",
        "import matplotlib.pyplot as plt\n",
        "\n",
        "import re\n",
        "import string\n",
        "import seaborn as sns\n",
        "import os\n",
        "import textwrap\n",
        "\n",
        "\n",
        "import copy\n",
        "\n",
        "from tqdm import tqdm\n",
        "import gc\n",
        "\n",
        "import torch\n",
        "import torch.nn as nn\n",
        "import torch.nn.functional as F\n",
        "from torch import optim\n",
        "from torch.utils.data import Dataset, DataLoader\n",
        "\n",
        "from sklearn.metrics import (\n",
        "    accuracy_score, \n",
        "    f1_score, \n",
        "    classification_report\n",
        ")\n",
        "\n",
        "import transformers\n",
        "from transformers import (\n",
        "    T5Tokenizer, \n",
        "    T5Model,\n",
        "    T5ForConditionalGeneration,\n",
        "    get_linear_schedule_with_warmup\n",
        ")\n",
        "\n",
        "\n"
      ],
      "id": "a74e61e8"
    },
    {
      "cell_type": "code",
      "execution_count": 3,
      "metadata": {
        "id": "d711409d"
      },
      "outputs": [],
      "source": [
        "df_train = pd.read_csv(\"https://adamhyman-public.s3.amazonaws.com/w266/for_modeling/train_data.csv\")\n",
        "\n",
        "df_valid = pd.read_csv(\"https://adamhyman-public.s3.amazonaws.com/w266/for_modeling/validation_data.csv\")\n",
        "\n",
        "df_test = pd.read_csv(\"https://adamhyman-public.s3.amazonaws.com/w266/for_modeling/test_data.csv\")"
      ],
      "id": "d711409d"
    },
    {
      "cell_type": "code",
      "execution_count": 4,
      "metadata": {
        "id": "07f8cb56"
      },
      "outputs": [],
      "source": [
        "df_train = df_train.astype({'toxic':'int', 'severe_toxic':'int', 'obscene':'int', 'threat':'int', 'insult':'int', 'identity_hate':'int'})\n",
        "#There are 3 null comments in train dataset, 1 in valid and 1 in test. They need to be removed or we get error.\n",
        "df_train = df_train.dropna(how='any',axis=0).reset_index(drop=True)\n",
        "df_valid = df_valid.dropna(how='any',axis=0).reset_index(drop=True)\n",
        "df_test = df_test.dropna(how='any',axis=0) .reset_index(drop=True)\n",
        "\n",
        "\n",
        "df_train = df_train[df_train[\"comment_text\"] != '']\n",
        "df_valid = df_valid[df_valid[\"comment_text\"] != '']\n",
        "df_test = df_test[df_test[\"comment_text\"] != '']\n",
        "\n",
        "df_train = df_train.astype({'toxic':'int', 'severe_toxic':'int', 'obscene':'int', 'threat':'int', 'insult':'int', 'identity_hate':'int'})\n",
        "df_valid = df_valid.astype({'toxic':'int', 'severe_toxic':'int', 'obscene':'int', 'threat':'int', 'insult':'int', 'identity_hate':'int'})\n",
        "df_test = df_test.astype({'toxic':'int', 'severe_toxic':'int', 'obscene':'int', 'threat':'int', 'insult':'int', 'identity_hate':'int'})"
      ],
      "id": "07f8cb56"
    },
    {
      "cell_type": "code",
      "execution_count": 5,
      "metadata": {
        "id": "a901e87f"
      },
      "outputs": [],
      "source": [
        "def  clean_text(text):\n",
        "    text =  text.lower()\n",
        "    text = re.sub(r\"i'm\", \"i am\", text)\n",
        "    text = re.sub(r\"he's\", \"he is\", text)\n",
        "    text = re.sub(r\"she's\", \"she is\", text)\n",
        "    text = re.sub(r\"it's\", \"it is\", text)\n",
        "    text = re.sub(r\"that's\", \"that is\", text)\n",
        "    text = re.sub(r\"what's\", \"that is\", text)\n",
        "    text = re.sub(r\"where's\", \"where is\", text)\n",
        "    text = re.sub(r\"how's\", \"how is\", text)\n",
        "    text = re.sub(r\"'ll\", \" will\", text)\n",
        "    text = re.sub(r\"'ve\", \" have\", text)\n",
        "    text = re.sub(r\"'re\", \" are\", text)\n",
        "    text = re.sub(r\"'d\", \" would\", text)\n",
        "    text = re.sub(r\"'re\", \" are\", text)\n",
        "    text = re.sub(r\"won't\", \"will not\", text)\n",
        "    text = re.sub(r\"can't\", \"cannot\", text)\n",
        "    text = re.sub(r\"n't\", \" not\", text)\n",
        "    text = re.sub(r\"n'\", \"ng\", text)\n",
        "    text = re.sub(r\"'bout\", \"about\", text)\n",
        "    text = re.sub(r\"'til\", \"until\", text)\n",
        "    text = re.sub(r\"[-()\\\"\\#/@;:{}`+=~|!?,]\", \"\", text)\n",
        "    text = text.translate(str.maketrans('', '', string.punctuation)) \n",
        "    text = re.sub(\"(\\W)\",\" \",text) \n",
        "\n",
        "    return text\n",
        "df_train[\"text\"] = df_train['comment_text'].apply(lambda text: clean_text(text))\n",
        "df_valid[\"text\"] = df_valid['comment_text'].apply(lambda text: clean_text(text))\n",
        "df_test[\"text\"] = df_test['comment_text'].apply(lambda text: clean_text(text))\n"
      ],
      "id": "a901e87f"
    },
    {
      "cell_type": "code",
      "execution_count": 6,
      "metadata": {
        "id": "3ade9f8c"
      },
      "outputs": [],
      "source": [
        "train_comments, train_labels = df_train[\"text\"], df_train[['toxic', 'severe_toxic', 'obscene', 'threat', 'insult', 'identity_hate']]\n",
        "valid_comments, valid_labels = df_valid[\"text\"], df_valid[['toxic', 'severe_toxic', 'obscene', 'threat', 'insult', 'identity_hate']]\n",
        "test_comments, test_labels = df_test[\"text\"], df_test[['toxic', 'severe_toxic', 'obscene', 'threat', 'insult', 'identity_hate']]"
      ],
      "id": "3ade9f8c"
    },
    {
      "cell_type": "code",
      "execution_count": 7,
      "metadata": {
        "id": "1e82f497"
      },
      "outputs": [],
      "source": [
        "def get_labels(df):\n",
        "    labels_li = [' '.join(x.lower().split()) for x in df.columns.to_list()[:6]]\n",
        "    labels_matrix = np.array([labels_li] * len(df))\n",
        "\n",
        "    mask = df.iloc[:, :6].values.astype(bool)\n",
        "    labels = []\n",
        "    for l, m in zip(labels_matrix, mask):\n",
        "        x = l[m]\n",
        "        if len(x) > 0:\n",
        "            labels.append(' , '.join(x.tolist()) + ' </s>')\n",
        "        else:\n",
        "            labels.append('none </s>')\n",
        "    return labels\n",
        "\n",
        "def get_texts(df):\n",
        "    texts = 'multilabel classification: ' + df\n",
        "    \n",
        "    return texts\n"
      ],
      "id": "1e82f497"
    },
    {
      "cell_type": "code",
      "execution_count": 8,
      "metadata": {
        "colab": {
          "base_uri": "https://localhost:8080/"
        },
        "id": "iUaE_5USP7Mo",
        "outputId": "f42880c4-bc18-4ce4-c4e5-34edabe6a4d3"
      },
      "outputs": [
        {
          "output_type": "stream",
          "name": "stdout",
          "text": [
            "TEXT -\tmultilabel classification: frankly errant you are a bit of a dick ban me from wikipedia or whatever for saying that i do not care\n",
            "LABEL -\ttoxic , obscene , insult </s>\n",
            "\n",
            "TEXT -\tmultilabel classification:    hiroshima august 6 and august 9 1945   i have once again removed the statement operation suspended 6 august 1945 because of damage caused by atomic bomb attack service restored in stages from 9 august 1945 the cited reference does not address this  the august 6 1945 date is undoubtedly correct however absent a reference with citation perhaps even a brief footnoted explanation the statement that service restored in stages from 9 august 1945 does not belong absent a reference the statement is fanciful indeed preposterous and has the distinct cachet of an urban legend once again please see wpproveit please see in addition wpredflag although not quite a fringe theory this is obviously an exceptional claim that requires a highquality reliable source  a published reference in japanese   \n",
            "LABEL -\tnone </s>\n",
            "\n",
            "TEXT -\tmultilabel classification:   you me a bottle of jack and some bob dylan cannot you just see it  it would be hot  we could listen to the essential bob dylan swilling back a little tennessee whiskey you know get things started  call me honeybear   \n",
            "LABEL -\tnone </s>\n",
            "\n",
            "TEXT -\tmultilabel classification: but has not edited this article\n",
            "LABEL -\tnone </s>\n",
            "\n",
            "TEXT -\tmultilabel classification: it is in my watchlist i will\n",
            "LABEL -\tnone </s>\n",
            "\n",
            "TEXT -\tmultilabel classification: schroeder   i am an avril fan and i have a funny story about this girl that someone tried to set me up with that looks like avril someone saw something i wrote on computer and followed me all the way from atl to florida but i never found out exactly what they were doing it reminded me of a film like swf nobodys home752021442\n",
            "LABEL -\tnone </s>\n",
            "\n",
            "val TEXT -\tmultilabel classification: you currently appear to be engaged in an edit war note that the threerevert rule prohibits making more than three reversions on a single page within a 24 hour period additionally users who perform a large number of reversions in content disputes may be blocked for edit warring even if they do not technically violate the threerevert rule if you continue you may be blocked from editing please do not repeatedly revert edits but use the talk page to work towards wording and content that gains a consensus among editors if necessary pursue dispute resolution    now i am reporting you\n",
            "val LABEL -\tnone </s>\n",
            "\n",
            "val TEXT -\tmultilabel classification: hmmmm   i have perhaps let this articles lede stand uncorrected for too long  anonymous diffiehelman providers fs without any prior long term keys so the first sentence of the article is flatout incorrect though it does describe a common case  i would welcome further input before wading in a changing this\n",
            "val LABEL -\tnone </s>\n",
            "\n",
            "val TEXT -\tmultilabel classification: image rome   hi unfortunately i have no foggiest notion of copyright issues here in wiki and even i do not know exact location of that inscription as i have never been to gobustan maybe to ask other users i will also look for a user who can\n",
            "val LABEL -\tnone </s>\n",
            "\n",
            "val TEXT -\tmultilabel classification:    please do not vandalize pages as you did with this edit to behind blue eyes if you continue to do so you will be blocked from editing    \n",
            "val LABEL -\tnone </s>\n",
            "\n",
            "val TEXT -\tmultilabel classification: unfortunatly i have not been welcomed\n",
            "val LABEL -\tnone </s>\n",
            "\n",
            "val TEXT -\tmultilabel classification: possibly unfree files   one or more of your files might be unfree see wikipediapossibly unfree files2013 october 13otrs pending since july 2012\n",
            "val LABEL -\tnone </s>\n",
            "\n"
          ]
        }
      ],
      "source": [
        "\n",
        "texts = get_texts(train_comments)\n",
        "labels = get_labels(train_labels)\n",
        "\n",
        "\n",
        "for text, label in zip(texts[854:860], labels[854:860]):\n",
        "     print(f'TEXT -\\t{text}')\n",
        "     print(f'LABEL -\\t{label}')\n",
        "     print()\n",
        "\n",
        "val_texts = get_texts(valid_comments)\n",
        "val_labels = get_labels(valid_labels)\n",
        "\n",
        "\n",
        "for text, label in zip(val_texts[854:860], val_labels[854:860]):\n",
        "     print(f'val TEXT -\\t{text}')\n",
        "     print(f'val LABEL -\\t{label}')\n",
        "     print()\n",
        "# print(type(train_comments))\n"
      ],
      "id": "iUaE_5USP7Mo"
    },
    {
      "cell_type": "code",
      "execution_count": 9,
      "metadata": {
        "colab": {
          "base_uri": "https://localhost:8080/",
          "height": 484
        },
        "id": "ee7a8697",
        "outputId": "29d3d422-968d-41a3-b106-3d4290a73d52"
      },
      "outputs": [
        {
          "output_type": "stream",
          "name": "stdout",
          "text": [
            "['severe_toxic', 'obscene', 'threat', 'insult', 'identity_hate']\n"
          ]
        },
        {
          "output_type": "display_data",
          "data": {
            "text/plain": [
              "<Figure size 600x400 with 1 Axes>"
            ],
            "image/png": "[encoded data removed]"
          },
          "metadata": {}
        }
      ],
      "source": [
        "categories = df_train.columns.to_list()[3:8]\n",
        "plt.figure(figsize=(6, 4))\n",
        "print(categories)\n",
        "\n",
        "ax = sns.barplot(x=categories, y=df_train.iloc[:, 3:8].sum().values)\n",
        "plt.ylabel('Total ')\n",
        "plt.xlabel('Toxicity ')\n",
        "plt.xticks(rotation=90)\n",
        "plt.show()"
      ],
      "id": "ee7a8697"
    },
    {
      "cell_type": "code",
      "execution_count": 10,
      "metadata": {
        "colab": {
          "base_uri": "https://localhost:8080/",
          "height": 388
        },
        "id": "d95f6fc7",
        "outputId": "8a900cf9-ea5f-441d-c20e-59c27499f349"
      },
      "outputs": [
        {
          "output_type": "display_data",
          "data": {
            "text/plain": [
              "<Figure size 600x400 with 1 Axes>"
            ],
            "image/png": "[encoded data removed]"
          },
          "metadata": {}
        }
      ],
      "source": [
        "# no of samples having multiple labels\n",
        "row_sums = df_train.iloc[:, 3:8].sum(axis=1)\n",
        "multilabel_counts = row_sums.value_counts()\n",
        "\n",
        "plt.figure(figsize=(6, 4))\n",
        "ax = sns.barplot(x=multilabel_counts.index, y=multilabel_counts.values)\n",
        "plt.ylabel('Total samples')\n",
        "plt.xlabel('Number of labels')\n",
        "plt.show()"
      ],
      "id": "d95f6fc7"
    },
    {
      "cell_type": "markdown",
      "metadata": {
        "id": "46692d94"
      },
      "source": [
        "Feed the large T5 dataset"
      ],
      "id": "46692d94"
    },
    {
      "cell_type": "code",
      "execution_count": 11,
      "metadata": {
        "colab": {
          "base_uri": "https://localhost:8080/",
          "height": 203,
          "referenced_widgets": [
            "cb23f207f5744745999b0b9af11ba03e",
            "30c41eb24a87477b8df3011d2557d773",
            "b30c85f0038343f1a9f427cde551d21e",
            "b877e4f226df4326a63412d6e14a7486",
            "d2612fd18b374675aa26a1827c3f6fb6",
            "9d4eb537bd1a47c8832dfb4be2758a65",
            "d13652a9c1554b4ab2276f9f4866ef11",
            "882116cac0604a02a1f48cba38eb9043",
            "144c2c00fe5b4fb5bbe9fa638ae35384",
            "0bb7a1bd199e402bb0516c72a025fc14",
            "11b9bc214aa747ad875bd6ae6e0723d3",
            "ae8f0983662a4ae698772892d581b85a",
            "326905ef46384f959ee45f937d53cbe2",
            "8ac1cc9f390c4b7492eed38f5cdc474d",
            "cd6d7c46069e4dacbab5fc7e08fb952d",
            "dd509740cddd4d8cb66f8f4f04cfae7e",
            "4ec7f2cade8848bc8894d26c10909241",
            "998f9d893b444ac28f67676980c3d4a7",
            "9cc6e386cef34ddc81547de04e234a2d",
            "215dc1c3cfda42dba4838748a7f6dab5",
            "68235b1196aa48b4a0f2b9ded4a34267",
            "33a5c25afeeb4826a5b6d730b296a733"
          ]
        },
        "id": "254bb3b1",
        "outputId": "6a0e3dd9-ae88-4fb1-9860-a402ea146211"
      },
      "outputs": [
        {
          "output_type": "display_data",
          "data": {
            "text/plain": [
              "Downloading (…)ve/main/spiece.model:   0%|          | 0.00/792k [00:00<?, ?B/s]"
            ],
            "application/vnd.jupyter.widget-view+json": {
              "version_major": 2,
              "version_minor": 0,
              "model_id": "cb23f207f5744745999b0b9af11ba03e"
            }
          },
          "metadata": {}
        },
        {
          "output_type": "display_data",
          "data": {
            "text/plain": [
              "Downloading (…)lve/main/config.json:   0%|          | 0.00/1.21k [00:00<?, ?B/s]"
            ],
            "application/vnd.jupyter.widget-view+json": {
              "version_major": 2,
              "version_minor": 0,
              "model_id": "ae8f0983662a4ae698772892d581b85a"
            }
          },
          "metadata": {}
        },
        {
          "output_type": "stream",
          "name": "stderr",
          "text": [
            "/usr/local/lib/python3.9/dist-packages/transformers/models/t5/tokenization_t5.py:163: FutureWarning: This tokenizer was incorrectly instantiated with a model max length of 512 which will be corrected in Transformers v5.\n",
            "For now, this behavior is kept to avoid breaking backwards compatibility when padding/encoding with `truncation is True`.\n",
            "- Be aware that you SHOULD NOT rely on t5-base automatically truncating your input to 512 when padding/encoding.\n",
            "- If you want to encode/pad to sequences longer than 512 you can either instantiate this tokenizer with `model_max_length` or pass `max_length` when encoding/padding.\n",
            "- To avoid this warning, please instantiate this tokenizer with `model_max_length` set to your preferred value.\n",
            "  warnings.warn(\n"
          ]
        }
      ],
      "source": [
        "class Config:\n",
        "    def __init__(self):\n",
        "        super(Config, self).__init__()\n",
        "\n",
        "        self.SEED = 42\n",
        "        self.MODEL_PATH = 't5-base'\n",
        "\n",
        "        # data\n",
        "        self.TOKENIZER = T5Tokenizer.from_pretrained(self.MODEL_PATH)\n",
        "        self.SRC_MAX_LENGTH = 320\n",
        "        self.TGT_MAX_LENGTH = 20\n",
        "        self.BATCH_SIZE = 16\n",
        "        self.VALIDATION_SPLIT = 0.25\n",
        "\n",
        "        # model\n",
        "        self.DEVICE = torch.device('cuda' if torch.cuda.is_available() else 'cpu')\n",
        "        self.FULL_FINETUNING = True\n",
        "        self.LR = 3e-5\n",
        "        self.OPTIMIZER = 'AdamW'\n",
        "        self.CRITERION = 'BCEWithLogitsLoss'\n",
        "        self.SAVE_BEST_ONLY = True\n",
        "        self.N_VALIDATE_DUR_TRAIN = 3\n",
        "        self.EPOCHS = 2\n",
        "\n",
        "config = Config()"
      ],
      "id": "254bb3b1"
    },
    {
      "cell_type": "code",
      "execution_count": 12,
      "metadata": {
        "id": "ddb6fc9c"
      },
      "outputs": [],
      "source": [
        "class T5Dataset(Dataset):\n",
        "    def __init__(self, df, texts, labels, indices, set_type=None):\n",
        "        super(T5Dataset, self).__init__()\n",
        "\n",
        "        df = df.iloc[indices]\n",
        "        self.texts = get_texts(texts)\n",
        "        self.set_type = set_type\n",
        "        if self.set_type != 'test':\n",
        "            self.labels = get_labels(labels)\n",
        "\n",
        "        self.tokenizer = config.TOKENIZER\n",
        "        self.src_max_length = config.SRC_MAX_LENGTH\n",
        "        self.tgt_max_length = config.TGT_MAX_LENGTH\n",
        "\n",
        "    def __len__(self):\n",
        "        return len(self.texts)\n",
        "    \n",
        "    def __getitem__(self, index):\n",
        "\n",
        "        src_tokenized = self.tokenizer.encode_plus(\n",
        "            self.texts[index], \n",
        "            max_length=self.src_max_length,\n",
        "            pad_to_max_length=True,\n",
        "            truncation=True,\n",
        "            return_attention_mask=True,\n",
        "            return_token_type_ids=False,\n",
        "            return_tensors='pt'\n",
        "        )\n",
        "        src_input_ids = src_tokenized['input_ids'].squeeze()\n",
        "        src_attention_mask = src_tokenized['attention_mask'].squeeze()\n",
        "\n",
        "        if self.set_type != 'test':\n",
        "            tgt_tokenized = self.tokenizer.encode_plus(\n",
        "                self.labels[index], \n",
        "                max_length=self.tgt_max_length,\n",
        "                pad_to_max_length=True,\n",
        "                truncation=True,\n",
        "                return_attention_mask=True,\n",
        "                return_token_type_ids=False,\n",
        "                return_tensors='pt'\n",
        "            )\n",
        "            tgt_input_ids = tgt_tokenized['input_ids'].squeeze()\n",
        "            tgt_attention_mask = tgt_tokenized['attention_mask'].squeeze()\n",
        "\n",
        "            return {\n",
        "                'src_input_ids': src_input_ids.long(),\n",
        "                'src_attention_mask': src_attention_mask.long(),\n",
        "                'tgt_input_ids': tgt_input_ids.long(),\n",
        "                'tgt_attention_mask': tgt_attention_mask.long()\n",
        "            }\n",
        "\n",
        "        return {\n",
        "            'src_input_ids': src_input_ids.long(),\n",
        "            'src_attention_mask': src_attention_mask.long()\n",
        "        }"
      ],
      "id": "ddb6fc9c"
    },
    {
      "cell_type": "code",
      "execution_count": 13,
      "metadata": {
        "id": "74f2ed1f"
      },
      "outputs": [],
      "source": [
        "\n",
        "train_data = T5Dataset(df_train, train_comments, train_labels, len(train_comments)-1)\n",
        "\n",
        "val_data = T5Dataset(df_valid, valid_comments, valid_labels, len(valid_comments)-1)\n",
        "\n"
      ],
      "id": "74f2ed1f"
    },
    {
      "cell_type": "code",
      "execution_count": 14,
      "metadata": {
        "colab": {
          "base_uri": "https://localhost:8080/"
        },
        "id": "lnkp-KfVNJVD",
        "outputId": "4eaf05c8-2b24-4fc9-9ece-3ff5412b8422"
      },
      "outputs": [
        {
          "output_type": "stream",
          "name": "stdout",
          "text": [
            "<torch.utils.data.dataloader.DataLoader object at 0x7fe490612d90>\n",
            "src_input_ids shape: torch.Size([16, 320])\n",
            "src_attention_mask shape: torch.Size([16, 320])\n",
            "tgt_input_ids shape: torch.Size([16, 20])\n",
            "tgt_attention_mask shape: torch.Size([16, 20])\n"
          ]
        },
        {
          "output_type": "stream",
          "name": "stderr",
          "text": [
            "/usr/local/lib/python3.9/dist-packages/transformers/tokenization_utils_base.py:2346: FutureWarning: The `pad_to_max_length` argument is deprecated and will be removed in a future version, use `padding=True` or `padding='longest'` to pad to the longest sequence in the batch, or use `padding='max_length'` to pad to a max length. In this case, you can give a specific length with `max_length` (e.g. `max_length=45`) or leave max_length to None to pad to the maximal input size of the model (e.g. 512 for Bert).\n",
            "  warnings.warn(\n",
            "/usr/local/lib/python3.9/dist-packages/transformers/models/t5/tokenization_t5.py:226: UserWarning: This sequence already has </s>. In future versions this behavior may lead to duplicated eos tokens being added.\n",
            "  warnings.warn(\n"
          ]
        }
      ],
      "source": [
        "train_dataloader = DataLoader(train_data, batch_size=config.BATCH_SIZE)\n",
        "val_dataloader = DataLoader(val_data, batch_size=config.BATCH_SIZE)\n",
        "print(val_dataloader)\n",
        "b = next(iter(train_dataloader))\n",
        "for k, v in b.items():\n",
        "    print(f'{k} shape: {v.shape}')"
      ],
      "id": "lnkp-KfVNJVD"
    },
    {
      "cell_type": "code",
      "execution_count": 15,
      "metadata": {
        "id": "16cdad92"
      },
      "outputs": [],
      "source": [
        "class T5Model(nn.Module):\n",
        "    def __init__(self):\n",
        "        super(T5Model, self).__init__()\n",
        "\n",
        "        self.t5_model = T5ForConditionalGeneration.from_pretrained(config.MODEL_PATH)\n",
        "\n",
        "    def forward(\n",
        "        self,\n",
        "        input_ids, \n",
        "        attention_mask=None, \n",
        "        decoder_input_ids=None, \n",
        "        decoder_attention_mask=None, \n",
        "        labels=None\n",
        "        ):\n",
        "\n",
        "        return self.t5_model(\n",
        "            input_ids,\n",
        "            attention_mask=attention_mask,\n",
        "            decoder_input_ids=decoder_input_ids,\n",
        "            decoder_attention_mask=decoder_attention_mask,\n",
        "            labels=labels,\n",
        "        )\n"
      ],
      "id": "16cdad92"
    },
    {
      "cell_type": "code",
      "execution_count": 16,
      "metadata": {
        "colab": {
          "base_uri": "https://localhost:8080/"
        },
        "id": "11dfe94f",
        "outputId": "4172f2d4-b77c-4836-830d-9c2cec2e83cc"
      },
      "outputs": [
        {
          "output_type": "stream",
          "name": "stdout",
          "text": [
            "cuda\n"
          ]
        }
      ],
      "source": [
        "print(config.DEVICE)\n",
        "device = config.DEVICE"
      ],
      "id": "11dfe94f"
    },
    {
      "cell_type": "code",
      "execution_count": 17,
      "metadata": {
        "id": "5ef5091c"
      },
      "outputs": [],
      "source": [
        "def get_ohe(x):\n",
        "    labels_li = ['_'.join(x.lower().split()) for x in df_train.columns.to_list()[3:8]]\n",
        "    labels_li_indices = dict()\n",
        "    for idx, label in enumerate(labels_li):\n",
        "        labels_li_indices[label] = idx\n",
        "        \n",
        "    y = [labels.split(', ') for labels in x]\n",
        "    ohe = []\n",
        "    for labels in y:\n",
        "        temp = [0] * 6\n",
        "        for label in labels:\n",
        "            idx = labels_li_indices.get(label, -1)\n",
        "            if idx != -1:\n",
        "                temp[idx] = 1\n",
        "        ohe.append(temp)\n",
        "    ohe = np.array(ohe)\n",
        "    return ohe"
      ],
      "id": "5ef5091c"
    },
    {
      "cell_type": "code",
      "execution_count": 18,
      "metadata": {
        "id": "8cc3fb8c"
      },
      "outputs": [],
      "source": [
        "def val(model, val_dataloader, criterion):\n",
        "    \n",
        "    val_loss = 0\n",
        "    true, pred = [], []\n",
        "    \n",
        "    # set model.eval() every time during evaluation\n",
        "    model.eval()\n",
        "    \n",
        "    for step, batch in enumerate(val_dataloader):\n",
        "        # unpack the batch contents and push them to the device (cuda or cpu).\n",
        "        b_src_input_ids = batch['src_input_ids'].to(device)\n",
        "        b_src_attention_mask = batch['src_attention_mask'].to(device)\n",
        "    \n",
        "        b_tgt_input_ids = batch['tgt_input_ids']\n",
        "        labels = b_tgt_input_ids.to(device)\n",
        "        labels[labels[:, :] == config.TOKENIZER.pad_token_id] = -100\n",
        "\n",
        "        b_tgt_attention_mask = batch['tgt_attention_mask'].to(device)\n",
        "\n",
        "        # using torch.no_grad() during validation/inference is faster -\n",
        "        # - since it does not update gradients.\n",
        "        with torch.no_grad():\n",
        "            # forward pass\n",
        "            outputs = model(\n",
        "                input_ids=b_src_input_ids, \n",
        "                attention_mask=b_src_attention_mask,\n",
        "                labels=labels,\n",
        "                decoder_attention_mask=b_tgt_attention_mask)\n",
        "            loss = outputs[0]\n",
        "\n",
        "            val_loss += loss.item()\n",
        "\n",
        "            # get true \n",
        "            for true_id in b_tgt_input_ids:\n",
        "                true_decoded = config.TOKENIZER.decode(true_id)\n",
        "                true.append(true_decoded)\n",
        "\n",
        "            # get pred (decoder generated textual label ids)\n",
        "            pred_ids = model.t5_model.generate(\n",
        "                input_ids=b_src_input_ids, \n",
        "                attention_mask=b_src_attention_mask\n",
        "            )\n",
        "            pred_ids = pred_ids.cpu().numpy()\n",
        "            for pred_id in pred_ids:\n",
        "                pred_decoded = config.TOKENIZER.decode(pred_id)\n",
        "                pred.append(pred_decoded)\n",
        "\n",
        "    true_ohe = get_ohe(true)\n",
        "    pred_ohe = get_ohe(pred)\n",
        "\n",
        "    avg_val_loss = val_loss / len(val_dataloader)\n",
        "    print('Val loss:', avg_val_loss)\n",
        "    print('Val accuracy:', accuracy_score(true_ohe, pred_ohe))\n",
        "\n",
        "    val_micro_f1_score = f1_score(true_ohe, pred_ohe, average='micro')\n",
        "    print('Val micro f1 score:', val_micro_f1_score)\n",
        "    return val_micro_f1_score\n",
        "\n",
        "\n",
        "def train(\n",
        "    model,  \n",
        "    train_dataloader, \n",
        "    val_dataloader, \n",
        "    criterion, \n",
        "    optimizer, \n",
        "    scheduler, \n",
        "    epoch\n",
        "    ):\n",
        "    \n",
        "    # we validate config.N_VALIDATE_DUR_TRAIN times during the training loop\n",
        "    nv = config.N_VALIDATE_DUR_TRAIN\n",
        "    temp = len(train_dataloader) // nv\n",
        "    temp = temp - (temp % 100)\n",
        "    validate_at_steps = [temp * x for x in range(1, nv + 1)]\n",
        "    \n",
        "    train_loss = 0\n",
        "    for step, batch in enumerate(tqdm(train_dataloader, \n",
        "                                      desc='Epoch ' + str(epoch))):\n",
        "        # set model.eval() every time during training\n",
        "        model.train()\n",
        "        \n",
        "        # unpack the batch contents and push them to the device (cuda or cpu).\n",
        "        b_src_input_ids = batch['src_input_ids'].to(device)\n",
        "        b_src_attention_mask = batch['src_attention_mask'].to(device)\n",
        "    \n",
        "        labels = batch['tgt_input_ids'].to(device)\n",
        "        labels[labels[:, :] == config.TOKENIZER.pad_token_id] = -100\n",
        "\n",
        "        b_tgt_attention_mask = batch['tgt_attention_mask'].to(device)\n",
        "\n",
        "        # clear accumulated gradients\n",
        "        optimizer.zero_grad()\n",
        "\n",
        "        # forward pass\n",
        "        outputs = model(input_ids=b_src_input_ids, \n",
        "                        attention_mask=b_src_attention_mask,\n",
        "                        labels=labels,\n",
        "                        decoder_attention_mask=b_tgt_attention_mask)\n",
        "        loss = outputs[0]\n",
        "        train_loss += loss.item()\n",
        "\n",
        "        # backward pass\n",
        "        loss.backward()\n",
        "\n",
        "        # update weights\n",
        "        optimizer.step()\n",
        "        \n",
        "        # update scheduler\n",
        "        scheduler.step()\n",
        "\n",
        "        if step in validate_at_steps:\n",
        "            print(f'-- Step: {step}')\n",
        "            _ = val(model, val_dataloader, criterion)\n",
        "    \n",
        "    avg_train_loss = train_loss / len(train_dataloader)\n",
        "    print('Training loss:', avg_train_loss)"
      ],
      "id": "8cc3fb8c"
    },
    {
      "cell_type": "code",
      "execution_count": 19,
      "metadata": {
        "id": "c8f6a95d"
      },
      "outputs": [],
      "source": [
        "def run():\n",
        "    # setting a seed ensures reproducible results.\n",
        "    # seed may affect the performance too.\n",
        "    torch.manual_seed(config.SEED)\n",
        "\n",
        "    criterion = nn.BCEWithLogitsLoss()\n",
        "    \n",
        "    # define the parameters to be optmized -\n",
        "    # - and add regularization\n",
        "    if config.FULL_FINETUNING:\n",
        "        param_optimizer = list(model.named_parameters())\n",
        "        no_decay = [\"bias\", \"LayerNorm.bias\", \"LayerNorm.weight\"]\n",
        "        optimizer_parameters = [\n",
        "            {\n",
        "                \"params\": [\n",
        "                    p for n, p in param_optimizer if not any(nd in n for nd in no_decay)\n",
        "                ],\n",
        "                \"weight_decay\": 0.001,\n",
        "            },\n",
        "            {\n",
        "                \"params\": [\n",
        "                    p for n, p in param_optimizer if any(nd in n for nd in no_decay)\n",
        "                ],\n",
        "                \"weight_decay\": 0.0,\n",
        "            },\n",
        "        ]\n",
        "        optimizer = optim.AdamW(optimizer_parameters, lr=config.LR)\n",
        "\n",
        "    num_training_steps = len(train_dataloader) * config.EPOCHS\n",
        "    scheduler = get_linear_schedule_with_warmup(\n",
        "        optimizer,\n",
        "        num_warmup_steps=0,\n",
        "        num_training_steps=num_training_steps\n",
        "    )\n",
        "\n",
        "    max_val_micro_f1_score = float('-inf')\n",
        "    for epoch in range(config.EPOCHS):\n",
        "        train(model, train_dataloader, val_dataloader, criterion, optimizer, scheduler, epoch)\n",
        "        val_micro_f1_score = val(model, val_dataloader, criterion)\n",
        "\n",
        "        if config.SAVE_BEST_ONLY:\n",
        "            if val_micro_f1_score > max_val_micro_f1_score:\n",
        "                best_model = copy.deepcopy(model)\n",
        "                best_val_micro_f1_score = val_micro_f1_score\n",
        "\n",
        "                model_name = 't5_best_model'\n",
        "                torch.save(best_model.state_dict(), model_name + '.pt')\n",
        "\n",
        "                print(f'--- Best Model. Val loss: {max_val_micro_f1_score} -> {val_micro_f1_score}')\n",
        "                max_val_micro_f1_score = val_micro_f1_score\n",
        "\n",
        "    return best_model, best_val_micro_f1_score"
      ],
      "id": "c8f6a95d"
    },
    {
      "cell_type": "code",
      "execution_count": 20,
      "metadata": {
        "colab": {
          "base_uri": "https://localhost:8080/",
          "height": 81,
          "referenced_widgets": [
            "aa389fbc67124b9d9df4f579d4f522db",
            "2b9a6319182d41a2a09bc3b27ad27255",
            "5b27e2937a2d45c789331430c7e7749e",
            "b914dda74fff400e8ce9465f96ee1f25",
            "15c6ef8235c04740b59d1aad2715812c",
            "3440e236c2154f03910a3b14c1c63a80",
            "7b7bb99af1b74d6ea4b817a495dee3b4",
            "5e142134d7454410b053e61d74c86e48",
            "a8204891e3d44d639c210102944a089b",
            "2138e48a772a45baa427d2203ee01f61",
            "147267809a1142768b3fb58a2cb5cbea",
            "b899d6f84ed6420495f89b1b7698caa3",
            "d8dcf4f151294a3abf705290e548d4f2",
            "773d2669f7634017861e415f4f5e1a9f",
            "83e5534990e540c39388da135e4f735c",
            "2547233f223942c5823ffcbb60219465",
            "07bc725bfd23452a8663696daf1e1dbb",
            "e4fbd1d1b88c4f3e9db39a08e41a2be9",
            "2968b2755e1748a3847dd199e0e5185a",
            "e22102fd1a184159a586b031fc843078",
            "a2e7e6fb17274c66b568e78d483aa0f1",
            "98b91a85d0114233a6c006b4625c579e"
          ]
        },
        "id": "77df35d0",
        "outputId": "6bd405df-a079-45ba-f6f7-b12677801d29"
      },
      "outputs": [
        {
          "output_type": "display_data",
          "data": {
            "text/plain": [
              "Downloading pytorch_model.bin:   0%|          | 0.00/892M [00:00<?, ?B/s]"
            ],
            "application/vnd.jupyter.widget-view+json": {
              "version_major": 2,
              "version_minor": 0,
              "model_id": "aa389fbc67124b9d9df4f579d4f522db"
            }
          },
          "metadata": {}
        },
        {
          "output_type": "display_data",
          "data": {
            "text/plain": [
              "Downloading (…)neration_config.json:   0%|          | 0.00/147 [00:00<?, ?B/s]"
            ],
            "application/vnd.jupyter.widget-view+json": {
              "version_major": 2,
              "version_minor": 0,
              "model_id": "b899d6f84ed6420495f89b1b7698caa3"
            }
          },
          "metadata": {}
        }
      ],
      "source": [
        "model = T5Model()\n",
        "model.to(device);"
      ],
      "id": "77df35d0"
    },
    {
      "cell_type": "code",
      "execution_count": 21,
      "metadata": {
        "colab": {
          "base_uri": "https://localhost:8080/"
        },
        "id": "c6ab0db3",
        "outputId": "f69d41c1-7c1c-4a43-9337-d6a86cef8bd2"
      },
      "outputs": [
        {
          "output_type": "stream",
          "name": "stderr",
          "text": [
            "Epoch 0:  33%|███▎      | 2600/7979 [13:00<26:55,  3.33it/s]"
          ]
        },
        {
          "output_type": "stream",
          "name": "stdout",
          "text": [
            "-- Step: 2600\n"
          ]
        },
        {
          "output_type": "stream",
          "name": "stderr",
          "text": [
            "/usr/local/lib/python3.9/dist-packages/transformers/generation/utils.py:1288: UserWarning: Using `max_length`'s default (20) to control the generation length. This behaviour is deprecated and will be removed from the config in v5 of Transformers -- we recommend using `max_new_tokens` to control the maximum length of the generation.\n",
            "  warnings.warn(\n",
            "Epoch 0:  33%|███▎      | 2601/7979 [24:28<308:34:38, 206.56s/it]"
          ]
        },
        {
          "output_type": "stream",
          "name": "stdout",
          "text": [
            "Val loss: 0.11016401703197236\n",
            "Val accuracy: 0.9559754339788181\n",
            "Val micro f1 score: 0.5955346650998824\n"
          ]
        },
        {
          "output_type": "stream",
          "name": "stderr",
          "text": [
            "/usr/local/lib/python3.9/dist-packages/transformers/tokenization_utils_base.py:2346: FutureWarning: The `pad_to_max_length` argument is deprecated and will be removed in a future version, use `padding=True` or `padding='longest'` to pad to the longest sequence in the batch, or use `padding='max_length'` to pad to a max length. In this case, you can give a specific length with `max_length` (e.g. `max_length=45`) or leave max_length to None to pad to the maximal input size of the model (e.g. 512 for Bert).\n",
            "  warnings.warn(\n",
            "/usr/local/lib/python3.9/dist-packages/transformers/models/t5/tokenization_t5.py:226: UserWarning: This sequence already has </s>. In future versions this behavior may lead to duplicated eos tokens being added.\n",
            "  warnings.warn(\n",
            "Epoch 0:  65%|██████▌   | 5200/7979 [37:26<14:02,  3.30it/s]"
          ]
        },
        {
          "output_type": "stream",
          "name": "stdout",
          "text": [
            "-- Step: 5200\n"
          ]
        },
        {
          "output_type": "stream",
          "name": "stderr",
          "text": [
            "/usr/local/lib/python3.9/dist-packages/transformers/generation/utils.py:1288: UserWarning: Using `max_length`'s default (20) to control the generation length. This behaviour is deprecated and will be removed from the config in v5 of Transformers -- we recommend using `max_new_tokens` to control the maximum length of the generation.\n",
            "  warnings.warn(\n",
            "Epoch 0:  65%|██████▌   | 5201/7979 [48:35<154:56:42, 200.79s/it]"
          ]
        },
        {
          "output_type": "stream",
          "name": "stdout",
          "text": [
            "Val loss: 0.0934083165868301\n",
            "Val accuracy: 0.9623676129598295\n",
            "Val micro f1 score: 0.6523627075351214\n"
          ]
        },
        {
          "output_type": "stream",
          "name": "stderr",
          "text": [
            "/usr/local/lib/python3.9/dist-packages/transformers/tokenization_utils_base.py:2346: FutureWarning: The `pad_to_max_length` argument is deprecated and will be removed in a future version, use `padding=True` or `padding='longest'` to pad to the longest sequence in the batch, or use `padding='max_length'` to pad to a max length. In this case, you can give a specific length with `max_length` (e.g. `max_length=45`) or leave max_length to None to pad to the maximal input size of the model (e.g. 512 for Bert).\n",
            "  warnings.warn(\n",
            "/usr/local/lib/python3.9/dist-packages/transformers/models/t5/tokenization_t5.py:226: UserWarning: This sequence already has </s>. In future versions this behavior may lead to duplicated eos tokens being added.\n",
            "  warnings.warn(\n",
            "Epoch 0:  98%|█████████▊| 7800/7979 [1:01:33<00:53,  3.37it/s]"
          ]
        },
        {
          "output_type": "stream",
          "name": "stdout",
          "text": [
            "-- Step: 7800\n"
          ]
        },
        {
          "output_type": "stream",
          "name": "stderr",
          "text": [
            "/usr/local/lib/python3.9/dist-packages/transformers/generation/utils.py:1288: UserWarning: Using `max_length`'s default (20) to control the generation length. This behaviour is deprecated and will be removed from the config in v5 of Transformers -- we recommend using `max_new_tokens` to control the maximum length of the generation.\n",
            "  warnings.warn(\n",
            "Epoch 0:  98%|█████████▊| 7801/7979 [1:12:43<9:56:51, 201.19s/it]"
          ]
        },
        {
          "output_type": "stream",
          "name": "stdout",
          "text": [
            "Val loss: 0.09002720281229509\n",
            "Val accuracy: 0.9654696998182616\n",
            "Val micro f1 score: 0.6795327577450482\n"
          ]
        },
        {
          "output_type": "stream",
          "name": "stderr",
          "text": [
            "/usr/local/lib/python3.9/dist-packages/transformers/tokenization_utils_base.py:2346: FutureWarning: The `pad_to_max_length` argument is deprecated and will be removed in a future version, use `padding=True` or `padding='longest'` to pad to the longest sequence in the batch, or use `padding='max_length'` to pad to a max length. In this case, you can give a specific length with `max_length` (e.g. `max_length=45`) or leave max_length to None to pad to the maximal input size of the model (e.g. 512 for Bert).\n",
            "  warnings.warn(\n",
            "/usr/local/lib/python3.9/dist-packages/transformers/models/t5/tokenization_t5.py:226: UserWarning: This sequence already has </s>. In future versions this behavior may lead to duplicated eos tokens being added.\n",
            "  warnings.warn(\n",
            "Epoch 0: 100%|██████████| 7979/7979 [1:13:36<00:00,  1.81it/s]\n",
            "/usr/local/lib/python3.9/dist-packages/transformers/generation/utils.py:1288: UserWarning: Using `max_length`'s default (20) to control the generation length. This behaviour is deprecated and will be removed from the config in v5 of Transformers -- we recommend using `max_new_tokens` to control the maximum length of the generation.\n",
            "  warnings.warn(\n"
          ]
        },
        {
          "output_type": "stream",
          "name": "stdout",
          "text": [
            "Training loss: 0.1503960378410916\n",
            "Val loss: 0.09044771225316821\n",
            "Val accuracy: 0.9649370182365106\n",
            "Val micro f1 score: 0.6652542372881356\n",
            "--- Best Model. Val loss: -inf -> 0.6652542372881356\n"
          ]
        },
        {
          "output_type": "stream",
          "name": "stderr",
          "text": [
            "\rEpoch 1:   0%|          | 0/7979 [00:00<?, ?it/s]/usr/local/lib/python3.9/dist-packages/transformers/tokenization_utils_base.py:2346: FutureWarning: The `pad_to_max_length` argument is deprecated and will be removed in a future version, use `padding=True` or `padding='longest'` to pad to the longest sequence in the batch, or use `padding='max_length'` to pad to a max length. In this case, you can give a specific length with `max_length` (e.g. `max_length=45`) or leave max_length to None to pad to the maximal input size of the model (e.g. 512 for Bert).\n",
            "  warnings.warn(\n",
            "/usr/local/lib/python3.9/dist-packages/transformers/models/t5/tokenization_t5.py:226: UserWarning: This sequence already has </s>. In future versions this behavior may lead to duplicated eos tokens being added.\n",
            "  warnings.warn(\n",
            "Epoch 1:  33%|███▎      | 2600/7979 [12:58<26:52,  3.34it/s]"
          ]
        },
        {
          "output_type": "stream",
          "name": "stdout",
          "text": [
            "-- Step: 2600\n"
          ]
        },
        {
          "output_type": "stream",
          "name": "stderr",
          "text": [
            "/usr/local/lib/python3.9/dist-packages/transformers/generation/utils.py:1288: UserWarning: Using `max_length`'s default (20) to control the generation length. This behaviour is deprecated and will be removed from the config in v5 of Transformers -- we recommend using `max_new_tokens` to control the maximum length of the generation.\n",
            "  warnings.warn(\n",
            "Epoch 1:  33%|███▎      | 2601/7979 [24:44<316:40:43, 211.98s/it]"
          ]
        },
        {
          "output_type": "stream",
          "name": "stdout",
          "text": [
            "Val loss: 0.09054920565251455\n",
            "Val accuracy: 0.9601115497900607\n",
            "Val micro f1 score: 0.6671195652173914\n"
          ]
        },
        {
          "output_type": "stream",
          "name": "stderr",
          "text": [
            "/usr/local/lib/python3.9/dist-packages/transformers/tokenization_utils_base.py:2346: FutureWarning: The `pad_to_max_length` argument is deprecated and will be removed in a future version, use `padding=True` or `padding='longest'` to pad to the longest sequence in the batch, or use `padding='max_length'` to pad to a max length. In this case, you can give a specific length with `max_length` (e.g. `max_length=45`) or leave max_length to None to pad to the maximal input size of the model (e.g. 512 for Bert).\n",
            "  warnings.warn(\n",
            "/usr/local/lib/python3.9/dist-packages/transformers/models/t5/tokenization_t5.py:226: UserWarning: This sequence already has </s>. In future versions this behavior may lead to duplicated eos tokens being added.\n",
            "  warnings.warn(\n",
            "Epoch 1:  65%|██████▌   | 5200/7979 [37:42<13:57,  3.32it/s]"
          ]
        },
        {
          "output_type": "stream",
          "name": "stdout",
          "text": [
            "-- Step: 5200\n"
          ]
        },
        {
          "output_type": "stream",
          "name": "stderr",
          "text": [
            "/usr/local/lib/python3.9/dist-packages/transformers/generation/utils.py:1288: UserWarning: Using `max_length`'s default (20) to control the generation length. This behaviour is deprecated and will be removed from the config in v5 of Transformers -- we recommend using `max_new_tokens` to control the maximum length of the generation.\n",
            "  warnings.warn(\n",
            "Epoch 1:  65%|██████▌   | 5201/7979 [49:24<162:32:15, 210.63s/it]"
          ]
        },
        {
          "output_type": "stream",
          "name": "stdout",
          "text": [
            "Val loss: 0.0875827086538343\n",
            "Val accuracy: 0.9618662655887699\n",
            "Val micro f1 score: 0.6769870609981515\n"
          ]
        },
        {
          "output_type": "stream",
          "name": "stderr",
          "text": [
            "/usr/local/lib/python3.9/dist-packages/transformers/tokenization_utils_base.py:2346: FutureWarning: The `pad_to_max_length` argument is deprecated and will be removed in a future version, use `padding=True` or `padding='longest'` to pad to the longest sequence in the batch, or use `padding='max_length'` to pad to a max length. In this case, you can give a specific length with `max_length` (e.g. `max_length=45`) or leave max_length to None to pad to the maximal input size of the model (e.g. 512 for Bert).\n",
            "  warnings.warn(\n",
            "/usr/local/lib/python3.9/dist-packages/transformers/models/t5/tokenization_t5.py:226: UserWarning: This sequence already has </s>. In future versions this behavior may lead to duplicated eos tokens being added.\n",
            "  warnings.warn(\n",
            "Epoch 1:  98%|█████████▊| 7800/7979 [1:02:22<00:53,  3.36it/s]"
          ]
        },
        {
          "output_type": "stream",
          "name": "stdout",
          "text": [
            "-- Step: 7800\n"
          ]
        },
        {
          "output_type": "stream",
          "name": "stderr",
          "text": [
            "/usr/local/lib/python3.9/dist-packages/transformers/generation/utils.py:1288: UserWarning: Using `max_length`'s default (20) to control the generation length. This behaviour is deprecated and will be removed from the config in v5 of Transformers -- we recommend using `max_new_tokens` to control the maximum length of the generation.\n",
            "  warnings.warn(\n",
            "Epoch 1:  98%|█████████▊| 7801/7979 [1:13:52<10:14:29, 207.13s/it]"
          ]
        },
        {
          "output_type": "stream",
          "name": "stdout",
          "text": [
            "Val loss: 0.08438277848365858\n",
            "Val accuracy: 0.9652190261327317\n",
            "Val micro f1 score: 0.6842366981601193\n"
          ]
        },
        {
          "output_type": "stream",
          "name": "stderr",
          "text": [
            "/usr/local/lib/python3.9/dist-packages/transformers/tokenization_utils_base.py:2346: FutureWarning: The `pad_to_max_length` argument is deprecated and will be removed in a future version, use `padding=True` or `padding='longest'` to pad to the longest sequence in the batch, or use `padding='max_length'` to pad to a max length. In this case, you can give a specific length with `max_length` (e.g. `max_length=45`) or leave max_length to None to pad to the maximal input size of the model (e.g. 512 for Bert).\n",
            "  warnings.warn(\n",
            "/usr/local/lib/python3.9/dist-packages/transformers/models/t5/tokenization_t5.py:226: UserWarning: This sequence already has </s>. In future versions this behavior may lead to duplicated eos tokens being added.\n",
            "  warnings.warn(\n",
            "Epoch 1: 100%|██████████| 7979/7979 [1:14:46<00:00,  1.78it/s]\n",
            "/usr/local/lib/python3.9/dist-packages/transformers/generation/utils.py:1288: UserWarning: Using `max_length`'s default (20) to control the generation length. This behaviour is deprecated and will be removed from the config in v5 of Transformers -- we recommend using `max_new_tokens` to control the maximum length of the generation.\n",
            "  warnings.warn(\n"
          ]
        },
        {
          "output_type": "stream",
          "name": "stdout",
          "text": [
            "Training loss: 0.09169130029765742\n",
            "Val loss: 0.08446814085070667\n",
            "Val accuracy: 0.9651876919220405\n",
            "Val micro f1 score: 0.6837267080745342\n",
            "--- Best Model. Val loss: 0.6652542372881356 -> 0.6837267080745342\n"
          ]
        }
      ],
      "source": [
        "best_model, best_val_micro_f1_score = run()\n"
      ],
      "id": "c6ab0db3"
    },
    {
      "cell_type": "code",
      "execution_count": 22,
      "metadata": {
        "id": "pPkQfIHACzaw"
      },
      "outputs": [],
      "source": [
        "test_data = T5Dataset(df_test, test_comments, test_labels, len(test_comments)-1, set_type = 'test')\n",
        "\n",
        "test_dataloader = DataLoader(test_data, batch_size=config.BATCH_SIZE)\n"
      ],
      "id": "pPkQfIHACzaw"
    },
    {
      "cell_type": "code",
      "execution_count": 23,
      "metadata": {
        "id": "XDlDeKF_C1NX",
        "colab": {
          "base_uri": "https://localhost:8080/"
        },
        "outputId": "bfeef587-84e7-4872-ee4a-4583cf5b2838"
      },
      "outputs": [
        {
          "output_type": "stream",
          "name": "stderr",
          "text": [
            "  0%|          | 0/3999 [00:00<?, ?it/s]/usr/local/lib/python3.9/dist-packages/transformers/tokenization_utils_base.py:2346: FutureWarning: The `pad_to_max_length` argument is deprecated and will be removed in a future version, use `padding=True` or `padding='longest'` to pad to the longest sequence in the batch, or use `padding='max_length'` to pad to a max length. In this case, you can give a specific length with `max_length` (e.g. `max_length=45`) or leave max_length to None to pad to the maximal input size of the model (e.g. 512 for Bert).\n",
            "  warnings.warn(\n",
            "/usr/local/lib/python3.9/dist-packages/transformers/generation/utils.py:1288: UserWarning: Using `max_length`'s default (20) to control the generation length. This behaviour is deprecated and will be removed from the config in v5 of Transformers -- we recommend using `max_new_tokens` to control the maximum length of the generation.\n",
            "  warnings.warn(\n",
            "100%|██████████| 3999/3999 [18:09<00:00,  3.67it/s]\n"
          ]
        }
      ],
      "source": [
        "def predict(model):\n",
        "    val_loss = 0\n",
        "    pred = []\n",
        "    model.eval()\n",
        "    for step, batch in tqdm(enumerate(test_dataloader), total=len(test_dataloader)):\n",
        "        b_src_input_ids = batch['src_input_ids'].to(device)\n",
        "        b_src_attention_mask = batch['src_attention_mask'].to(device)\n",
        "\n",
        "        with torch.no_grad():\n",
        "            # get pred\n",
        "            pred_ids = model.t5_model.generate(\n",
        "                input_ids=b_src_input_ids, \n",
        "                attention_mask=b_src_attention_mask\n",
        "            )\n",
        "            pred_ids = pred_ids.cpu().numpy()\n",
        "            for pred_id in pred_ids:\n",
        "                pred_decoded = config.TOKENIZER.decode(pred_id)\n",
        "                pred.append(pred_decoded)\n",
        "\n",
        "    pred_ohe = get_ohe(pred)\n",
        "    return pred_ohe\n",
        "\n",
        "pred_ohe = predict(best_model)"
      ],
      "id": "XDlDeKF_C1NX"
    },
    {
      "cell_type": "code",
      "execution_count": 24,
      "metadata": {
        "id": "-v54_NfikLOV",
        "colab": {
          "base_uri": "https://localhost:8080/"
        },
        "outputId": "34b027a4-7dd7-4434-c171-d4f45bd55328"
      },
      "outputs": [
        {
          "output_type": "stream",
          "name": "stdout",
          "text": [
            "0.6837267080745342\n",
            "[[0 0 0 0 0 0]\n",
            " [0 0 0 0 0 0]\n",
            " [0 0 0 0 0 0]\n",
            " ...\n",
            " [0 0 0 0 0 0]\n",
            " [0 1 0 1 0 0]\n",
            " [0 0 0 0 0 0]]\n"
          ]
        },
        {
          "output_type": "execute_result",
          "data": {
            "text/plain": [
              "array([[0, 0, 0, 0, 0, 0],\n",
              "       [0, 0, 0, 0, 0, 0],\n",
              "       [0, 0, 0, 0, 0, 0],\n",
              "       [0, 0, 0, 0, 0, 0],\n",
              "       [0, 0, 0, 0, 0, 0],\n",
              "       [0, 0, 0, 0, 0, 0],\n",
              "       [0, 0, 0, 0, 0, 0],\n",
              "       [0, 0, 0, 0, 0, 0],\n",
              "       [0, 0, 0, 0, 0, 0],\n",
              "       [0, 0, 0, 0, 0, 0]])"
            ]
          },
          "metadata": {},
          "execution_count": 24
        }
      ],
      "source": [
        "print(best_val_micro_f1_score)\n",
        "print(pred_ohe)\n",
        "y_test = test_labels\n",
        "y_test_pred = np.where(pred_ohe>=0.5, 1, 0)\n",
        "y_test_pred[:10] "
      ],
      "id": "-v54_NfikLOV"
    },
    {
      "cell_type": "code",
      "execution_count": 25,
      "metadata": {
        "id": "67tvZ5RbNDnO",
        "colab": {
          "base_uri": "https://localhost:8080/"
        },
        "outputId": "d68054d6-cf7d-4b01-8b73-98af013fa5f5"
      },
      "outputs": [
        {
          "output_type": "stream",
          "name": "stdout",
          "text": [
            "[[0 0 0 0 0 0]\n",
            " [0 0 0 0 0 0]\n",
            " [0 0 0 0 0 0]\n",
            " ...\n",
            " [0 0 0 0 0 0]\n",
            " [0 1 0 1 0 0]\n",
            " [0 0 0 0 0 0]]\n",
            "<class 'numpy.ndarray'>\n"
          ]
        }
      ],
      "source": [
        "print(pred_ohe)\n",
        "print(type(pred_ohe))"
      ],
      "id": "67tvZ5RbNDnO"
    },
    {
      "cell_type": "code",
      "execution_count": 26,
      "metadata": {
        "id": "NbvztNQ1o9Y2",
        "colab": {
          "base_uri": "https://localhost:8080/"
        },
        "outputId": "98bd9637-f3af-4cb6-a385-95577496afc1"
      },
      "outputs": [
        {
          "output_type": "stream",
          "name": "stdout",
          "text": [
            "               precision    recall  f1-score   support\n",
            "\n",
            "        toxic       0.98      0.08      0.14      6090\n",
            " severe_toxic       0.09      0.95      0.16       367\n",
            "      obscene       0.82      0.03      0.05      3691\n",
            "       threat       0.06      0.18      0.09       211\n",
            "       insult       0.82      0.00      0.01      3427\n",
            "identity_hate       0.00      0.00      0.00       712\n",
            "\n",
            "    micro avg       0.18      0.07      0.10     14498\n",
            "    macro avg       0.46      0.21      0.07     14498\n",
            " weighted avg       0.82      0.07      0.08     14498\n",
            "  samples avg       0.01      0.00      0.00     14498\n",
            "\n"
          ]
        }
      ],
      "source": [
        "from sklearn.metrics import classification_report\n",
        "\n",
        "print(classification_report(y_test, y_test_pred, target_names=['toxic', 'severe_toxic', 'obscene', 'threat', 'insult', 'identity_hate'], zero_division = 0))"
      ],
      "id": "NbvztNQ1o9Y2"
    },
    {
      "cell_type": "code",
      "execution_count": 27,
      "metadata": {
        "id": "-VWKPj7QpGVE",
        "colab": {
          "base_uri": "https://localhost:8080/"
        },
        "outputId": "2fc884a4-e954-499a-b233-b29b59eb9ac7"
      },
      "outputs": [
        {
          "output_type": "execute_result",
          "data": {
            "text/plain": [
              "0.0467444090122762"
            ]
          },
          "metadata": {},
          "execution_count": 27
        }
      ],
      "source": [
        "from sklearn.metrics import hamming_loss\n",
        "hamming_loss(y_test, y_test_pred)"
      ],
      "id": "-VWKPj7QpGVE"
    },
    {
      "cell_type": "code",
      "execution_count": 28,
      "metadata": {
        "id": "vjhIltWH6afz",
        "colab": {
          "base_uri": "https://localhost:8080/"
        },
        "outputId": "c000accf-b3ee-4c6e-f053-a0262d0a8f1c"
      },
      "outputs": [
        {
          "output_type": "execute_result",
          "data": {
            "text/plain": [
              "array([0.53868295, 0.94605305, 0.51256779, 0.58508354, 0.50129659,\n",
              "       0.5       ])"
            ]
          },
          "metadata": {},
          "execution_count": 28
        }
      ],
      "source": [
        "from sklearn.metrics import roc_auc_score\n",
        "roc_auc_score(y_test, y_test_pred, average=None)\n"
      ],
      "id": "vjhIltWH6afz"
    },
    {
      "cell_type": "code",
      "execution_count": 29,
      "metadata": {
        "id": "qSUY8C2jWY8I",
        "colab": {
          "base_uri": "https://localhost:8080/"
        },
        "outputId": "965e9452-e0d1-4896-c20c-d4d674910aca"
      },
      "outputs": [
        {
          "output_type": "execute_result",
          "data": {
            "text/plain": [
              "0.5972806523633647"
            ]
          },
          "metadata": {},
          "execution_count": 29
        }
      ],
      "source": [
        "roc_auc_score(y_test, y_test_pred, average=\"macro\")"
      ],
      "id": "qSUY8C2jWY8I"
    },
    {
      "cell_type": "markdown",
      "metadata": {
        "id": "CEfpGk3sW7yo"
      },
      "source": [],
      "id": "CEfpGk3sW7yo"
    }
  ],
  "metadata": {
    "accelerator": "GPU",
    "colab": {
      "machine_shape": "hm",
      "provenance": []
    },
    "gpuClass": "premium",
    "kernelspec": {
      "display_name": "Python 3 (ipykernel)",
      "language": "python",
      "name": "python3"
    },
    "language_info": {
      "codemirror_mode": {
        "name": "ipython",
        "version": 3
      },
      "file_extension": ".py",
      "mimetype": "text/x-python",
      "name": "python",
      "nbconvert_exporter": "python",
      "pygments_lexer": "ipython3",
      "version": "3.10.5"
    },
    "widgets": {
      "application/vnd.jupyter.widget-state+json": {
        "cb23f207f5744745999b0b9af11ba03e": {
          "model_module": "@jupyter-widgets/controls",
          "model_name": "HBoxModel",
          "model_module_version": "1.5.0",
          "state": {
            "_dom_classes": [],
            "_model_module": "@jupyter-widgets/controls",
            "_model_module_version": "1.5.0",
            "_model_name": "HBoxModel",
            "_view_count": null,
            "_view_module": "@jupyter-widgets/controls",
            "_view_module_version": "1.5.0",
            "_view_name": "HBoxView",
            "box_style": "",
            "children": [
              "IPY_MODEL_30c41eb24a87477b8df3011d2557d773",
              "IPY_MODEL_b30c85f0038343f1a9f427cde551d21e",
              "IPY_MODEL_b877e4f226df4326a63412d6e14a7486"
            ],
            "layout": "IPY_MODEL_d2612fd18b374675aa26a1827c3f6fb6"
          }
        },
        "30c41eb24a87477b8df3011d2557d773": {
          "model_module": "@jupyter-widgets/controls",
          "model_name": "HTMLModel",
          "model_module_version": "1.5.0",
          "state": {
            "_dom_classes": [],
            "_model_module": "@jupyter-widgets/controls",
            "_model_module_version": "1.5.0",
            "_model_name": "HTMLModel",
            "_view_count": null,
            "_view_module": "@jupyter-widgets/controls",
            "_view_module_version": "1.5.0",
            "_view_name": "HTMLView",
            "description": "",
            "description_tooltip": null,
            "layout": "IPY_MODEL_9d4eb537bd1a47c8832dfb4be2758a65",
            "placeholder": "​",
            "style": "IPY_MODEL_d13652a9c1554b4ab2276f9f4866ef11",
            "value": "Downloading (…)ve/main/spiece.model: 100%"
          }
        },
        "b30c85f0038343f1a9f427cde551d21e": {
          "model_module": "@jupyter-widgets/controls",
          "model_name": "FloatProgressModel",
          "model_module_version": "1.5.0",
          "state": {
            "_dom_classes": [],
            "_model_module": "@jupyter-widgets/controls",
            "_model_module_version": "1.5.0",
            "_model_name": "FloatProgressModel",
            "_view_count": null,
            "_view_module": "@jupyter-widgets/controls",
            "_view_module_version": "1.5.0",
            "_view_name": "ProgressView",
            "bar_style": "success",
            "description": "",
            "description_tooltip": null,
            "layout": "IPY_MODEL_882116cac0604a02a1f48cba38eb9043",
            "max": 791656,
            "min": 0,
            "orientation": "horizontal",
            "style": "IPY_MODEL_144c2c00fe5b4fb5bbe9fa638ae35384",
            "value": 791656
          }
        },
        "b877e4f226df4326a63412d6e14a7486": {
          "model_module": "@jupyter-widgets/controls",
          "model_name": "HTMLModel",
          "model_module_version": "1.5.0",
          "state": {
            "_dom_classes": [],
            "_model_module": "@jupyter-widgets/controls",
            "_model_module_version": "1.5.0",
            "_model_name": "HTMLModel",
            "_view_count": null,
            "_view_module": "@jupyter-widgets/controls",
            "_view_module_version": "1.5.0",
            "_view_name": "HTMLView",
            "description": "",
            "description_tooltip": null,
            "layout": "IPY_MODEL_0bb7a1bd199e402bb0516c72a025fc14",
            "placeholder": "​",
            "style": "IPY_MODEL_11b9bc214aa747ad875bd6ae6e0723d3",
            "value": " 792k/792k [00:00&lt;00:00, 22.0MB/s]"
          }
        },
        "d2612fd18b374675aa26a1827c3f6fb6": {
          "model_module": "@jupyter-widgets/base",
          "model_name": "LayoutModel",
          "model_module_version": "1.2.0",
          "state": {
            "_model_module": "@jupyter-widgets/base",
            "_model_module_version": "1.2.0",
            "_model_name": "LayoutModel",
            "_view_count": null,
            "_view_module": "@jupyter-widgets/base",
            "_view_module_version": "1.2.0",
            "_view_name": "LayoutView",
            "align_content": null,
            "align_items": null,
            "align_self": null,
            "border": null,
            "bottom": null,
            "display": null,
            "flex": null,
            "flex_flow": null,
            "grid_area": null,
            "grid_auto_columns": null,
            "grid_auto_flow": null,
            "grid_auto_rows": null,
            "grid_column": null,
            "grid_gap": null,
            "grid_row": null,
            "grid_template_areas": null,
            "grid_template_columns": null,
            "grid_template_rows": null,
            "height": null,
            "justify_content": null,
            "justify_items": null,
            "left": null,
            "margin": null,
            "max_height": null,
            "max_width": null,
            "min_height": null,
            "min_width": null,
            "object_fit": null,
            "object_position": null,
            "order": null,
            "overflow": null,
            "overflow_x": null,
            "overflow_y": null,
            "padding": null,
            "right": null,
            "top": null,
            "visibility": null,
            "width": null
          }
        },
        "9d4eb537bd1a47c8832dfb4be2758a65": {
          "model_module": "@jupyter-widgets/base",
          "model_name": "LayoutModel",
          "model_module_version": "1.2.0",
          "state": {
            "_model_module": "@jupyter-widgets/base",
            "_model_module_version": "1.2.0",
            "_model_name": "LayoutModel",
            "_view_count": null,
            "_view_module": "@jupyter-widgets/base",
            "_view_module_version": "1.2.0",
            "_view_name": "LayoutView",
            "align_content": null,
            "align_items": null,
            "align_self": null,
            "border": null,
            "bottom": null,
            "display": null,
            "flex": null,
            "flex_flow": null,
            "grid_area": null,
            "grid_auto_columns": null,
            "grid_auto_flow": null,
            "grid_auto_rows": null,
            "grid_column": null,
            "grid_gap": null,
            "grid_row": null,
            "grid_template_areas": null,
            "grid_template_columns": null,
            "grid_template_rows": null,
            "height": null,
            "justify_content": null,
            "justify_items": null,
            "left": null,
            "margin": null,
            "max_height": null,
            "max_width": null,
            "min_height": null,
            "min_width": null,
            "object_fit": null,
            "object_position": null,
            "order": null,
            "overflow": null,
            "overflow_x": null,
            "overflow_y": null,
            "padding": null,
            "right": null,
            "top": null,
            "visibility": null,
            "width": null
          }
        },
        "d13652a9c1554b4ab2276f9f4866ef11": {
          "model_module": "@jupyter-widgets/controls",
          "model_name": "DescriptionStyleModel",
          "model_module_version": "1.5.0",
          "state": {
            "_model_module": "@jupyter-widgets/controls",
            "_model_module_version": "1.5.0",
            "_model_name": "DescriptionStyleModel",
            "_view_count": null,
            "_view_module": "@jupyter-widgets/base",
            "_view_module_version": "1.2.0",
            "_view_name": "StyleView",
            "description_width": ""
          }
        },
        "882116cac0604a02a1f48cba38eb9043": {
          "model_module": "@jupyter-widgets/base",
          "model_name": "LayoutModel",
          "model_module_version": "1.2.0",
          "state": {
            "_model_module": "@jupyter-widgets/base",
            "_model_module_version": "1.2.0",
            "_model_name": "LayoutModel",
            "_view_count": null,
            "_view_module": "@jupyter-widgets/base",
            "_view_module_version": "1.2.0",
            "_view_name": "LayoutView",
            "align_content": null,
            "align_items": null,
            "align_self": null,
            "border": null,
            "bottom": null,
            "display": null,
            "flex": null,
            "flex_flow": null,
            "grid_area": null,
            "grid_auto_columns": null,
            "grid_auto_flow": null,
            "grid_auto_rows": null,
            "grid_column": null,
            "grid_gap": null,
            "grid_row": null,
            "grid_template_areas": null,
            "grid_template_columns": null,
            "grid_template_rows": null,
            "height": null,
            "justify_content": null,
            "justify_items": null,
            "left": null,
            "margin": null,
            "max_height": null,
            "max_width": null,
            "min_height": null,
            "min_width": null,
            "object_fit": null,
            "object_position": null,
            "order": null,
            "overflow": null,
            "overflow_x": null,
            "overflow_y": null,
            "padding": null,
            "right": null,
            "top": null,
            "visibility": null,
            "width": null
          }
        },
        "144c2c00fe5b4fb5bbe9fa638ae35384": {
          "model_module": "@jupyter-widgets/controls",
          "model_name": "ProgressStyleModel",
          "model_module_version": "1.5.0",
          "state": {
            "_model_module": "@jupyter-widgets/controls",
            "_model_module_version": "1.5.0",
            "_model_name": "ProgressStyleModel",
            "_view_count": null,
            "_view_module": "@jupyter-widgets/base",
            "_view_module_version": "1.2.0",
            "_view_name": "StyleView",
            "bar_color": null,
            "description_width": ""
          }
        },
        "0bb7a1bd199e402bb0516c72a025fc14": {
          "model_module": "@jupyter-widgets/base",
          "model_name": "LayoutModel",
          "model_module_version": "1.2.0",
          "state": {
            "_model_module": "@jupyter-widgets/base",
            "_model_module_version": "1.2.0",
            "_model_name": "LayoutModel",
            "_view_count": null,
            "_view_module": "@jupyter-widgets/base",
            "_view_module_version": "1.2.0",
            "_view_name": "LayoutView",
            "align_content": null,
            "align_items": null,
            "align_self": null,
            "border": null,
            "bottom": null,
            "display": null,
            "flex": null,
            "flex_flow": null,
            "grid_area": null,
            "grid_auto_columns": null,
            "grid_auto_flow": null,
            "grid_auto_rows": null,
            "grid_column": null,
            "grid_gap": null,
            "grid_row": null,
            "grid_template_areas": null,
            "grid_template_columns": null,
            "grid_template_rows": null,
            "height": null,
            "justify_content": null,
            "justify_items": null,
            "left": null,
            "margin": null,
            "max_height": null,
            "max_width": null,
            "min_height": null,
            "min_width": null,
            "object_fit": null,
            "object_position": null,
            "order": null,
            "overflow": null,
            "overflow_x": null,
            "overflow_y": null,
            "padding": null,
            "right": null,
            "top": null,
            "visibility": null,
            "width": null
          }
        },
        "11b9bc214aa747ad875bd6ae6e0723d3": {
          "model_module": "@jupyter-widgets/controls",
          "model_name": "DescriptionStyleModel",
          "model_module_version": "1.5.0",
          "state": {
            "_model_module": "@jupyter-widgets/controls",
            "_model_module_version": "1.5.0",
            "_model_name": "DescriptionStyleModel",
            "_view_count": null,
            "_view_module": "@jupyter-widgets/base",
            "_view_module_version": "1.2.0",
            "_view_name": "StyleView",
            "description_width": ""
          }
        },
        "ae8f0983662a4ae698772892d581b85a": {
          "model_module": "@jupyter-widgets/controls",
          "model_name": "HBoxModel",
          "model_module_version": "1.5.0",
          "state": {
            "_dom_classes": [],
            "_model_module": "@jupyter-widgets/controls",
            "_model_module_version": "1.5.0",
            "_model_name": "HBoxModel",
            "_view_count": null,
            "_view_module": "@jupyter-widgets/controls",
            "_view_module_version": "1.5.0",
            "_view_name": "HBoxView",
            "box_style": "",
            "children": [
              "IPY_MODEL_326905ef46384f959ee45f937d53cbe2",
              "IPY_MODEL_8ac1cc9f390c4b7492eed38f5cdc474d",
              "IPY_MODEL_cd6d7c46069e4dacbab5fc7e08fb952d"
            ],
            "layout": "IPY_MODEL_dd509740cddd4d8cb66f8f4f04cfae7e"
          }
        },
        "326905ef46384f959ee45f937d53cbe2": {
          "model_module": "@jupyter-widgets/controls",
          "model_name": "HTMLModel",
          "model_module_version": "1.5.0",
          "state": {
            "_dom_classes": [],
            "_model_module": "@jupyter-widgets/controls",
            "_model_module_version": "1.5.0",
            "_model_name": "HTMLModel",
            "_view_count": null,
            "_view_module": "@jupyter-widgets/controls",
            "_view_module_version": "1.5.0",
            "_view_name": "HTMLView",
            "description": "",
            "description_tooltip": null,
            "layout": "IPY_MODEL_4ec7f2cade8848bc8894d26c10909241",
            "placeholder": "​",
            "style": "IPY_MODEL_998f9d893b444ac28f67676980c3d4a7",
            "value": "Downloading (…)lve/main/config.json: 100%"
          }
        },
        "8ac1cc9f390c4b7492eed38f5cdc474d": {
          "model_module": "@jupyter-widgets/controls",
          "model_name": "FloatProgressModel",
          "model_module_version": "1.5.0",
          "state": {
            "_dom_classes": [],
            "_model_module": "@jupyter-widgets/controls",
            "_model_module_version": "1.5.0",
            "_model_name": "FloatProgressModel",
            "_view_count": null,
            "_view_module": "@jupyter-widgets/controls",
            "_view_module_version": "1.5.0",
            "_view_name": "ProgressView",
            "bar_style": "success",
            "description": "",
            "description_tooltip": null,
            "layout": "IPY_MODEL_9cc6e386cef34ddc81547de04e234a2d",
            "max": 1208,
            "min": 0,
            "orientation": "horizontal",
            "style": "IPY_MODEL_215dc1c3cfda42dba4838748a7f6dab5",
            "value": 1208
          }
        },
        "cd6d7c46069e4dacbab5fc7e08fb952d": {
          "model_module": "@jupyter-widgets/controls",
          "model_name": "HTMLModel",
          "model_module_version": "1.5.0",
          "state": {
            "_dom_classes": [],
            "_model_module": "@jupyter-widgets/controls",
            "_model_module_version": "1.5.0",
            "_model_name": "HTMLModel",
            "_view_count": null,
            "_view_module": "@jupyter-widgets/controls",
            "_view_module_version": "1.5.0",
            "_view_name": "HTMLView",
            "description": "",
            "description_tooltip": null,
            "layout": "IPY_MODEL_68235b1196aa48b4a0f2b9ded4a34267",
            "placeholder": "​",
            "style": "IPY_MODEL_33a5c25afeeb4826a5b6d730b296a733",
            "value": " 1.21k/1.21k [00:00&lt;00:00, 81.1kB/s]"
          }
        },
        "dd509740cddd4d8cb66f8f4f04cfae7e": {
          "model_module": "@jupyter-widgets/base",
          "model_name": "LayoutModel",
          "model_module_version": "1.2.0",
          "state": {
            "_model_module": "@jupyter-widgets/base",
            "_model_module_version": "1.2.0",
            "_model_name": "LayoutModel",
            "_view_count": null,
            "_view_module": "@jupyter-widgets/base",
            "_view_module_version": "1.2.0",
            "_view_name": "LayoutView",
            "align_content": null,
            "align_items": null,
            "align_self": null,
            "border": null,
            "bottom": null,
            "display": null,
            "flex": null,
            "flex_flow": null,
            "grid_area": null,
            "grid_auto_columns": null,
            "grid_auto_flow": null,
            "grid_auto_rows": null,
            "grid_column": null,
            "grid_gap": null,
            "grid_row": null,
            "grid_template_areas": null,
            "grid_template_columns": null,
            "grid_template_rows": null,
            "height": null,
            "justify_content": null,
            "justify_items": null,
            "left": null,
            "margin": null,
            "max_height": null,
            "max_width": null,
            "min_height": null,
            "min_width": null,
            "object_fit": null,
            "object_position": null,
            "order": null,
            "overflow": null,
            "overflow_x": null,
            "overflow_y": null,
            "padding": null,
            "right": null,
            "top": null,
            "visibility": null,
            "width": null
          }
        },
        "4ec7f2cade8848bc8894d26c10909241": {
          "model_module": "@jupyter-widgets/base",
          "model_name": "LayoutModel",
          "model_module_version": "1.2.0",
          "state": {
            "_model_module": "@jupyter-widgets/base",
            "_model_module_version": "1.2.0",
            "_model_name": "LayoutModel",
            "_view_count": null,
            "_view_module": "@jupyter-widgets/base",
            "_view_module_version": "1.2.0",
            "_view_name": "LayoutView",
            "align_content": null,
            "align_items": null,
            "align_self": null,
            "border": null,
            "bottom": null,
            "display": null,
            "flex": null,
            "flex_flow": null,
            "grid_area": null,
            "grid_auto_columns": null,
            "grid_auto_flow": null,
            "grid_auto_rows": null,
            "grid_column": null,
            "grid_gap": null,
            "grid_row": null,
            "grid_template_areas": null,
            "grid_template_columns": null,
            "grid_template_rows": null,
            "height": null,
            "justify_content": null,
            "justify_items": null,
            "left": null,
            "margin": null,
            "max_height": null,
            "max_width": null,
            "min_height": null,
            "min_width": null,
            "object_fit": null,
            "object_position": null,
            "order": null,
            "overflow": null,
            "overflow_x": null,
            "overflow_y": null,
            "padding": null,
            "right": null,
            "top": null,
            "visibility": null,
            "width": null
          }
        },
        "998f9d893b444ac28f67676980c3d4a7": {
          "model_module": "@jupyter-widgets/controls",
          "model_name": "DescriptionStyleModel",
          "model_module_version": "1.5.0",
          "state": {
            "_model_module": "@jupyter-widgets/controls",
            "_model_module_version": "1.5.0",
            "_model_name": "DescriptionStyleModel",
            "_view_count": null,
            "_view_module": "@jupyter-widgets/base",
            "_view_module_version": "1.2.0",
            "_view_name": "StyleView",
            "description_width": ""
          }
        },
        "9cc6e386cef34ddc81547de04e234a2d": {
          "model_module": "@jupyter-widgets/base",
          "model_name": "LayoutModel",
          "model_module_version": "1.2.0",
          "state": {
            "_model_module": "@jupyter-widgets/base",
            "_model_module_version": "1.2.0",
            "_model_name": "LayoutModel",
            "_view_count": null,
            "_view_module": "@jupyter-widgets/base",
            "_view_module_version": "1.2.0",
            "_view_name": "LayoutView",
            "align_content": null,
            "align_items": null,
            "align_self": null,
            "border": null,
            "bottom": null,
            "display": null,
            "flex": null,
            "flex_flow": null,
            "grid_area": null,
            "grid_auto_columns": null,
            "grid_auto_flow": null,
            "grid_auto_rows": null,
            "grid_column": null,
            "grid_gap": null,
            "grid_row": null,
            "grid_template_areas": null,
            "grid_template_columns": null,
            "grid_template_rows": null,
            "height": null,
            "justify_content": null,
            "justify_items": null,
            "left": null,
            "margin": null,
            "max_height": null,
            "max_width": null,
            "min_height": null,
            "min_width": null,
            "object_fit": null,
            "object_position": null,
            "order": null,
            "overflow": null,
            "overflow_x": null,
            "overflow_y": null,
            "padding": null,
            "right": null,
            "top": null,
            "visibility": null,
            "width": null
          }
        },
        "215dc1c3cfda42dba4838748a7f6dab5": {
          "model_module": "@jupyter-widgets/controls",
          "model_name": "ProgressStyleModel",
          "model_module_version": "1.5.0",
          "state": {
            "_model_module": "@jupyter-widgets/controls",
            "_model_module_version": "1.5.0",
            "_model_name": "ProgressStyleModel",
            "_view_count": null,
            "_view_module": "@jupyter-widgets/base",
            "_view_module_version": "1.2.0",
            "_view_name": "StyleView",
            "bar_color": null,
            "description_width": ""
          }
        },
        "68235b1196aa48b4a0f2b9ded4a34267": {
          "model_module": "@jupyter-widgets/base",
          "model_name": "LayoutModel",
          "model_module_version": "1.2.0",
          "state": {
            "_model_module": "@jupyter-widgets/base",
            "_model_module_version": "1.2.0",
            "_model_name": "LayoutModel",
            "_view_count": null,
            "_view_module": "@jupyter-widgets/base",
            "_view_module_version": "1.2.0",
            "_view_name": "LayoutView",
            "align_content": null,
            "align_items": null,
            "align_self": null,
            "border": null,
            "bottom": null,
            "display": null,
            "flex": null,
            "flex_flow": null,
            "grid_area": null,
            "grid_auto_columns": null,
            "grid_auto_flow": null,
            "grid_auto_rows": null,
            "grid_column": null,
            "grid_gap": null,
            "grid_row": null,
            "grid_template_areas": null,
            "grid_template_columns": null,
            "grid_template_rows": null,
            "height": null,
            "justify_content": null,
            "justify_items": null,
            "left": null,
            "margin": null,
            "max_height": null,
            "max_width": null,
            "min_height": null,
            "min_width": null,
            "object_fit": null,
            "object_position": null,
            "order": null,
            "overflow": null,
            "overflow_x": null,
            "overflow_y": null,
            "padding": null,
            "right": null,
            "top": null,
            "visibility": null,
            "width": null
          }
        },
        "33a5c25afeeb4826a5b6d730b296a733": {
          "model_module": "@jupyter-widgets/controls",
          "model_name": "DescriptionStyleModel",
          "model_module_version": "1.5.0",
          "state": {
            "_model_module": "@jupyter-widgets/controls",
            "_model_module_version": "1.5.0",
            "_model_name": "DescriptionStyleModel",
            "_view_count": null,
            "_view_module": "@jupyter-widgets/base",
            "_view_module_version": "1.2.0",
            "_view_name": "StyleView",
            "description_width": ""
          }
        },
        "aa389fbc67124b9d9df4f579d4f522db": {
          "model_module": "@jupyter-widgets/controls",
          "model_name": "HBoxModel",
          "model_module_version": "1.5.0",
          "state": {
            "_dom_classes": [],
            "_model_module": "@jupyter-widgets/controls",
            "_model_module_version": "1.5.0",
            "_model_name": "HBoxModel",
            "_view_count": null,
            "_view_module": "@jupyter-widgets/controls",
            "_view_module_version": "1.5.0",
            "_view_name": "HBoxView",
            "box_style": "",
            "children": [
              "IPY_MODEL_2b9a6319182d41a2a09bc3b27ad27255",
              "IPY_MODEL_5b27e2937a2d45c789331430c7e7749e",
              "IPY_MODEL_b914dda74fff400e8ce9465f96ee1f25"
            ],
            "layout": "IPY_MODEL_15c6ef8235c04740b59d1aad2715812c"
          }
        },
        "2b9a6319182d41a2a09bc3b27ad27255": {
          "model_module": "@jupyter-widgets/controls",
          "model_name": "HTMLModel",
          "model_module_version": "1.5.0",
          "state": {
            "_dom_classes": [],
            "_model_module": "@jupyter-widgets/controls",
            "_model_module_version": "1.5.0",
            "_model_name": "HTMLModel",
            "_view_count": null,
            "_view_module": "@jupyter-widgets/controls",
            "_view_module_version": "1.5.0",
            "_view_name": "HTMLView",
            "description": "",
            "description_tooltip": null,
            "layout": "IPY_MODEL_3440e236c2154f03910a3b14c1c63a80",
            "placeholder": "​",
            "style": "IPY_MODEL_7b7bb99af1b74d6ea4b817a495dee3b4",
            "value": "Downloading pytorch_model.bin: 100%"
          }
        },
        "5b27e2937a2d45c789331430c7e7749e": {
          "model_module": "@jupyter-widgets/controls",
          "model_name": "FloatProgressModel",
          "model_module_version": "1.5.0",
          "state": {
            "_dom_classes": [],
            "_model_module": "@jupyter-widgets/controls",
            "_model_module_version": "1.5.0",
            "_model_name": "FloatProgressModel",
            "_view_count": null,
            "_view_module": "@jupyter-widgets/controls",
            "_view_module_version": "1.5.0",
            "_view_name": "ProgressView",
            "bar_style": "success",
            "description": "",
            "description_tooltip": null,
            "layout": "IPY_MODEL_5e142134d7454410b053e61d74c86e48",
            "max": 891691430,
            "min": 0,
            "orientation": "horizontal",
            "style": "IPY_MODEL_a8204891e3d44d639c210102944a089b",
            "value": 891691430
          }
        },
        "b914dda74fff400e8ce9465f96ee1f25": {
          "model_module": "@jupyter-widgets/controls",
          "model_name": "HTMLModel",
          "model_module_version": "1.5.0",
          "state": {
            "_dom_classes": [],
            "_model_module": "@jupyter-widgets/controls",
            "_model_module_version": "1.5.0",
            "_model_name": "HTMLModel",
            "_view_count": null,
            "_view_module": "@jupyter-widgets/controls",
            "_view_module_version": "1.5.0",
            "_view_name": "HTMLView",
            "description": "",
            "description_tooltip": null,
            "layout": "IPY_MODEL_2138e48a772a45baa427d2203ee01f61",
            "placeholder": "​",
            "style": "IPY_MODEL_147267809a1142768b3fb58a2cb5cbea",
            "value": " 892M/892M [00:03&lt;00:00, 280MB/s]"
          }
        },
        "15c6ef8235c04740b59d1aad2715812c": {
          "model_module": "@jupyter-widgets/base",
          "model_name": "LayoutModel",
          "model_module_version": "1.2.0",
          "state": {
            "_model_module": "@jupyter-widgets/base",
            "_model_module_version": "1.2.0",
            "_model_name": "LayoutModel",
            "_view_count": null,
            "_view_module": "@jupyter-widgets/base",
            "_view_module_version": "1.2.0",
            "_view_name": "LayoutView",
            "align_content": null,
            "align_items": null,
            "align_self": null,
            "border": null,
            "bottom": null,
            "display": null,
            "flex": null,
            "flex_flow": null,
            "grid_area": null,
            "grid_auto_columns": null,
            "grid_auto_flow": null,
            "grid_auto_rows": null,
            "grid_column": null,
            "grid_gap": null,
            "grid_row": null,
            "grid_template_areas": null,
            "grid_template_columns": null,
            "grid_template_rows": null,
            "height": null,
            "justify_content": null,
            "justify_items": null,
            "left": null,
            "margin": null,
            "max_height": null,
            "max_width": null,
            "min_height": null,
            "min_width": null,
            "object_fit": null,
            "object_position": null,
            "order": null,
            "overflow": null,
            "overflow_x": null,
            "overflow_y": null,
            "padding": null,
            "right": null,
            "top": null,
            "visibility": null,
            "width": null
          }
        },
        "3440e236c2154f03910a3b14c1c63a80": {
          "model_module": "@jupyter-widgets/base",
          "model_name": "LayoutModel",
          "model_module_version": "1.2.0",
          "state": {
            "_model_module": "@jupyter-widgets/base",
            "_model_module_version": "1.2.0",
            "_model_name": "LayoutModel",
            "_view_count": null,
            "_view_module": "@jupyter-widgets/base",
            "_view_module_version": "1.2.0",
            "_view_name": "LayoutView",
            "align_content": null,
            "align_items": null,
            "align_self": null,
            "border": null,
            "bottom": null,
            "display": null,
            "flex": null,
            "flex_flow": null,
            "grid_area": null,
            "grid_auto_columns": null,
            "grid_auto_flow": null,
            "grid_auto_rows": null,
            "grid_column": null,
            "grid_gap": null,
            "grid_row": null,
            "grid_template_areas": null,
            "grid_template_columns": null,
            "grid_template_rows": null,
            "height": null,
            "justify_content": null,
            "justify_items": null,
            "left": null,
            "margin": null,
            "max_height": null,
            "max_width": null,
            "min_height": null,
            "min_width": null,
            "object_fit": null,
            "object_position": null,
            "order": null,
            "overflow": null,
            "overflow_x": null,
            "overflow_y": null,
            "padding": null,
            "right": null,
            "top": null,
            "visibility": null,
            "width": null
          }
        },
        "7b7bb99af1b74d6ea4b817a495dee3b4": {
          "model_module": "@jupyter-widgets/controls",
          "model_name": "DescriptionStyleModel",
          "model_module_version": "1.5.0",
          "state": {
            "_model_module": "@jupyter-widgets/controls",
            "_model_module_version": "1.5.0",
            "_model_name": "DescriptionStyleModel",
            "_view_count": null,
            "_view_module": "@jupyter-widgets/base",
            "_view_module_version": "1.2.0",
            "_view_name": "StyleView",
            "description_width": ""
          }
        },
        "5e142134d7454410b053e61d74c86e48": {
          "model_module": "@jupyter-widgets/base",
          "model_name": "LayoutModel",
          "model_module_version": "1.2.0",
          "state": {
            "_model_module": "@jupyter-widgets/base",
            "_model_module_version": "1.2.0",
            "_model_name": "LayoutModel",
            "_view_count": null,
            "_view_module": "@jupyter-widgets/base",
            "_view_module_version": "1.2.0",
            "_view_name": "LayoutView",
            "align_content": null,
            "align_items": null,
            "align_self": null,
            "border": null,
            "bottom": null,
            "display": null,
            "flex": null,
            "flex_flow": null,
            "grid_area": null,
            "grid_auto_columns": null,
            "grid_auto_flow": null,
            "grid_auto_rows": null,
            "grid_column": null,
            "grid_gap": null,
            "grid_row": null,
            "grid_template_areas": null,
            "grid_template_columns": null,
            "grid_template_rows": null,
            "height": null,
            "justify_content": null,
            "justify_items": null,
            "left": null,
            "margin": null,
            "max_height": null,
            "max_width": null,
            "min_height": null,
            "min_width": null,
            "object_fit": null,
            "object_position": null,
            "order": null,
            "overflow": null,
            "overflow_x": null,
            "overflow_y": null,
            "padding": null,
            "right": null,
            "top": null,
            "visibility": null,
            "width": null
          }
        },
        "a8204891e3d44d639c210102944a089b": {
          "model_module": "@jupyter-widgets/controls",
          "model_name": "ProgressStyleModel",
          "model_module_version": "1.5.0",
          "state": {
            "_model_module": "@jupyter-widgets/controls",
            "_model_module_version": "1.5.0",
            "_model_name": "ProgressStyleModel",
            "_view_count": null,
            "_view_module": "@jupyter-widgets/base",
            "_view_module_version": "1.2.0",
            "_view_name": "StyleView",
            "bar_color": null,
            "description_width": ""
          }
        },
        "2138e48a772a45baa427d2203ee01f61": {
          "model_module": "@jupyter-widgets/base",
          "model_name": "LayoutModel",
          "model_module_version": "1.2.0",
          "state": {
            "_model_module": "@jupyter-widgets/base",
            "_model_module_version": "1.2.0",
            "_model_name": "LayoutModel",
            "_view_count": null,
            "_view_module": "@jupyter-widgets/base",
            "_view_module_version": "1.2.0",
            "_view_name": "LayoutView",
            "align_content": null,
            "align_items": null,
            "align_self": null,
            "border": null,
            "bottom": null,
            "display": null,
            "flex": null,
            "flex_flow": null,
            "grid_area": null,
            "grid_auto_columns": null,
            "grid_auto_flow": null,
            "grid_auto_rows": null,
            "grid_column": null,
            "grid_gap": null,
            "grid_row": null,
            "grid_template_areas": null,
            "grid_template_columns": null,
            "grid_template_rows": null,
            "height": null,
            "justify_content": null,
            "justify_items": null,
            "left": null,
            "margin": null,
            "max_height": null,
            "max_width": null,
            "min_height": null,
            "min_width": null,
            "object_fit": null,
            "object_position": null,
            "order": null,
            "overflow": null,
            "overflow_x": null,
            "overflow_y": null,
            "padding": null,
            "right": null,
            "top": null,
            "visibility": null,
            "width": null
          }
        },
        "147267809a1142768b3fb58a2cb5cbea": {
          "model_module": "@jupyter-widgets/controls",
          "model_name": "DescriptionStyleModel",
          "model_module_version": "1.5.0",
          "state": {
            "_model_module": "@jupyter-widgets/controls",
            "_model_module_version": "1.5.0",
            "_model_name": "DescriptionStyleModel",
            "_view_count": null,
            "_view_module": "@jupyter-widgets/base",
            "_view_module_version": "1.2.0",
            "_view_name": "StyleView",
            "description_width": ""
          }
        },
        "b899d6f84ed6420495f89b1b7698caa3": {
          "model_module": "@jupyter-widgets/controls",
          "model_name": "HBoxModel",
          "model_module_version": "1.5.0",
          "state": {
            "_dom_classes": [],
            "_model_module": "@jupyter-widgets/controls",
            "_model_module_version": "1.5.0",
            "_model_name": "HBoxModel",
            "_view_count": null,
            "_view_module": "@jupyter-widgets/controls",
            "_view_module_version": "1.5.0",
            "_view_name": "HBoxView",
            "box_style": "",
            "children": [
              "IPY_MODEL_d8dcf4f151294a3abf705290e548d4f2",
              "IPY_MODEL_773d2669f7634017861e415f4f5e1a9f",
              "IPY_MODEL_83e5534990e540c39388da135e4f735c"
            ],
            "layout": "IPY_MODEL_2547233f223942c5823ffcbb60219465"
          }
        },
        "d8dcf4f151294a3abf705290e548d4f2": {
          "model_module": "@jupyter-widgets/controls",
          "model_name": "HTMLModel",
          "model_module_version": "1.5.0",
          "state": {
            "_dom_classes": [],
            "_model_module": "@jupyter-widgets/controls",
            "_model_module_version": "1.5.0",
            "_model_name": "HTMLModel",
            "_view_count": null,
            "_view_module": "@jupyter-widgets/controls",
            "_view_module_version": "1.5.0",
            "_view_name": "HTMLView",
            "description": "",
            "description_tooltip": null,
            "layout": "IPY_MODEL_07bc725bfd23452a8663696daf1e1dbb",
            "placeholder": "​",
            "style": "IPY_MODEL_e4fbd1d1b88c4f3e9db39a08e41a2be9",
            "value": "Downloading (…)neration_config.json: 100%"
          }
        },
        "773d2669f7634017861e415f4f5e1a9f": {
          "model_module": "@jupyter-widgets/controls",
          "model_name": "FloatProgressModel",
          "model_module_version": "1.5.0",
          "state": {
            "_dom_classes": [],
            "_model_module": "@jupyter-widgets/controls",
            "_model_module_version": "1.5.0",
            "_model_name": "FloatProgressModel",
            "_view_count": null,
            "_view_module": "@jupyter-widgets/controls",
            "_view_module_version": "1.5.0",
            "_view_name": "ProgressView",
            "bar_style": "success",
            "description": "",
            "description_tooltip": null,
            "layout": "IPY_MODEL_2968b2755e1748a3847dd199e0e5185a",
            "max": 147,
            "min": 0,
            "orientation": "horizontal",
            "style": "IPY_MODEL_e22102fd1a184159a586b031fc843078",
            "value": 147
          }
        },
        "83e5534990e540c39388da135e4f735c": {
          "model_module": "@jupyter-widgets/controls",
          "model_name": "HTMLModel",
          "model_module_version": "1.5.0",
          "state": {
            "_dom_classes": [],
            "_model_module": "@jupyter-widgets/controls",
            "_model_module_version": "1.5.0",
            "_model_name": "HTMLModel",
            "_view_count": null,
            "_view_module": "@jupyter-widgets/controls",
            "_view_module_version": "1.5.0",
            "_view_name": "HTMLView",
            "description": "",
            "description_tooltip": null,
            "layout": "IPY_MODEL_a2e7e6fb17274c66b568e78d483aa0f1",
            "placeholder": "​",
            "style": "IPY_MODEL_98b91a85d0114233a6c006b4625c579e",
            "value": " 147/147 [00:00&lt;00:00, 7.86kB/s]"
          }
        },
        "2547233f223942c5823ffcbb60219465": {
          "model_module": "@jupyter-widgets/base",
          "model_name": "LayoutModel",
          "model_module_version": "1.2.0",
          "state": {
            "_model_module": "@jupyter-widgets/base",
            "_model_module_version": "1.2.0",
            "_model_name": "LayoutModel",
            "_view_count": null,
            "_view_module": "@jupyter-widgets/base",
            "_view_module_version": "1.2.0",
            "_view_name": "LayoutView",
            "align_content": null,
            "align_items": null,
            "align_self": null,
            "border": null,
            "bottom": null,
            "display": null,
            "flex": null,
            "flex_flow": null,
            "grid_area": null,
            "grid_auto_columns": null,
            "grid_auto_flow": null,
            "grid_auto_rows": null,
            "grid_column": null,
            "grid_gap": null,
            "grid_row": null,
            "grid_template_areas": null,
            "grid_template_columns": null,
            "grid_template_rows": null,
            "height": null,
            "justify_content": null,
            "justify_items": null,
            "left": null,
            "margin": null,
            "max_height": null,
            "max_width": null,
            "min_height": null,
            "min_width": null,
            "object_fit": null,
            "object_position": null,
            "order": null,
            "overflow": null,
            "overflow_x": null,
            "overflow_y": null,
            "padding": null,
            "right": null,
            "top": null,
            "visibility": null,
            "width": null
          }
        },
        "07bc725bfd23452a8663696daf1e1dbb": {
          "model_module": "@jupyter-widgets/base",
          "model_name": "LayoutModel",
          "model_module_version": "1.2.0",
          "state": {
            "_model_module": "@jupyter-widgets/base",
            "_model_module_version": "1.2.0",
            "_model_name": "LayoutModel",
            "_view_count": null,
            "_view_module": "@jupyter-widgets/base",
            "_view_module_version": "1.2.0",
            "_view_name": "LayoutView",
            "align_content": null,
            "align_items": null,
            "align_self": null,
            "border": null,
            "bottom": null,
            "display": null,
            "flex": null,
            "flex_flow": null,
            "grid_area": null,
            "grid_auto_columns": null,
            "grid_auto_flow": null,
            "grid_auto_rows": null,
            "grid_column": null,
            "grid_gap": null,
            "grid_row": null,
            "grid_template_areas": null,
            "grid_template_columns": null,
            "grid_template_rows": null,
            "height": null,
            "justify_content": null,
            "justify_items": null,
            "left": null,
            "margin": null,
            "max_height": null,
            "max_width": null,
            "min_height": null,
            "min_width": null,
            "object_fit": null,
            "object_position": null,
            "order": null,
            "overflow": null,
            "overflow_x": null,
            "overflow_y": null,
            "padding": null,
            "right": null,
            "top": null,
            "visibility": null,
            "width": null
          }
        },
        "e4fbd1d1b88c4f3e9db39a08e41a2be9": {
          "model_module": "@jupyter-widgets/controls",
          "model_name": "DescriptionStyleModel",
          "model_module_version": "1.5.0",
          "state": {
            "_model_module": "@jupyter-widgets/controls",
            "_model_module_version": "1.5.0",
            "_model_name": "DescriptionStyleModel",
            "_view_count": null,
            "_view_module": "@jupyter-widgets/base",
            "_view_module_version": "1.2.0",
            "_view_name": "StyleView",
            "description_width": ""
          }
        },
        "2968b2755e1748a3847dd199e0e5185a": {
          "model_module": "@jupyter-widgets/base",
          "model_name": "LayoutModel",
          "model_module_version": "1.2.0",
          "state": {
            "_model_module": "@jupyter-widgets/base",
            "_model_module_version": "1.2.0",
            "_model_name": "LayoutModel",
            "_view_count": null,
            "_view_module": "@jupyter-widgets/base",
            "_view_module_version": "1.2.0",
            "_view_name": "LayoutView",
            "align_content": null,
            "align_items": null,
            "align_self": null,
            "border": null,
            "bottom": null,
            "display": null,
            "flex": null,
            "flex_flow": null,
            "grid_area": null,
            "grid_auto_columns": null,
            "grid_auto_flow": null,
            "grid_auto_rows": null,
            "grid_column": null,
            "grid_gap": null,
            "grid_row": null,
            "grid_template_areas": null,
            "grid_template_columns": null,
            "grid_template_rows": null,
            "height": null,
            "justify_content": null,
            "justify_items": null,
            "left": null,
            "margin": null,
            "max_height": null,
            "max_width": null,
            "min_height": null,
            "min_width": null,
            "object_fit": null,
            "object_position": null,
            "order": null,
            "overflow": null,
            "overflow_x": null,
            "overflow_y": null,
            "padding": null,
            "right": null,
            "top": null,
            "visibility": null,
            "width": null
          }
        },
        "e22102fd1a184159a586b031fc843078": {
          "model_module": "@jupyter-widgets/controls",
          "model_name": "ProgressStyleModel",
          "model_module_version": "1.5.0",
          "state": {
            "_model_module": "@jupyter-widgets/controls",
            "_model_module_version": "1.5.0",
            "_model_name": "ProgressStyleModel",
            "_view_count": null,
            "_view_module": "@jupyter-widgets/base",
            "_view_module_version": "1.2.0",
            "_view_name": "StyleView",
            "bar_color": null,
            "description_width": ""
          }
        },
        "a2e7e6fb17274c66b568e78d483aa0f1": {
          "model_module": "@jupyter-widgets/base",
          "model_name": "LayoutModel",
          "model_module_version": "1.2.0",
          "state": {
            "_model_module": "@jupyter-widgets/base",
            "_model_module_version": "1.2.0",
            "_model_name": "LayoutModel",
            "_view_count": null,
            "_view_module": "@jupyter-widgets/base",
            "_view_module_version": "1.2.0",
            "_view_name": "LayoutView",
            "align_content": null,
            "align_items": null,
            "align_self": null,
            "border": null,
            "bottom": null,
            "display": null,
            "flex": null,
            "flex_flow": null,
            "grid_area": null,
            "grid_auto_columns": null,
            "grid_auto_flow": null,
            "grid_auto_rows": null,
            "grid_column": null,
            "grid_gap": null,
            "grid_row": null,
            "grid_template_areas": null,
            "grid_template_columns": null,
            "grid_template_rows": null,
            "height": null,
            "justify_content": null,
            "justify_items": null,
            "left": null,
            "margin": null,
            "max_height": null,
            "max_width": null,
            "min_height": null,
            "min_width": null,
            "object_fit": null,
            "object_position": null,
            "order": null,
            "overflow": null,
            "overflow_x": null,
            "overflow_y": null,
            "padding": null,
            "right": null,
            "top": null,
            "visibility": null,
            "width": null
          }
        },
        "98b91a85d0114233a6c006b4625c579e": {
          "model_module": "@jupyter-widgets/controls",
          "model_name": "DescriptionStyleModel",
          "model_module_version": "1.5.0",
          "state": {
            "_model_module": "@jupyter-widgets/controls",
            "_model_module_version": "1.5.0",
            "_model_name": "DescriptionStyleModel",
            "_view_count": null,
            "_view_module": "@jupyter-widgets/base",
            "_view_module_version": "1.2.0",
            "_view_name": "StyleView",
            "description_width": ""
          }
        }
      }
    }
  },
  "nbformat": 4,
  "nbformat_minor": 5
}