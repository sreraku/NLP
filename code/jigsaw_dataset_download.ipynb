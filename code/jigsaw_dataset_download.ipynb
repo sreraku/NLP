{
 "cells": [
  {
   "cell_type": "code",
   "execution_count": 3,
   "metadata": {
    "id": "gSS2EUkz2hyA"
   },
   "outputs": [],
   "source": [
    "! pip install -q kaggle"
   ]
  },
  {
   "cell_type": "code",
   "execution_count": 4,
   "metadata": {
    "colab": {
     "base_uri": "https://localhost:8080/"
    },
    "id": "XaSgYHPV29Hz",
    "outputId": "c3fc7d1c-2e61-496f-d89f-b26fef094f8c"
   },
   "outputs": [
    {
     "name": "stdout",
     "output_type": "stream",
     "text": [
      "Writing kaggle.json\n"
     ]
    }
   ],
   "source": [
    "%%writefile kaggle.json\n",
    "{\"username\":\"xxx\",\"key\":\"9999999\"}"
   ]
  },
  {
   "cell_type": "code",
   "execution_count": 5,
   "metadata": {
    "id": "TNs_krxa3rCl"
   },
   "outputs": [],
   "source": [
    "! mkdir ~/.kaggle\n",
    "! cp kaggle.json ~/.kaggle/\n",
    "! chmod 600 ~/.kaggle/kaggle.json"
   ]
  },
  {
   "cell_type": "code",
   "execution_count": 6,
   "metadata": {
    "colab": {
     "base_uri": "https://localhost:8080/"
    },
    "id": "Fxcrj7Xf32H8",
    "outputId": "e2529136-ea1f-427a-975c-57e81c4bbebc"
   },
   "outputs": [
    {
     "name": "stdout",
     "output_type": "stream",
     "text": [
      "ref                                                        title                                        size  lastUpdated          downloadCount  voteCount  usabilityRating  \n",
      "---------------------------------------------------------  ------------------------------------------  -----  -------------------  -------------  ---------  ---------------  \n",
      "themrityunjaypathak/covid-cases-and-deaths-worldwide       Covid Cases and Deaths WorldWide              8KB  2023-02-01 12:22:51           9735        324  1.0              \n",
      "datascientistanna/customers-dataset                        Shop Customer Data                           23KB  2023-02-07 18:42:21           8208        201  1.0              \n",
      "justin2028/unemployment-in-america-per-us-state            Unemployment in America, Per US State       826KB  2023-03-02 07:26:03            699         42  1.0              \n",
      "anas123siddiqui/mobiles                                    Mobiles                                      59KB  2023-02-18 16:37:24           1311         41  1.0              \n",
      "amaanansari09/top-100-songs                                Top 100 songs                                 6KB  2023-02-16 18:55:35           2586         82  1.0              \n",
      "thedevastator/airbnb-prices-in-european-cities             Airbnb Prices in European Cities              4MB  2023-02-20 09:48:04           2712         58  1.0              \n",
      "rkiattisak/salaly-prediction-for-beginer                   Salary prediction for beginner                3KB  2023-03-07 02:45:11            324         27  1.0              \n",
      "nikhilmahajan29/crop-production-statistics-india           Crop Production Statistics - India            3MB  2023-02-28 18:45:13            857         31  1.0              \n",
      "rajugc/imdb-top-250-movies-dataset                         IMDB Top 250 Movies Dataset                  52KB  2023-02-11 16:02:01           3438         80  1.0              \n",
      "karkavelrajaj/amazon-sales-dataset                         Amazon Sales Dataset                          2MB  2023-01-17 06:21:15          10486        152  1.0              \n",
      "ulrikthygepedersen/mushroom-attributes                     Mushroom Attributes                          58KB  2023-02-10 08:58:02            824         28  1.0              \n",
      "rajkumarpandey02/countries-by-carbon-dioxide-emissions     Countries by Carbon Dioxide Emissions.        7KB  2023-02-25 17:51:36            867         35  1.0              \n",
      "shrikrishnaparab/forbes-billionaires-and-companies-2022    Forbes Billionaires and Companies 2022      735KB  2023-02-17 06:15:43            838         22  1.0              \n",
      "niraliivaghani/chatbot-dataset                             Chatbot dataset                               5KB  2023-02-19 05:49:34            975         34  1.0              \n",
      "thedevastator/bigmart-product-sales-factors                BigMart Product Sales Factors               367KB  2023-02-10 10:36:55            905         27  0.88235295       \n",
      "warcoder/earthquake-dataset                                Earthquake dataset                           35KB  2023-02-26 09:59:04            765         31  1.0              \n",
      "belayethossainds/the-worlds-billionaires-dataset-19872022  The World's Billionaires Dataset 1987~2022    5KB  2023-02-23 07:14:19            535         28  1.0              \n",
      "thedevastator/domestic-food-prices-after-covid-19          Domestic Food Prices After COVID-19           1MB  2023-02-13 01:45:15           2418         45  1.0              \n",
      "warcoder/dog-breeds-details                                Dog breeds details                            3KB  2023-03-02 14:01:08            677         29  0.9411765        \n",
      "dansbecker/melbourne-housing-snapshot                      Melbourne Housing Snapshot                  451KB  2018-06-05 12:52:24         109032       1222  0.7058824        \n"
     ]
    }
   ],
   "source": [
    "! kaggle datasets list"
   ]
  },
  {
   "cell_type": "code",
   "execution_count": 7,
   "metadata": {
    "colab": {
     "base_uri": "https://localhost:8080/"
    },
    "id": "almoAvRo4M1D",
    "outputId": "95f264bc-b7b5-4662-d116-89cd6d437755"
   },
   "outputs": [
    {
     "name": "stdout",
     "output_type": "stream",
     "text": [
      "Downloading jigsaw-unintended-bias-in-toxicity-classification.zip to /content\n",
      "100% 720M/723M [00:31<00:00, 27.3MB/s]\n",
      "100% 723M/723M [00:31<00:00, 24.0MB/s]\n"
     ]
    }
   ],
   "source": [
    "!kaggle competitions download -c jigsaw-unintended-bias-in-toxicity-classification"
   ]
  },
  {
   "cell_type": "code",
   "execution_count": 8,
   "metadata": {
    "colab": {
     "base_uri": "https://localhost:8080/"
    },
    "id": "3SBbpNP74Wz3",
    "outputId": "d999fee9-8df7-4e42-e99f-1299690dc99c"
   },
   "outputs": [
    {
     "name": "stdout",
     "output_type": "stream",
     "text": [
      "Archive:  jigsaw-unintended-bias-in-toxicity-classification.zip\n",
      "  inflating: data/all_data.csv       \n",
      "  inflating: data/identity_individual_annotations.csv  \n",
      "  inflating: data/sample_submission.csv  \n",
      "  inflating: data/test.csv           \n",
      "  inflating: data/test_private_expanded.csv  \n",
      "  inflating: data/test_public_expanded.csv  \n",
      "  inflating: data/toxicity_individual_annotations.csv  \n",
      "  inflating: data/train.csv          \n"
     ]
    }
   ],
   "source": [
    "mkdir ../data\n",
    "!unzip jigsaw-unintended-bias-in-toxicity-classification.zip -d ../data"
   ]
  },
  {
   "cell_type": "code",
   "execution_count": 9,
   "metadata": {
    "colab": {
     "base_uri": "https://localhost:8080/"
    },
    "id": "Z5Ft8Em-1wy8",
    "outputId": "d38e047a-748e-4e6b-ce3c-b21b30229373"
   },
   "outputs": [
    {
     "name": "stdout",
     "output_type": "stream",
     "text": [
      "total 2320192\n",
      "drwxr-xr-x 2 root root      4096 Mar  9 05:31 .\n",
      "drwxr-xr-x 1 root root      4096 Mar  9 05:31 ..\n",
      "-rw-r--r-- 1 root root 916052376 Jul 16  2020 all_data.csv\n",
      "-rw-r--r-- 1 root root 106388260 Jul 16  2020 identity_individual_annotations.csv\n",
      "-rw-r--r-- 1 root root   1167854 Jul 16  2020 sample_submission.csv\n",
      "-rw-r--r-- 1 root root  29925195 Jul 16  2020 test.csv\n",
      "-rw-r--r-- 1 root root  44107259 Jul 16  2020 test_private_expanded.csv\n",
      "-rw-r--r-- 1 root root  44336246 Jul 16  2020 test_public_expanded.csv\n",
      "-rw-r--r-- 1 root root 417648663 Jul 16  2020 toxicity_individual_annotations.csv\n",
      "-rw-r--r-- 1 root root 816211476 Jul 16  2020 train.csv\n"
     ]
    }
   ],
   "source": [
    "!ls -la ../data"
   ]
  },
  {
   "cell_type": "code",
   "execution_count": null,
   "metadata": {},
   "outputs": [],
   "source": [
    "!rm -rf jigsaw-unintended-bias-in-toxicity-classification.zip\n",
    "!rm -rf ../test*\n",
    "!rm -rf ../sample*\n",
    "!rm -rf ../all*\n",
    "!rm -rf ../identity*\n",
    "!rm -rf ../toxicity*"
   ]
  }
 ],
 "metadata": {
  "colab": {
   "provenance": []
  },
  "kernelspec": {
   "display_name": "Python 3 (ipykernel)",
   "language": "python",
   "name": "python3"
  },
  "language_info": {
   "codemirror_mode": {
    "name": "ipython",
    "version": 3
   },
   "file_extension": ".py",
   "mimetype": "text/x-python",
   "name": "python",
   "nbconvert_exporter": "python",
   "pygments_lexer": "ipython3",
   "version": "3.9.13"
  }
 },
 "nbformat": 4,
 "nbformat_minor": 1
}
