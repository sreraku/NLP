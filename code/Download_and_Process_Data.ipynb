{
  "cells": [
    {
      "cell_type": "markdown",
      "id": "e9769fde",
      "metadata": {
        "id": "e9769fde"
      },
      "source": [
        "## Download and Process data\n",
        "\n",
        "https://www.kaggle.com/c/jigsaw-unintended-bias-in-toxicity-classification\n",
        "\n",
        "<table align= \"left\">\n",
        "  <td>\n",
        "    <a target= \"_blank\" href= \"https://colab.research.google.com/github/sreraku/w266project/Download_and_Process_Data.ipynb\\\"><img src= \"https://www.tensorflow.org/images/colab_logo_32px.png\\\" />\n",
        "      Run in Google Colab\n",
        "    </a>\n",
        "  </td>\n",
        "</table>"
      ]
    },
    {
      "cell_type": "code",
      "execution_count": 1,
      "id": "1b40be78",
      "metadata": {
        "id": "1b40be78"
      },
      "outputs": [],
      "source": [
        "from google.colab import files\n",
        "import pandas as pd\n",
        "import numpy as np\n",
        "import matplotlib.pyplot as plt\n"
      ]
    },
    {
      "cell_type": "code",
      "source": [
        "!pip install -q kaggle"
      ],
      "metadata": {
        "id": "YfbXTMAZ6EI8"
      },
      "id": "YfbXTMAZ6EI8",
      "execution_count": 2,
      "outputs": []
    },
    {
      "cell_type": "code",
      "source": [
        "!mkdir ~/.kaggle"
      ],
      "metadata": {
        "id": "-3EQ6rc6Ra9o"
      },
      "id": "-3EQ6rc6Ra9o",
      "execution_count": 3,
      "outputs": []
    },
    {
      "cell_type": "markdown",
      "source": [],
      "metadata": {
        "id": "GzPvGbB7IShW"
      },
      "id": "GzPvGbB7IShW"
    },
    {
      "cell_type": "code",
      "source": [
        "%%writefile ~/.kaggle/kaggle.json\n",
        "{\"username\":\"adamhyman\",\"key\":\"5f1399e94047b5e36d32ae60863dfa95\"}\n"
      ],
      "metadata": {
        "colab": {
          "base_uri": "https://localhost:8080/"
        },
        "id": "-Lv6RTaZITg5",
        "outputId": "88c74358-93d2-4952-b36a-f0e15a9191fe"
      },
      "id": "-Lv6RTaZITg5",
      "execution_count": 4,
      "outputs": [
        {
          "output_type": "stream",
          "name": "stdout",
          "text": [
            "Writing /root/.kaggle/kaggle.json\n"
          ]
        }
      ]
    },
    {
      "cell_type": "code",
      "source": [
        "!chmod 600 ~/.kaggle/kaggle.json"
      ],
      "metadata": {
        "id": "z62sSk8qIU0q"
      },
      "id": "z62sSk8qIU0q",
      "execution_count": 5,
      "outputs": []
    },
    {
      "cell_type": "code",
      "source": [
        "!pwd\n"
      ],
      "metadata": {
        "colab": {
          "base_uri": "https://localhost:8080/"
        },
        "id": "RYJXhoOAIoYu",
        "outputId": "8e7c752f-51d9-4fa3-b3d2-3cbabc1eb25a"
      },
      "id": "RYJXhoOAIoYu",
      "execution_count": 6,
      "outputs": [
        {
          "output_type": "stream",
          "name": "stdout",
          "text": [
            "/content\n"
          ]
        }
      ]
    },
    {
      "cell_type": "code",
      "source": [
        "!cat ~/.kaggle/kaggle.json"
      ],
      "metadata": {
        "colab": {
          "base_uri": "https://localhost:8080/"
        },
        "id": "tl-fRTgkItL5",
        "outputId": "7e2a7bd8-2ad2-465b-a2c7-7416c03c204a"
      },
      "id": "tl-fRTgkItL5",
      "execution_count": 7,
      "outputs": [
        {
          "output_type": "stream",
          "name": "stdout",
          "text": [
            "{\"username\":\"adamhyman\",\"key\":\"5f1399e94047b5e36d32ae60863dfa95\"}\n"
          ]
        }
      ]
    },
    {
      "cell_type": "code",
      "source": [
        "\n",
        "!kaggle datasets list"
      ],
      "metadata": {
        "colab": {
          "base_uri": "https://localhost:8080/"
        },
        "id": "cXC3KlK9I7cX",
        "outputId": "4167410b-1481-489f-98d4-3c6f2ef12ee6"
      },
      "id": "cXC3KlK9I7cX",
      "execution_count": 8,
      "outputs": [
        {
          "output_type": "stream",
          "name": "stdout",
          "text": [
            "ref                                                      title                                     size  lastUpdated          downloadCount  voteCount  usabilityRating  \n",
            "-------------------------------------------------------  ---------------------------------------  -----  -------------------  -------------  ---------  ---------------  \n",
            "themrityunjaypathak/covid-cases-and-deaths-worldwide     Covid Cases and Deaths WorldWide           8KB  2023-02-01 12:22:51          11804        396  1.0              \n",
            "naveenkumar20bps1137/walmart-sales-analysis              WALMART SALES ANALYSIS                   119KB  2023-03-03 18:02:11           2128         56  0.9411765        \n",
            "datascientistanna/customers-dataset                      Shop Customer Data                        23KB  2023-02-07 18:42:21          10144        230  1.0              \n",
            "ulrikthygepedersen/co2-emissions-by-country              CO2 Emissions                            114KB  2023-02-28 12:39:49            964         30  1.0              \n",
            "amaanansari09/most-streamed-songs-all-time               Most Streamed Songs (All Time)             8KB  2023-03-08 10:56:24           1092         31  1.0              \n",
            "ulrikthygepedersen/populations                           Populations                              124KB  2023-02-28 12:43:44            736         33  1.0              \n",
            "thedevastator/airbnb-prices-in-european-cities           Airbnb Prices in European Cities           4MB  2023-02-20 09:48:04           3561         70  1.0              \n",
            "sunayanagawde/countrywise-covid-cases                    Countrywise COVID cases                    4KB  2023-02-23 15:07:35            994         24  1.0              \n",
            "amaanansari09/top-100-songs                              Top 100 songs                              6KB  2023-03-12 10:06:03           2997         91  1.0              \n",
            "rkiattisak/mobile-phone-price                            Mobile Phone Price                         5KB  2023-03-09 04:15:24            764         27  1.0              \n",
            "iabdulw/co2-emissions-uk                                 CO2 Emissions UK                          935B  2023-03-09 01:02:40            265         22  1.0              \n",
            "justin2028/unemployment-in-america-per-us-state          Unemployment in America, Per US State    826KB  2023-03-02 07:26:03           1031         49  1.0              \n",
            "cdeotte/census-data-for-godaddy                          Census Data for GoDaddy                   14MB  2023-02-21 07:59:53            984        127  0.47058824       \n",
            "rajugc/imdb-top-250-movies-dataset                       IMDB Top 250 Movies Dataset               52KB  2023-02-11 16:02:01           4031         88  1.0              \n",
            "shrikrishnaparab/forbes-billionaires-and-companies-2022  Forbes Billionaires and Companies 2022   735KB  2023-02-17 06:15:43           1276         27  1.0              \n",
            "karkavelrajaj/amazon-sales-dataset                       Amazon Sales Dataset                       2MB  2023-01-17 06:21:15          12038        173  1.0              \n",
            "warcoder/earthquake-dataset                              Earthquake dataset                        35KB  2023-02-26 09:59:04           1208         39  1.0              \n",
            "rkiattisak/salaly-prediction-for-beginer                 Salary Prediction dataset                  3KB  2023-03-07 02:45:11            705         30  1.0              \n",
            "anas123siddiqui/mobiles                                  Mobiles                                   59KB  2023-02-18 16:37:24           1712         49  1.0              \n",
            "rkiattisak/traveler-trip-data                            Traveler Trip Dataset                      4KB  2023-03-06 07:11:05            771         32  1.0              \n"
          ]
        }
      ]
    },
    {
      "cell_type": "code",
      "source": [
        "!kaggle competitions download -c jigsaw-unintended-bias-in-toxicity-classification"
      ],
      "metadata": {
        "colab": {
          "base_uri": "https://localhost:8080/"
        },
        "id": "6v4fw1PrLsZ1",
        "outputId": "c4b7e3c1-6b16-490d-cccb-b38b51aa98d5"
      },
      "id": "6v4fw1PrLsZ1",
      "execution_count": 9,
      "outputs": [
        {
          "output_type": "stream",
          "name": "stdout",
          "text": [
            "Downloading jigsaw-unintended-bias-in-toxicity-classification.zip to /content\n",
            " 98% 712M/723M [00:07<00:00, 63.9MB/s]\n",
            "100% 723M/723M [00:07<00:00, 95.1MB/s]\n"
          ]
        }
      ]
    },
    {
      "cell_type": "code",
      "source": [
        "#clean old contents of data folder\n",
        "!rm -rf ../data/*.csv\n",
        "!unzip jigsaw-unintended-bias-in-toxicity-classification.zip -d ../data"
      ],
      "metadata": {
        "colab": {
          "base_uri": "https://localhost:8080/"
        },
        "id": "cFqN3-ukL8tF",
        "outputId": "a5267ccb-17ef-494e-a269-a542ed914195"
      },
      "id": "cFqN3-ukL8tF",
      "execution_count": 10,
      "outputs": [
        {
          "output_type": "stream",
          "name": "stdout",
          "text": [
            "Archive:  jigsaw-unintended-bias-in-toxicity-classification.zip\n",
            "  inflating: ../data/all_data.csv    \n",
            "  inflating: ../data/identity_individual_annotations.csv  \n",
            "  inflating: ../data/sample_submission.csv  \n",
            "  inflating: ../data/test.csv        \n",
            "  inflating: ../data/test_private_expanded.csv  \n",
            "  inflating: ../data/test_public_expanded.csv  \n",
            "  inflating: ../data/toxicity_individual_annotations.csv  \n",
            "  inflating: ../data/train.csv       \n"
          ]
        }
      ]
    },
    {
      "cell_type": "code",
      "source": [
        "!ls -la ../data"
      ],
      "metadata": {
        "colab": {
          "base_uri": "https://localhost:8080/"
        },
        "id": "_QTYlXdjXHg8",
        "outputId": "7f7caae1-c839-40d9-c97e-5cb410e636ac"
      },
      "id": "_QTYlXdjXHg8",
      "execution_count": 11,
      "outputs": [
        {
          "output_type": "stream",
          "name": "stdout",
          "text": [
            "total 2320192\n",
            "drwxr-xr-x 2 root root      4096 Mar 14 17:14 .\n",
            "drwxr-xr-x 1 root root      4096 Mar 14 17:14 ..\n",
            "-rw-r--r-- 1 root root 916052376 Jul 16  2020 all_data.csv\n",
            "-rw-r--r-- 1 root root 106388260 Jul 16  2020 identity_individual_annotations.csv\n",
            "-rw-r--r-- 1 root root   1167854 Jul 16  2020 sample_submission.csv\n",
            "-rw-r--r-- 1 root root  29925195 Jul 16  2020 test.csv\n",
            "-rw-r--r-- 1 root root  44107259 Jul 16  2020 test_private_expanded.csv\n",
            "-rw-r--r-- 1 root root  44336246 Jul 16  2020 test_public_expanded.csv\n",
            "-rw-r--r-- 1 root root 417648663 Jul 16  2020 toxicity_individual_annotations.csv\n",
            "-rw-r--r-- 1 root root 816211476 Jul 16  2020 train.csv\n"
          ]
        }
      ]
    },
    {
      "cell_type": "code",
      "source": [
        "# To download the train data as a CSV file\n",
        "# files.download(\"../data/train.csv\")"
      ],
      "metadata": {
        "colab": {
          "base_uri": "https://localhost:8080/",
          "height": 17
        },
        "id": "19bPoMzI2v0F",
        "outputId": "e30c951f-c5d3-4f88-e421-8d2c7cb67e9f"
      },
      "id": "19bPoMzI2v0F",
      "execution_count": null,
      "outputs": [
        {
          "output_type": "display_data",
          "data": {
            "text/plain": [
              "<IPython.core.display.Javascript object>"
            ],
            "application/javascript": [
              "\n",
              "    async function download(id, filename, size) {\n",
              "      if (!google.colab.kernel.accessAllowed) {\n",
              "        return;\n",
              "      }\n",
              "      const div = document.createElement('div');\n",
              "      const label = document.createElement('label');\n",
              "      label.textContent = `Downloading \"${filename}\": `;\n",
              "      div.appendChild(label);\n",
              "      const progress = document.createElement('progress');\n",
              "      progress.max = size;\n",
              "      div.appendChild(progress);\n",
              "      document.body.appendChild(div);\n",
              "\n",
              "      const buffers = [];\n",
              "      let downloaded = 0;\n",
              "\n",
              "      const channel = await google.colab.kernel.comms.open(id);\n",
              "      // Send a message to notify the kernel that we're ready.\n",
              "      channel.send({})\n",
              "\n",
              "      for await (const message of channel.messages) {\n",
              "        // Send a message to notify the kernel that we're ready.\n",
              "        channel.send({})\n",
              "        if (message.buffers) {\n",
              "          for (const buffer of message.buffers) {\n",
              "            buffers.push(buffer);\n",
              "            downloaded += buffer.byteLength;\n",
              "            progress.value = downloaded;\n",
              "          }\n",
              "        }\n",
              "      }\n",
              "      const blob = new Blob(buffers, {type: 'application/binary'});\n",
              "      const a = document.createElement('a');\n",
              "      a.href = window.URL.createObjectURL(blob);\n",
              "      a.download = filename;\n",
              "      div.appendChild(a);\n",
              "      a.click();\n",
              "      div.remove();\n",
              "    }\n",
              "  "
            ]
          },
          "metadata": {}
        },
        {
          "output_type": "display_data",
          "data": {
            "text/plain": [
              "<IPython.core.display.Javascript object>"
            ],
            "application/javascript": [
              "download(\"download_ad2718c0-615c-49c1-9bd8-38d6cb05b25a\", \"train.csv\", 816211476)"
            ]
          },
          "metadata": {}
        }
      ]
    },
    {
      "cell_type": "code",
      "source": [
        "!ls ../data"
      ],
      "metadata": {
        "colab": {
          "base_uri": "https://localhost:8080/"
        },
        "id": "z5S_yRxCXTry",
        "outputId": "91e3f1ff-bfac-4edd-f453-cba89c5dd936"
      },
      "id": "z5S_yRxCXTry",
      "execution_count": null,
      "outputs": [
        {
          "output_type": "stream",
          "name": "stdout",
          "text": [
            "all_data.csv\t\t\t     test_private_expanded.csv\n",
            "identity_individual_annotations.csv  test_public_expanded.csv\n",
            "sample_submission.csv\t\t     toxicity_individual_annotations.csv\n",
            "test.csv\t\t\t     train.csv\n"
          ]
        }
      ]
    },
    {
      "cell_type": "code",
      "source": [
        "!head -10 ../data/all_data.csv"
      ],
      "metadata": {
        "colab": {
          "base_uri": "https://localhost:8080/"
        },
        "id": "6_hOpWjVXeaY",
        "outputId": "2c1ec23f-b237-4802-bbb8-e27ba34fdb79"
      },
      "id": "6_hOpWjVXeaY",
      "execution_count": null,
      "outputs": [
        {
          "output_type": "stream",
          "name": "stdout",
          "text": [
            "id,comment_text,split,created_date,publication_id,parent_id,article_id,rating,funny,wow,sad,likes,disagree,toxicity,severe_toxicity,obscene,sexual_explicit,identity_attack,insult,threat,male,female,transgender,other_gender,heterosexual,homosexual_gay_or_lesbian,bisexual,other_sexual_orientation,christian,jewish,muslim,hindu,buddhist,atheist,other_religion,black,white,asian,latino,other_race_or_ethnicity,physical_disability,intellectual_or_learning_disability,psychiatric_or_mental_illness,other_disability,identity_annotator_count,toxicity_annotator_count\n",
            "1083994,He got his money... now he lies in wait till after the election in 2 yrs.... dirty politicians need to be afraid of Tar and feathers again... but they aren't and so the people get screwed.,train,2017-03-06 15:21:53.675241+00,21,,317120,approved,0,0,0,2,0,0.373134328358209,0.04477611940298507,0.08955223880597014,0.01492537313432836,0.0,0.34328358208955223,0.01492537313432836,,,,,,,,,,,,,,,,,,,,,,,,,0,67\n",
            "650904,Mad dog will surely put the liberals in mental hospitals. Boorah,train,2016-12-02 16:44:21.329535+00,21,,154086,approved,0,0,1,2,0,0.6052631578947368,0.013157894736842105,0.06578947368421052,0.013157894736842105,0.09210526315789473,0.5657894736842105,0.06578947368421052,,,,,,,,,,,,,,,,,,,,,,,,,0,76\n",
            "5902188,\"And Trump continues his lifelong cowardice by not making this announcement himself.\n",
            "\n",
            "What an awful human being .....\",train,2017-09-05 19:05:32.341360+00,55,,374342,approved,1,0,2,3,7,0.6666666666666666,0.015873015873015872,0.031746031746031744,0.0,0.047619047619047616,0.6666666666666666,0.0,,,,,,,,,,,,,,,,,,,,,,,,,0,63\n",
            "7084460,\"\"\"while arresting a man for resisting arrest\"\".\n",
            "\n",
            "If you cop-suckers can't see a problem with this, then go suck the barrel of a Glock.\",test,2016-11-01 16:53:33.561631+00,13,,149218,approved,0,0,0,0,0,0.8157894736842106,0.06578947368421052,0.5526315789473685,0.5921052631578946,0.0,0.6842105263157895,0.10526315789473684,,,,,,,,,,,,,,,,,,,,,,,,,0,76\n",
            "5410943,Tucker and Paul are both total bad ass mofo's.,train,2017-06-14 05:08:21.997315+00,21,,344096,approved,0,0,0,1,0,0.55,0.0375,0.3375,0.275,0.0375,0.4875,0.0,,,,,,,,,,,,,,,,,,,,,,,,,0,80\n"
          ]
        }
      ]
    },
    {
      "cell_type": "code",
      "source": [
        "!head -10 ../data/identity_individual_annotations.csv"
      ],
      "metadata": {
        "id": "EsCsRmZdXexM",
        "colab": {
          "base_uri": "https://localhost:8080/"
        },
        "outputId": "add24fa3-974f-4b67-8d6b-52fe17f12fd6"
      },
      "id": "EsCsRmZdXexM",
      "execution_count": null,
      "outputs": [
        {
          "output_type": "stream",
          "name": "stdout",
          "text": [
            "id,worker,disability,gender,race_or_ethnicity,religion,sexual_orientation\n",
            "59856,211,none,none,none,none,none\n",
            "59856,683,intellectual_or_learning none,none,none,none,none\n",
            "59856,8899,none,none,none,none,none\n",
            "59856,67,none,none,none,none,none\n",
            "239579,8900,none,none,none,none,none\n",
            "239579,1134,none,male,none,none,none\n",
            "239579,1891,none,none,none,none,none\n",
            "239579,2731,none,male,none,none,none\n",
            "239579,3914,none,male,none,none,none\n"
          ]
        }
      ]
    },
    {
      "cell_type": "code",
      "source": [
        "!head -10 ../data/sample_submission.csv"
      ],
      "metadata": {
        "colab": {
          "base_uri": "https://localhost:8080/"
        },
        "id": "deXzKfEdTjIv",
        "outputId": "4a91db06-89ac-42ba-a56a-1a97f2bda229"
      },
      "id": "deXzKfEdTjIv",
      "execution_count": null,
      "outputs": [
        {
          "output_type": "stream",
          "name": "stdout",
          "text": [
            "id,prediction\n",
            "7097320,0.0\n",
            "7097321,0.0\n",
            "7097322,0.0\n",
            "7097323,0.0\n",
            "7097324,0.0\n",
            "7097325,0.0\n",
            "7097326,0.0\n",
            "7097327,0.0\n",
            "7097328,0.0\n"
          ]
        }
      ]
    },
    {
      "cell_type": "code",
      "source": [
        "!head -10 ../data/test.csv"
      ],
      "metadata": {
        "colab": {
          "base_uri": "https://localhost:8080/"
        },
        "id": "NnhRcu6iTjaC",
        "outputId": "775e8008-f61e-4d24-e0fb-9b8d62cbb364"
      },
      "id": "NnhRcu6iTjaC",
      "execution_count": null,
      "outputs": [
        {
          "output_type": "stream",
          "name": "stdout",
          "text": [
            "id,comment_text\n",
            "7097320,\"[ Integrity means that you pay your debts.]\n",
            "\n",
            "Does this apply to President Trump too?\"\n",
            "7097321,This is malfeasance by the Administrator and the Board.  They are wasting our money!\n",
            "7097322,\"@Rmiller101 - Spoken like a true elitist. But look out bud. The re-awakening in Europe, Brexit and now the Trump victory are just the beginning. The unwashed masses are coming for you and your ilk….\"\n",
            "7097323,\"Paul: Thank you for your kind words.  I do, indeed, have strong beliefs and don't hide them.  They are based on both facts and values.  I think the question of \"\"bias\"\" and \"\"prejudice\"\" comes into play when we're discussing beliefs and attitudes based on values.  One of our poster friends,  for example, often comments that being \"\"intolerant\"\" of a bias, for example, is, in itself, a bias.  This is, IMO, where the concept of \"\"irratonal antipathy\"\" is important.  If I dislike neo-Nazis because of their views on race, my antipathy is based on fact (knowledge of their views) and values (my belief that condemning others because of their race/religion is WRONG).  Were I to, instead, dislike all Germans, that, IMO, would represent a bias...an irrational antipathy...since not all Germans condemn others because of their race/religion.  I discuss the \"\"bias\"\" question in another response to you....\n",
            "\n",
            "It's an interesting topic and I'd enjoy discussing it w/you sometime.  Give me a call.  Gary Crum\"\n",
            "7097324,Sorry you missed high school. Eisenhower sent troops to Vietnam after the French withdrew in 1954 and before that America was providing 50% of the cost of that war. WWI & WWII were won by Democrat Presidents and the last win a Republican had was 1865  but the did surrender in Korea and Vietnam and fail to win in desert Storm or these two wars.\n"
          ]
        }
      ]
    },
    {
      "cell_type": "code",
      "source": [
        "!head -10 ../data/test_private_expanded.csv"
      ],
      "metadata": {
        "colab": {
          "base_uri": "https://localhost:8080/"
        },
        "id": "0H-ByHxYTjm5",
        "outputId": "52bd19bb-ab20-4965-d27c-c66ee0b1461d"
      },
      "id": "0H-ByHxYTjm5",
      "execution_count": null,
      "outputs": [
        {
          "output_type": "stream",
          "name": "stdout",
          "text": [
            "id,comment_text,created_date,publication_id,parent_id,article_id,rating,funny,wow,sad,likes,disagree,toxicity,severe_toxicity,obscene,sexual_explicit,identity_attack,insult,threat,identity_annotator_count,toxicity_annotator_count,male,female,transgender,other_gender,heterosexual,homosexual_gay_or_lesbian,bisexual,other_sexual_orientation,christian,jewish,muslim,hindu,buddhist,atheist,other_religion,black,white,asian,latino,other_race_or_ethnicity,physical_disability,intellectual_or_learning_disability,psychiatric_or_mental_illness,other_disability\n",
            "7097320,\"[ Integrity means that you pay your debts.]\n",
            "\n",
            "Does this apply to President Trump too?\",2017-09-13 20:12:01.484121+00,21,5945023.0,376974,approved,0,0,0,1,2,0.0,0.0,0.0,0.0,0.0,0.0,0.0,0,4,,,,,,,,,,,,,,,,,,,,,,,,\n",
            "7097321,This is malfeasance by the Administrator and the Board.  They are wasting our money!,2017-05-17 07:01:51.902566+00,55,,335003,approved,0,0,0,0,0,0.1,0.0,0.0,0.0,0.0,0.1,0.0,4,10,0.0,0.0,0.0,0.0,0.0,0.0,0.0,0.0,0.0,0.0,0.0,0.0,0.0,0.0,0.0,0.0,0.0,0.0,0.0,0.0,0.0,0.0,0.0,0.0\n",
            "7097322,\"@Rmiller101 - Spoken like a true elitist. But look out bud. The re-awakening in Europe, Brexit and now the Trump victory are just the beginning. The unwashed masses are coming for you and your ilk….\",2016-12-02 17:12:12.920957+00,54,649389.0,154126,approved,0,0,0,1,0,0.30000000000000004,0.0,0.0,0.0,0.0,0.2,0.0,4,10,0.0,0.0,0.0,0.0,0.0,0.0,0.0,0.0,0.0,0.0,0.0,0.0,0.0,0.0,0.0,0.0,0.0,0.0,0.0,0.0,0.0,0.0,0.0,0.0\n",
            "7097323,\"Paul: Thank you for your kind words.  I do, indeed, have strong beliefs and don't hide them.  They are based on both facts and values.  I think the question of \"\"bias\"\" and \"\"prejudice\"\" comes into play when we're discussing beliefs and attitudes based on values.  One of our poster friends,  for example, often comments that being \"\"intolerant\"\" of a bias, for example, is, in itself, a bias.  This is, IMO, where the concept of \"\"irratonal antipathy\"\" is important.  If I dislike neo-Nazis because of their views on race, my antipathy is based on fact (knowledge of their views) and values (my belief that condemning others because of their race/religion is WRONG).  Were I to, instead, dislike all Germans, that, IMO, would represent a bias...an irrational antipathy...since not all Germans condemn others because of their race/religion.  I discuss the \"\"bias\"\" question in another response to you....\n",
            "\n",
            "It's an interesting topic and I'd enjoy discussing it w/you sometime.  Give me a call.  Gary Crum\",2017-04-21 14:58:05.474657+00,13,5158666.0,328376,approved,0,0,0,0,0,0.0,0.0,0.0,0.0,0.0,0.0,0.0,0,4,,,,,,,,,,,,,,,,,,,,,,,,\n",
            "7097324,Sorry you missed high school. Eisenhower sent troops to Vietnam after the French withdrew in 1954 and before that America was providing 50% of the cost of that war. WWI & WWII were won by Democrat Presidents and the last win a Republican had was 1865  but the did surrender in Korea and Vietnam and fail to win in desert Storm or these two wars.,2017-10-01 19:43:12.373229+00,102,6061626.0,383983,approved,1,0,0,1,0,0.0,0.0,0.0,0.0,0.0,0.0,0.0,0,4,,,,,,,,,,,,,,,,,,,,,,,,\n"
          ]
        }
      ]
    },
    {
      "cell_type": "code",
      "source": [
        "!head -10 ../data/test_public_expanded.csv"
      ],
      "metadata": {
        "colab": {
          "base_uri": "https://localhost:8080/"
        },
        "id": "DFlnJgv8Tj7s",
        "outputId": "ca07f520-fab8-40c4-b4b1-93c09ceb9fc4"
      },
      "id": "DFlnJgv8Tj7s",
      "execution_count": null,
      "outputs": [
        {
          "output_type": "stream",
          "name": "stdout",
          "text": [
            "id,comment_text,created_date,publication_id,parent_id,article_id,rating,funny,wow,sad,likes,disagree,toxicity,severe_toxicity,obscene,sexual_explicit,identity_attack,insult,threat,identity_annotator_count,toxicity_annotator_count,male,female,transgender,other_gender,heterosexual,homosexual_gay_or_lesbian,bisexual,other_sexual_orientation,christian,jewish,muslim,hindu,buddhist,atheist,other_religion,black,white,asian,latino,other_race_or_ethnicity,physical_disability,intellectual_or_learning_disability,psychiatric_or_mental_illness,other_disability\n",
            "7000000,Jeff Sessions is another one of Trump's Orwellian choices. He believes and has believed his entire career the exact opposite of what the position requires.,2017-01-26 07:37:38.422417+00,13,,164149,approved,0,0,0,4,0,0.2,0.0,0.0,0.0,0.0,0.2,0.0,0,5,,,,,,,,,,,,,,,,,,,,,,,,\n",
            "7000001,\"I actually inspected the infrastructure on Grand Chief Stewart Philip's home Penticton First Nation in both 2010 and 2013.  Exactly Zero projects that had been identified in previous inspection reports had been funded by the federal government, and the entire band was housed in ATCO trailers.  Clearly the Harper Conservatives had already reduced the cash his band was sent to zero.\",2016-12-03 20:38:21.204649+00,54,655260.0,154341,approved,0,0,0,2,4,0.0,0.0,0.0,0.0,0.0,0.0,0.0,0,4,,,,,,,,,,,,,,,,,,,,,,,,\n",
            "7000002,\"No it won't . That's just wishful thinking on democrats fault .   For the 100 th time , Walker cited the cost of drug users treatment as being lost with Obamacare .  I laugh every time I hear a liberal claim republicans want to hurt people , and that's why they dumped Obamacare.\",2017-05-05 18:07:58.560078+00,21,5219683.0,332005,approved,0,0,0,0,4,0.0,0.0,0.0,0.0,0.0,0.0,0.0,0,4,,,,,,,,,,,,,,,,,,,,,,,,\n",
            "7000003,\"Instead of wringing our hands and nibbling the periphery of the issue, how about we face the actual issue head on? I would support a city ordinance against loitering, and applaud city councilors who champion a real and permanent solution.\n",
            "\n",
            "The details could be determined, but would include a limit to persons sitting, standing, lying, smoking, conversing over a certain amount of time, perhaps 10 minutes. Exceptions, of course, would be for shopping, dining, attending a licensed and approved event, etc.\n",
            "\n",
            "It is noble to provide some services for the truly needy in our community, but that, in my estimation, is a separate issue. I do not wish for my city to provide for nor encourage idle and harassing behaviors in our city core.\n",
            "\n"
          ]
        }
      ]
    },
    {
      "cell_type": "code",
      "source": [
        "!head -10 ../data/toxicity_individual_annotations.csv"
      ],
      "metadata": {
        "colab": {
          "base_uri": "https://localhost:8080/"
        },
        "id": "-Za9fEqFTkIg",
        "outputId": "9bd23f70-5de7-43b1-daa3-4d09fd79f8b4"
      },
      "id": "-Za9fEqFTkIg",
      "execution_count": null,
      "outputs": [
        {
          "output_type": "stream",
          "name": "stdout",
          "text": [
            "id,worker,toxic,severe_toxic,identity_attack,insult,obscene,sexual_explicit,threat\n",
            "59859,0,1,0,0,1,1,0,0\n",
            "59859,1,1,0,0,0,1,0,0\n",
            "59859,2,1,0,0,1,1,0,0\n",
            "59859,3,1,1,0,0,1,0,0\n",
            "59859,4,1,0,0,0,1,0,0\n",
            "59859,5,1,0,0,0,1,0,0\n",
            "59859,6,0,0,0,0,0,0,0\n",
            "59859,7,1,0,0,0,1,0,0\n",
            "59859,8,0,0,0,0,0,0,0\n"
          ]
        }
      ]
    },
    {
      "cell_type": "code",
      "source": [
        "!head -10 ../data/train.csv"
      ],
      "metadata": {
        "colab": {
          "base_uri": "https://localhost:8080/"
        },
        "id": "U8xvQXdOTkUi",
        "outputId": "e159a0a3-21df-49bd-f9bf-e65f6dda7967"
      },
      "id": "U8xvQXdOTkUi",
      "execution_count": null,
      "outputs": [
        {
          "output_type": "stream",
          "name": "stdout",
          "text": [
            "id,target,comment_text,severe_toxicity,obscene,identity_attack,insult,threat,asian,atheist,bisexual,black,buddhist,christian,female,heterosexual,hindu,homosexual_gay_or_lesbian,intellectual_or_learning_disability,jewish,latino,male,muslim,other_disability,other_gender,other_race_or_ethnicity,other_religion,other_sexual_orientation,physical_disability,psychiatric_or_mental_illness,transgender,white,created_date,publication_id,parent_id,article_id,rating,funny,wow,sad,likes,disagree,sexual_explicit,identity_annotator_count,toxicity_annotator_count\n",
            "59848,0.0,\"This is so cool. It's like, 'would you want your mother to read this??' Really great idea, well done!\",0.0,0.0,0.0,0.0,0.0,,,,,,,,,,,,,,,,,,,,,,,,,2015-09-29 10:50:41.987077+00,2,,2006,rejected,0,0,0,0,0,0.0,0,4\n",
            "59849,0.0,\"Thank you!! This would make my life a lot less anxiety-inducing. Keep it up, and don't let anyone get in your way!\",0.0,0.0,0.0,0.0,0.0,,,,,,,,,,,,,,,,,,,,,,,,,2015-09-29 10:50:42.870083+00,2,,2006,rejected,0,0,0,0,0,0.0,0,4\n",
            "59852,0.0,This is such an urgent design problem; kudos to you for taking it on. Very impressive!,0.0,0.0,0.0,0.0,0.0,,,,,,,,,,,,,,,,,,,,,,,,,2015-09-29 10:50:45.222647+00,2,,2006,rejected,0,0,0,0,0,0.0,0,4\n",
            "59855,0.0,Is this something I'll be able to install on my site? When will you be releasing it?,0.0,0.0,0.0,0.0,0.0,,,,,,,,,,,,,,,,,,,,,,,,,2015-09-29 10:50:47.601894+00,2,,2006,rejected,0,0,0,0,0,0.0,0,4\n",
            "59856,0.8936170212765957,haha you guys are a bunch of losers.,0.021276595744680847,0.0,0.021276595744680847,0.8723404255319149,0.0,0.0,0.0,0.0,0.0,0.0,0.0,0.0,0.0,0.0,0.0,0.25,0.0,0.0,0.0,0.0,0.0,0.0,0.0,0.0,0.0,0.0,0.0,0.0,0.0,2015-09-29 10:50:48.488476+00,2,,2006,rejected,0,0,0,1,0,0.0,4,47\n",
            "59859,0.6666666666666666,ur a sh*tty comment.,0.047619047619047616,0.6380952380952379,0.0,0.3333333333333333,0.0,,,,,,,,,,,,,,,,,,,,,,,,,2015-09-29 10:50:50.865549+00,2,,2006,rejected,0,0,0,0,0,0.009523809523809523,0,105\n",
            "59861,0.4576271186440678,hahahahahahahahhha suck it.,0.05084745762711865,0.3050847457627119,0.0,0.2542372881355932,0.0,,,,,,,,,,,,,,,,,,,,,,,,,2015-09-29 10:50:52.451277+00,2,,2006,rejected,0,0,0,0,0,0.22033898305084745,0,59\n",
            "59863,0.0,FFFFUUUUUUUUUUUUUUU,0.0,0.0,0.0,0.0,0.0,,,,,,,,,,,,,,,,,,,,,,,,,2015-09-29 10:50:54.055221+00,2,,2006,rejected,0,0,0,0,0,0.0,0,4\n",
            "239575,0.0,The ranchers seem motivated by mostly by greed; no one should have the right to allow their animals destroy public land.,0.0,0.0,0.0,0.0,0.0,,,,,,,,,,,,,,,,,,,,,,,,,2016-01-13 18:01:05.156229+00,6,,26662,approved,0,0,0,0,0,0.0,0,4\n"
          ]
        }
      ]
    },
    {
      "cell_type": "code",
      "source": [],
      "metadata": {
        "id": "CmdDYsrrTtcN"
      },
      "id": "CmdDYsrrTtcN",
      "execution_count": null,
      "outputs": []
    },
    {
      "cell_type": "code",
      "source": [
        "\n",
        "df_train = pd.read_csv('../data/train.csv')"
      ],
      "metadata": {
        "id": "uNiTMWnHTtqc"
      },
      "id": "uNiTMWnHTtqc",
      "execution_count": 12,
      "outputs": []
    },
    {
      "cell_type": "code",
      "source": [
        "display(df_train)"
      ],
      "metadata": {
        "id": "ylI6d6CwTt4j",
        "colab": {
          "base_uri": "https://localhost:8080/",
          "height": 1000
        },
        "outputId": "fb4b244f-0df4-4a73-9eaf-2593099e04cd"
      },
      "id": "ylI6d6CwTt4j",
      "execution_count": 13,
      "outputs": [
        {
          "output_type": "display_data",
          "data": {
            "text/plain": [
              "              id    target                                       comment_text  \\\n",
              "0          59848  0.000000  This is so cool. It's like, 'would you want yo...   \n",
              "1          59849  0.000000  Thank you!! This would make my life a lot less...   \n",
              "2          59852  0.000000  This is such an urgent design problem; kudos t...   \n",
              "3          59855  0.000000  Is this something I'll be able to install on m...   \n",
              "4          59856  0.893617               haha you guys are a bunch of losers.   \n",
              "...          ...       ...                                                ...   \n",
              "1804869  6333967  0.000000  Maybe the tax on \"things\" would be collected w...   \n",
              "1804870  6333969  0.000000  What do you call people who STILL think the di...   \n",
              "1804871  6333982  0.000000  thank you ,,,right or wrong,,, i am following ...   \n",
              "1804872  6334009  0.621212  Anyone who is quoted as having the following e...   \n",
              "1804873  6334010  0.000000  Students defined as EBD are legally just as di...   \n",
              "\n",
              "         severe_toxicity   obscene  identity_attack    insult  threat  asian  \\\n",
              "0               0.000000  0.000000         0.000000  0.000000     0.0    NaN   \n",
              "1               0.000000  0.000000         0.000000  0.000000     0.0    NaN   \n",
              "2               0.000000  0.000000         0.000000  0.000000     0.0    NaN   \n",
              "3               0.000000  0.000000         0.000000  0.000000     0.0    NaN   \n",
              "4               0.021277  0.000000         0.021277  0.872340     0.0    0.0   \n",
              "...                  ...       ...              ...       ...     ...    ...   \n",
              "1804869         0.000000  0.000000         0.000000  0.000000     0.0    NaN   \n",
              "1804870         0.000000  0.000000         0.000000  0.000000     0.0    NaN   \n",
              "1804871         0.000000  0.000000         0.000000  0.000000     0.0    NaN   \n",
              "1804872         0.030303  0.030303         0.045455  0.621212     0.0    NaN   \n",
              "1804873         0.000000  0.000000         0.000000  0.000000     0.0    NaN   \n",
              "\n",
              "         atheist  ...  article_id    rating  funny  wow  sad  likes  disagree  \\\n",
              "0            NaN  ...        2006  rejected      0    0    0      0         0   \n",
              "1            NaN  ...        2006  rejected      0    0    0      0         0   \n",
              "2            NaN  ...        2006  rejected      0    0    0      0         0   \n",
              "3            NaN  ...        2006  rejected      0    0    0      0         0   \n",
              "4            0.0  ...        2006  rejected      0    0    0      1         0   \n",
              "...          ...  ...         ...       ...    ...  ...  ...    ...       ...   \n",
              "1804869      NaN  ...      399385  approved      0    0    0      0         0   \n",
              "1804870      NaN  ...      399528  approved      0    0    0      0         0   \n",
              "1804871      NaN  ...      399457  approved      0    0    0      0         0   \n",
              "1804872      NaN  ...      399519  approved      0    0    0      0         0   \n",
              "1804873      NaN  ...      399318  approved      0    0    0      0         0   \n",
              "\n",
              "         sexual_explicit  identity_annotator_count  toxicity_annotator_count  \n",
              "0                    0.0                         0                         4  \n",
              "1                    0.0                         0                         4  \n",
              "2                    0.0                         0                         4  \n",
              "3                    0.0                         0                         4  \n",
              "4                    0.0                         4                        47  \n",
              "...                  ...                       ...                       ...  \n",
              "1804869              0.0                         0                         4  \n",
              "1804870              0.0                         0                         4  \n",
              "1804871              0.0                         0                         4  \n",
              "1804872              0.0                         0                        66  \n",
              "1804873              0.0                         0                         4  \n",
              "\n",
              "[1804874 rows x 45 columns]"
            ],
            "text/html": [
              "\n",
              "  <div id=\"df-0b44db41-870f-4ce5-a3ac-5288d40848f5\">\n",
              "    <div class=\"colab-df-container\">\n",
              "      <div>\n",
              "<style scoped>\n",
              "    .dataframe tbody tr th:only-of-type {\n",
              "        vertical-align: middle;\n",
              "    }\n",
              "\n",
              "    .dataframe tbody tr th {\n",
              "        vertical-align: top;\n",
              "    }\n",
              "\n",
              "    .dataframe thead th {\n",
              "        text-align: right;\n",
              "    }\n",
              "</style>\n",
              "<table border=\"1\" class=\"dataframe\">\n",
              "  <thead>\n",
              "    <tr style=\"text-align: right;\">\n",
              "      <th></th>\n",
              "      <th>id</th>\n",
              "      <th>target</th>\n",
              "      <th>comment_text</th>\n",
              "      <th>severe_toxicity</th>\n",
              "      <th>obscene</th>\n",
              "      <th>identity_attack</th>\n",
              "      <th>insult</th>\n",
              "      <th>threat</th>\n",
              "      <th>asian</th>\n",
              "      <th>atheist</th>\n",
              "      <th>...</th>\n",
              "      <th>article_id</th>\n",
              "      <th>rating</th>\n",
              "      <th>funny</th>\n",
              "      <th>wow</th>\n",
              "      <th>sad</th>\n",
              "      <th>likes</th>\n",
              "      <th>disagree</th>\n",
              "      <th>sexual_explicit</th>\n",
              "      <th>identity_annotator_count</th>\n",
              "      <th>toxicity_annotator_count</th>\n",
              "    </tr>\n",
              "  </thead>\n",
              "  <tbody>\n",
              "    <tr>\n",
              "      <th>0</th>\n",
              "      <td>59848</td>\n",
              "      <td>0.000000</td>\n",
              "      <td>This is so cool. It's like, 'would you want yo...</td>\n",
              "      <td>0.000000</td>\n",
              "      <td>0.000000</td>\n",
              "      <td>0.000000</td>\n",
              "      <td>0.000000</td>\n",
              "      <td>0.0</td>\n",
              "      <td>NaN</td>\n",
              "      <td>NaN</td>\n",
              "      <td>...</td>\n",
              "      <td>2006</td>\n",
              "      <td>rejected</td>\n",
              "      <td>0</td>\n",
              "      <td>0</td>\n",
              "      <td>0</td>\n",
              "      <td>0</td>\n",
              "      <td>0</td>\n",
              "      <td>0.0</td>\n",
              "      <td>0</td>\n",
              "      <td>4</td>\n",
              "    </tr>\n",
              "    <tr>\n",
              "      <th>1</th>\n",
              "      <td>59849</td>\n",
              "      <td>0.000000</td>\n",
              "      <td>Thank you!! This would make my life a lot less...</td>\n",
              "      <td>0.000000</td>\n",
              "      <td>0.000000</td>\n",
              "      <td>0.000000</td>\n",
              "      <td>0.000000</td>\n",
              "      <td>0.0</td>\n",
              "      <td>NaN</td>\n",
              "      <td>NaN</td>\n",
              "      <td>...</td>\n",
              "      <td>2006</td>\n",
              "      <td>rejected</td>\n",
              "      <td>0</td>\n",
              "      <td>0</td>\n",
              "      <td>0</td>\n",
              "      <td>0</td>\n",
              "      <td>0</td>\n",
              "      <td>0.0</td>\n",
              "      <td>0</td>\n",
              "      <td>4</td>\n",
              "    </tr>\n",
              "    <tr>\n",
              "      <th>2</th>\n",
              "      <td>59852</td>\n",
              "      <td>0.000000</td>\n",
              "      <td>This is such an urgent design problem; kudos t...</td>\n",
              "      <td>0.000000</td>\n",
              "      <td>0.000000</td>\n",
              "      <td>0.000000</td>\n",
              "      <td>0.000000</td>\n",
              "      <td>0.0</td>\n",
              "      <td>NaN</td>\n",
              "      <td>NaN</td>\n",
              "      <td>...</td>\n",
              "      <td>2006</td>\n",
              "      <td>rejected</td>\n",
              "      <td>0</td>\n",
              "      <td>0</td>\n",
              "      <td>0</td>\n",
              "      <td>0</td>\n",
              "      <td>0</td>\n",
              "      <td>0.0</td>\n",
              "      <td>0</td>\n",
              "      <td>4</td>\n",
              "    </tr>\n",
              "    <tr>\n",
              "      <th>3</th>\n",
              "      <td>59855</td>\n",
              "      <td>0.000000</td>\n",
              "      <td>Is this something I'll be able to install on m...</td>\n",
              "      <td>0.000000</td>\n",
              "      <td>0.000000</td>\n",
              "      <td>0.000000</td>\n",
              "      <td>0.000000</td>\n",
              "      <td>0.0</td>\n",
              "      <td>NaN</td>\n",
              "      <td>NaN</td>\n",
              "      <td>...</td>\n",
              "      <td>2006</td>\n",
              "      <td>rejected</td>\n",
              "      <td>0</td>\n",
              "      <td>0</td>\n",
              "      <td>0</td>\n",
              "      <td>0</td>\n",
              "      <td>0</td>\n",
              "      <td>0.0</td>\n",
              "      <td>0</td>\n",
              "      <td>4</td>\n",
              "    </tr>\n",
              "    <tr>\n",
              "      <th>4</th>\n",
              "      <td>59856</td>\n",
              "      <td>0.893617</td>\n",
              "      <td>haha you guys are a bunch of losers.</td>\n",
              "      <td>0.021277</td>\n",
              "      <td>0.000000</td>\n",
              "      <td>0.021277</td>\n",
              "      <td>0.872340</td>\n",
              "      <td>0.0</td>\n",
              "      <td>0.0</td>\n",
              "      <td>0.0</td>\n",
              "      <td>...</td>\n",
              "      <td>2006</td>\n",
              "      <td>rejected</td>\n",
              "      <td>0</td>\n",
              "      <td>0</td>\n",
              "      <td>0</td>\n",
              "      <td>1</td>\n",
              "      <td>0</td>\n",
              "      <td>0.0</td>\n",
              "      <td>4</td>\n",
              "      <td>47</td>\n",
              "    </tr>\n",
              "    <tr>\n",
              "      <th>...</th>\n",
              "      <td>...</td>\n",
              "      <td>...</td>\n",
              "      <td>...</td>\n",
              "      <td>...</td>\n",
              "      <td>...</td>\n",
              "      <td>...</td>\n",
              "      <td>...</td>\n",
              "      <td>...</td>\n",
              "      <td>...</td>\n",
              "      <td>...</td>\n",
              "      <td>...</td>\n",
              "      <td>...</td>\n",
              "      <td>...</td>\n",
              "      <td>...</td>\n",
              "      <td>...</td>\n",
              "      <td>...</td>\n",
              "      <td>...</td>\n",
              "      <td>...</td>\n",
              "      <td>...</td>\n",
              "      <td>...</td>\n",
              "      <td>...</td>\n",
              "    </tr>\n",
              "    <tr>\n",
              "      <th>1804869</th>\n",
              "      <td>6333967</td>\n",
              "      <td>0.000000</td>\n",
              "      <td>Maybe the tax on \"things\" would be collected w...</td>\n",
              "      <td>0.000000</td>\n",
              "      <td>0.000000</td>\n",
              "      <td>0.000000</td>\n",
              "      <td>0.000000</td>\n",
              "      <td>0.0</td>\n",
              "      <td>NaN</td>\n",
              "      <td>NaN</td>\n",
              "      <td>...</td>\n",
              "      <td>399385</td>\n",
              "      <td>approved</td>\n",
              "      <td>0</td>\n",
              "      <td>0</td>\n",
              "      <td>0</td>\n",
              "      <td>0</td>\n",
              "      <td>0</td>\n",
              "      <td>0.0</td>\n",
              "      <td>0</td>\n",
              "      <td>4</td>\n",
              "    </tr>\n",
              "    <tr>\n",
              "      <th>1804870</th>\n",
              "      <td>6333969</td>\n",
              "      <td>0.000000</td>\n",
              "      <td>What do you call people who STILL think the di...</td>\n",
              "      <td>0.000000</td>\n",
              "      <td>0.000000</td>\n",
              "      <td>0.000000</td>\n",
              "      <td>0.000000</td>\n",
              "      <td>0.0</td>\n",
              "      <td>NaN</td>\n",
              "      <td>NaN</td>\n",
              "      <td>...</td>\n",
              "      <td>399528</td>\n",
              "      <td>approved</td>\n",
              "      <td>0</td>\n",
              "      <td>0</td>\n",
              "      <td>0</td>\n",
              "      <td>0</td>\n",
              "      <td>0</td>\n",
              "      <td>0.0</td>\n",
              "      <td>0</td>\n",
              "      <td>4</td>\n",
              "    </tr>\n",
              "    <tr>\n",
              "      <th>1804871</th>\n",
              "      <td>6333982</td>\n",
              "      <td>0.000000</td>\n",
              "      <td>thank you ,,,right or wrong,,, i am following ...</td>\n",
              "      <td>0.000000</td>\n",
              "      <td>0.000000</td>\n",
              "      <td>0.000000</td>\n",
              "      <td>0.000000</td>\n",
              "      <td>0.0</td>\n",
              "      <td>NaN</td>\n",
              "      <td>NaN</td>\n",
              "      <td>...</td>\n",
              "      <td>399457</td>\n",
              "      <td>approved</td>\n",
              "      <td>0</td>\n",
              "      <td>0</td>\n",
              "      <td>0</td>\n",
              "      <td>0</td>\n",
              "      <td>0</td>\n",
              "      <td>0.0</td>\n",
              "      <td>0</td>\n",
              "      <td>4</td>\n",
              "    </tr>\n",
              "    <tr>\n",
              "      <th>1804872</th>\n",
              "      <td>6334009</td>\n",
              "      <td>0.621212</td>\n",
              "      <td>Anyone who is quoted as having the following e...</td>\n",
              "      <td>0.030303</td>\n",
              "      <td>0.030303</td>\n",
              "      <td>0.045455</td>\n",
              "      <td>0.621212</td>\n",
              "      <td>0.0</td>\n",
              "      <td>NaN</td>\n",
              "      <td>NaN</td>\n",
              "      <td>...</td>\n",
              "      <td>399519</td>\n",
              "      <td>approved</td>\n",
              "      <td>0</td>\n",
              "      <td>0</td>\n",
              "      <td>0</td>\n",
              "      <td>0</td>\n",
              "      <td>0</td>\n",
              "      <td>0.0</td>\n",
              "      <td>0</td>\n",
              "      <td>66</td>\n",
              "    </tr>\n",
              "    <tr>\n",
              "      <th>1804873</th>\n",
              "      <td>6334010</td>\n",
              "      <td>0.000000</td>\n",
              "      <td>Students defined as EBD are legally just as di...</td>\n",
              "      <td>0.000000</td>\n",
              "      <td>0.000000</td>\n",
              "      <td>0.000000</td>\n",
              "      <td>0.000000</td>\n",
              "      <td>0.0</td>\n",
              "      <td>NaN</td>\n",
              "      <td>NaN</td>\n",
              "      <td>...</td>\n",
              "      <td>399318</td>\n",
              "      <td>approved</td>\n",
              "      <td>0</td>\n",
              "      <td>0</td>\n",
              "      <td>0</td>\n",
              "      <td>0</td>\n",
              "      <td>0</td>\n",
              "      <td>0.0</td>\n",
              "      <td>0</td>\n",
              "      <td>4</td>\n",
              "    </tr>\n",
              "  </tbody>\n",
              "</table>\n",
              "<p>1804874 rows × 45 columns</p>\n",
              "</div>\n",
              "      <button class=\"colab-df-convert\" onclick=\"convertToInteractive('df-0b44db41-870f-4ce5-a3ac-5288d40848f5')\"\n",
              "              title=\"Convert this dataframe to an interactive table.\"\n",
              "              style=\"display:none;\">\n",
              "        \n",
              "  <svg xmlns=\"http://www.w3.org/2000/svg\" height=\"24px\"viewBox=\"0 0 24 24\"\n",
              "       width=\"24px\">\n",
              "    <path d=\"M0 0h24v24H0V0z\" fill=\"none\"/>\n",
              "    <path d=\"M18.56 5.44l.94 2.06.94-2.06 2.06-.94-2.06-.94-.94-2.06-.94 2.06-2.06.94zm-11 1L8.5 8.5l.94-2.06 2.06-.94-2.06-.94L8.5 2.5l-.94 2.06-2.06.94zm10 10l.94 2.06.94-2.06 2.06-.94-2.06-.94-.94-2.06-.94 2.06-2.06.94z\"/><path d=\"M17.41 7.96l-1.37-1.37c-.4-.4-.92-.59-1.43-.59-.52 0-1.04.2-1.43.59L10.3 9.45l-7.72 7.72c-.78.78-.78 2.05 0 2.83L4 21.41c.39.39.9.59 1.41.59.51 0 1.02-.2 1.41-.59l7.78-7.78 2.81-2.81c.8-.78.8-2.07 0-2.86zM5.41 20L4 18.59l7.72-7.72 1.47 1.35L5.41 20z\"/>\n",
              "  </svg>\n",
              "      </button>\n",
              "      \n",
              "  <style>\n",
              "    .colab-df-container {\n",
              "      display:flex;\n",
              "      flex-wrap:wrap;\n",
              "      gap: 12px;\n",
              "    }\n",
              "\n",
              "    .colab-df-convert {\n",
              "      background-color: #E8F0FE;\n",
              "      border: none;\n",
              "      border-radius: 50%;\n",
              "      cursor: pointer;\n",
              "      display: none;\n",
              "      fill: #1967D2;\n",
              "      height: 32px;\n",
              "      padding: 0 0 0 0;\n",
              "      width: 32px;\n",
              "    }\n",
              "\n",
              "    .colab-df-convert:hover {\n",
              "      background-color: #E2EBFA;\n",
              "      box-shadow: 0px 1px 2px rgba(60, 64, 67, 0.3), 0px 1px 3px 1px rgba(60, 64, 67, 0.15);\n",
              "      fill: #174EA6;\n",
              "    }\n",
              "\n",
              "    [theme=dark] .colab-df-convert {\n",
              "      background-color: #3B4455;\n",
              "      fill: #D2E3FC;\n",
              "    }\n",
              "\n",
              "    [theme=dark] .colab-df-convert:hover {\n",
              "      background-color: #434B5C;\n",
              "      box-shadow: 0px 1px 3px 1px rgba(0, 0, 0, 0.15);\n",
              "      filter: drop-shadow(0px 1px 2px rgba(0, 0, 0, 0.3));\n",
              "      fill: #FFFFFF;\n",
              "    }\n",
              "  </style>\n",
              "\n",
              "      <script>\n",
              "        const buttonEl =\n",
              "          document.querySelector('#df-0b44db41-870f-4ce5-a3ac-5288d40848f5 button.colab-df-convert');\n",
              "        buttonEl.style.display =\n",
              "          google.colab.kernel.accessAllowed ? 'block' : 'none';\n",
              "\n",
              "        async function convertToInteractive(key) {\n",
              "          const element = document.querySelector('#df-0b44db41-870f-4ce5-a3ac-5288d40848f5');\n",
              "          const dataTable =\n",
              "            await google.colab.kernel.invokeFunction('convertToInteractive',\n",
              "                                                     [key], {});\n",
              "          if (!dataTable) return;\n",
              "\n",
              "          const docLinkHtml = 'Like what you see? Visit the ' +\n",
              "            '<a target=\"_blank\" href=https://colab.research.google.com/notebooks/data_table.ipynb>data table notebook</a>'\n",
              "            + ' to learn more about interactive tables.';\n",
              "          element.innerHTML = '';\n",
              "          dataTable['output_type'] = 'display_data';\n",
              "          await google.colab.output.renderOutput(dataTable, element);\n",
              "          const docLink = document.createElement('div');\n",
              "          docLink.innerHTML = docLinkHtml;\n",
              "          element.appendChild(docLink);\n",
              "        }\n",
              "      </script>\n",
              "    </div>\n",
              "  </div>\n",
              "  "
            ]
          },
          "metadata": {}
        }
      ]
    },
    {
      "cell_type": "code",
      "source": [
        "pd.set_option('display.max_columns', None)\n",
        "pd.options.display.max_colwidth = 90\n",
        "\n",
        "df_sample = df_train[df_train['comment_text'].str.contains('Continue to stand strong LGBT community.')]\n"
      ],
      "metadata": {
        "id": "L6QcJQADTuG5"
      },
      "id": "L6QcJQADTuG5",
      "execution_count": 14,
      "outputs": []
    },
    {
      "cell_type": "code",
      "source": [
        "plt.hist(df_train['target'], bins = 5);\n",
        "plt.ylabel('Number of comments')\n",
        "plt.xlabel('Target')\n",
        "plt.show()\n",
        "\n",
        "plt.hist(df_train['target'], bins = 10);\n",
        "plt.ylabel('Number of comments')\n",
        "plt.xlabel('Target')\n",
        "plt.show()\n"
      ],
      "metadata": {
        "id": "hQgt34QuXe9z",
        "colab": {
          "base_uri": "https://localhost:8080/",
          "height": 563
        },
        "outputId": "a32c6fc5-7ed1-4197-e851-84abe8de56bb"
      },
      "id": "hQgt34QuXe9z",
      "execution_count": 15,
      "outputs": [
        {
          "output_type": "display_data",
          "data": {
            "text/plain": [
              "<Figure size 432x288 with 1 Axes>"
            ],
            "image/png": "[encoded data removed]"
          },
          "metadata": {
            "needs_background": "light"
          }
        },
        {
          "output_type": "display_data",
          "data": {
            "text/plain": [
              "<Figure size 432x288 with 1 Axes>"
            ],
            "image/png": "[encoded data removed]"
          },
          "metadata": {
            "needs_background": "light"
          }
        }
      ]
    },
    {
      "cell_type": "code",
      "source": [
        "plt.hist(df_train['obscene'], bins = 10);\n",
        "plt.ylabel('Number of comments')\n",
        "plt.xlabel('Ratings')\n",
        "plt.title('Obscene')\n",
        "plt.show()\n",
        "\n",
        "\n",
        "plt.hist(df_train['obscene'], bins = 10);\n",
        "plt.ylabel('Number of comments')\n",
        "plt.xlabel('Ratings')\n",
        "plt.title('homosexual_gay_or_lesbian')\n",
        "plt.show()\n",
        "\n"
      ],
      "metadata": {
        "colab": {
          "base_uri": "https://localhost:8080/",
          "height": 573
        },
        "id": "GYtudZC-mpl7",
        "outputId": "7886d9cc-6db6-4594-9b65-417ca63c7ead"
      },
      "id": "GYtudZC-mpl7",
      "execution_count": 16,
      "outputs": [
        {
          "output_type": "display_data",
          "data": {
            "text/plain": [
              "<Figure size 432x288 with 1 Axes>"
            ],
            "image/png": "[encoded data removed]"
          },
          "metadata": {
            "needs_background": "light"
          }
        },
        {
          "output_type": "display_data",
          "data": {
            "text/plain": [
              "<Figure size 432x288 with 1 Axes>"
            ],
            "image/png": "[encoded data removed]"
          },
          "metadata": {
            "needs_background": "light"
          }
        }
      ]
    },
    {
      "cell_type": "markdown",
      "source": [
        "### Create Balanced Dataset"
      ],
      "metadata": {
        "id": "J_lu85glLTmB"
      },
      "id": "J_lu85glLTmB"
    },
    {
      "cell_type": "code",
      "source": [
        "# df_train.shape\n",
        "# (1804874, 45)\n",
        "\n",
        "print ((df_train['target'] >= 0.5).sum())\n",
        "print ((df_train['target'] < 0.5).sum())\n",
        "print (df_train.shape[0])\n",
        "\n",
        "\n",
        "df_train_toxic = df_train[df_train['target'] >= 0.5]\n",
        "df_train_nontoxic = df_train[df_train['target'] < 0.5]\n",
        "\n",
        "print ('\\nBefore balancing:')\n",
        "print ('Toxic shape ' + str(df_train_toxic.shape))\n",
        "print ('Non-Toxic shape ' + str(df_train_nontoxic.shape))\n",
        "\n",
        "df_train_nontoxic = df_train_nontoxic.sample(n = df_train_toxic.shape[0])\n",
        "\n",
        "print ('\\nAfter balancing:')\n",
        "print ('Toxic shape ' + str(df_train_toxic.shape))\n",
        "print ('Non-Toxic shape ' + str(df_train_nontoxic.shape))\n",
        "\n",
        "df_balanced = pd.concat([df_train_toxic, df_train_nontoxic])\n",
        "\n",
        "print ('\\nBalanced shape ' + str(df_balanced.shape))\n",
        "\n",
        "\n",
        "#df_train[df_train['target'] > .5].count()\n",
        "\n",
        "#df_train.count()\n",
        "#(df_train['target'] > .5).count()"
      ],
      "metadata": {
        "colab": {
          "base_uri": "https://localhost:8080/"
        },
        "id": "uc6QWn2Emqby",
        "outputId": "52966af0-0e6f-48eb-9639-38576cd1c31d"
      },
      "id": "uc6QWn2Emqby",
      "execution_count": 17,
      "outputs": [
        {
          "output_type": "stream",
          "name": "stdout",
          "text": [
            "144334\n",
            "1660540\n",
            "1804874\n",
            "\n",
            "Before balancing:\n",
            "Toxic shape (144334, 45)\n",
            "Non-Toxic shape (1660540, 45)\n",
            "\n",
            "After balancing:\n",
            "Toxic shape (144334, 45)\n",
            "Non-Toxic shape (144334, 45)\n",
            "\n",
            "Balanced shape (288668, 45)\n"
          ]
        }
      ]
    },
    {
      "cell_type": "markdown",
      "source": [
        "### Create Toxic column, that we will try to predict"
      ],
      "metadata": {
        "id": "0cg5XFdsLl3g"
      },
      "id": "0cg5XFdsLl3g"
    },
    {
      "cell_type": "code",
      "source": [
        "df_balanced['toxic'] = np.where(df_balanced.target >= 0.5, 1, 0)\n",
        "\n",
        "df_balanced.head(3)"
      ],
      "metadata": {
        "colab": {
          "base_uri": "https://localhost:8080/",
          "height": 520
        },
        "id": "BUtPjBmPLqTZ",
        "outputId": "c2e86513-e85a-4814-b845-0c9a26e81ac8"
      },
      "id": "BUtPjBmPLqTZ",
      "execution_count": 33,
      "outputs": [
        {
          "output_type": "execute_result",
          "data": {
            "text/plain": [
              "        id    target  \\\n",
              "0  5140750  0.200000   \n",
              "1  5881384  0.216667   \n",
              "2  6027428  0.000000   \n",
              "\n",
              "                                                                                comment_text  \\\n",
              "0  Jeez...did you take too many blows to your head? Didn't know there are too many other ...   \n",
              "1  Yea....  a Harpo with better hair who gives my tax dollars to terrorists \\n\\nhttp://ra...   \n",
              "2  London (the real one in UK) just kicked them out. As well as several places all around...   \n",
              "\n",
              "   severe_toxicity  obscene  identity_attack    insult  threat  asian  \\\n",
              "0              0.0      0.0             0.00  0.200000    0.00    NaN   \n",
              "1              0.0      0.0             0.05  0.166667    0.05    NaN   \n",
              "2              0.0      0.0             0.00  0.000000    0.00    NaN   \n",
              "\n",
              "   atheist  bisexual  black  buddhist  christian  female  heterosexual  hindu  \\\n",
              "0      NaN       NaN    NaN       NaN        NaN     NaN           NaN    NaN   \n",
              "1      NaN       NaN    NaN       NaN        NaN     NaN           NaN    NaN   \n",
              "2      NaN       NaN    NaN       NaN        NaN     NaN           NaN    NaN   \n",
              "\n",
              "   homosexual_gay_or_lesbian  intellectual_or_learning_disability  jewish  \\\n",
              "0                        NaN                                  NaN     NaN   \n",
              "1                        NaN                                  NaN     NaN   \n",
              "2                        NaN                                  NaN     NaN   \n",
              "\n",
              "   latino  male  muslim  other_disability  other_gender  \\\n",
              "0     NaN   NaN     NaN               NaN           NaN   \n",
              "1     NaN   NaN     NaN               NaN           NaN   \n",
              "2     NaN   NaN     NaN               NaN           NaN   \n",
              "\n",
              "   other_race_or_ethnicity  other_religion  other_sexual_orientation  \\\n",
              "0                      NaN             NaN                       NaN   \n",
              "1                      NaN             NaN                       NaN   \n",
              "2                      NaN             NaN                       NaN   \n",
              "\n",
              "   physical_disability  psychiatric_or_mental_illness  transgender  white  \\\n",
              "0                  NaN                            NaN          NaN    NaN   \n",
              "1                  NaN                            NaN          NaN    NaN   \n",
              "2                  NaN                            NaN          NaN    NaN   \n",
              "\n",
              "                    created_date  publication_id  parent_id  article_id  \\\n",
              "0  2017-04-16 23:53:24.393164+00              55  5140255.0      327349   \n",
              "1  2017-09-01 20:02:28.839523+00              54  5880894.0      372862   \n",
              "2  2017-09-26 16:57:32.071282+00              54  6025845.0      382076   \n",
              "\n",
              "     rating  funny  wow  sad  likes  disagree  sexual_explicit  \\\n",
              "0  approved      0    0    0      0         0              0.0   \n",
              "1  rejected      0    0    0      0         0              0.0   \n",
              "2  approved      1    0    0      3         1              0.0   \n",
              "\n",
              "   identity_annotator_count  toxicity_annotator_count  toxic  \n",
              "0                         0                         5      0  \n",
              "1                         0                        60      0  \n",
              "2                         0                         4      0  "
            ],
            "text/html": [
              "\n",
              "  <div id=\"df-17166cff-fa79-45f8-bdc7-4861a13c0ac6\">\n",
              "    <div class=\"colab-df-container\">\n",
              "      <div>\n",
              "<style scoped>\n",
              "    .dataframe tbody tr th:only-of-type {\n",
              "        vertical-align: middle;\n",
              "    }\n",
              "\n",
              "    .dataframe tbody tr th {\n",
              "        vertical-align: top;\n",
              "    }\n",
              "\n",
              "    .dataframe thead th {\n",
              "        text-align: right;\n",
              "    }\n",
              "</style>\n",
              "<table border=\"1\" class=\"dataframe\">\n",
              "  <thead>\n",
              "    <tr style=\"text-align: right;\">\n",
              "      <th></th>\n",
              "      <th>id</th>\n",
              "      <th>target</th>\n",
              "      <th>comment_text</th>\n",
              "      <th>severe_toxicity</th>\n",
              "      <th>obscene</th>\n",
              "      <th>identity_attack</th>\n",
              "      <th>insult</th>\n",
              "      <th>threat</th>\n",
              "      <th>asian</th>\n",
              "      <th>atheist</th>\n",
              "      <th>bisexual</th>\n",
              "      <th>black</th>\n",
              "      <th>buddhist</th>\n",
              "      <th>christian</th>\n",
              "      <th>female</th>\n",
              "      <th>heterosexual</th>\n",
              "      <th>hindu</th>\n",
              "      <th>homosexual_gay_or_lesbian</th>\n",
              "      <th>intellectual_or_learning_disability</th>\n",
              "      <th>jewish</th>\n",
              "      <th>latino</th>\n",
              "      <th>male</th>\n",
              "      <th>muslim</th>\n",
              "      <th>other_disability</th>\n",
              "      <th>other_gender</th>\n",
              "      <th>other_race_or_ethnicity</th>\n",
              "      <th>other_religion</th>\n",
              "      <th>other_sexual_orientation</th>\n",
              "      <th>physical_disability</th>\n",
              "      <th>psychiatric_or_mental_illness</th>\n",
              "      <th>transgender</th>\n",
              "      <th>white</th>\n",
              "      <th>created_date</th>\n",
              "      <th>publication_id</th>\n",
              "      <th>parent_id</th>\n",
              "      <th>article_id</th>\n",
              "      <th>rating</th>\n",
              "      <th>funny</th>\n",
              "      <th>wow</th>\n",
              "      <th>sad</th>\n",
              "      <th>likes</th>\n",
              "      <th>disagree</th>\n",
              "      <th>sexual_explicit</th>\n",
              "      <th>identity_annotator_count</th>\n",
              "      <th>toxicity_annotator_count</th>\n",
              "      <th>toxic</th>\n",
              "    </tr>\n",
              "  </thead>\n",
              "  <tbody>\n",
              "    <tr>\n",
              "      <th>0</th>\n",
              "      <td>5140750</td>\n",
              "      <td>0.200000</td>\n",
              "      <td>Jeez...did you take too many blows to your head? Didn't know there are too many other ...</td>\n",
              "      <td>0.0</td>\n",
              "      <td>0.0</td>\n",
              "      <td>0.00</td>\n",
              "      <td>0.200000</td>\n",
              "      <td>0.00</td>\n",
              "      <td>NaN</td>\n",
              "      <td>NaN</td>\n",
              "      <td>NaN</td>\n",
              "      <td>NaN</td>\n",
              "      <td>NaN</td>\n",
              "      <td>NaN</td>\n",
              "      <td>NaN</td>\n",
              "      <td>NaN</td>\n",
              "      <td>NaN</td>\n",
              "      <td>NaN</td>\n",
              "      <td>NaN</td>\n",
              "      <td>NaN</td>\n",
              "      <td>NaN</td>\n",
              "      <td>NaN</td>\n",
              "      <td>NaN</td>\n",
              "      <td>NaN</td>\n",
              "      <td>NaN</td>\n",
              "      <td>NaN</td>\n",
              "      <td>NaN</td>\n",
              "      <td>NaN</td>\n",
              "      <td>NaN</td>\n",
              "      <td>NaN</td>\n",
              "      <td>NaN</td>\n",
              "      <td>NaN</td>\n",
              "      <td>2017-04-16 23:53:24.393164+00</td>\n",
              "      <td>55</td>\n",
              "      <td>5140255.0</td>\n",
              "      <td>327349</td>\n",
              "      <td>approved</td>\n",
              "      <td>0</td>\n",
              "      <td>0</td>\n",
              "      <td>0</td>\n",
              "      <td>0</td>\n",
              "      <td>0</td>\n",
              "      <td>0.0</td>\n",
              "      <td>0</td>\n",
              "      <td>5</td>\n",
              "      <td>0</td>\n",
              "    </tr>\n",
              "    <tr>\n",
              "      <th>1</th>\n",
              "      <td>5881384</td>\n",
              "      <td>0.216667</td>\n",
              "      <td>Yea....  a Harpo with better hair who gives my tax dollars to terrorists \\n\\nhttp://ra...</td>\n",
              "      <td>0.0</td>\n",
              "      <td>0.0</td>\n",
              "      <td>0.05</td>\n",
              "      <td>0.166667</td>\n",
              "      <td>0.05</td>\n",
              "      <td>NaN</td>\n",
              "      <td>NaN</td>\n",
              "      <td>NaN</td>\n",
              "      <td>NaN</td>\n",
              "      <td>NaN</td>\n",
              "      <td>NaN</td>\n",
              "      <td>NaN</td>\n",
              "      <td>NaN</td>\n",
              "      <td>NaN</td>\n",
              "      <td>NaN</td>\n",
              "      <td>NaN</td>\n",
              "      <td>NaN</td>\n",
              "      <td>NaN</td>\n",
              "      <td>NaN</td>\n",
              "      <td>NaN</td>\n",
              "      <td>NaN</td>\n",
              "      <td>NaN</td>\n",
              "      <td>NaN</td>\n",
              "      <td>NaN</td>\n",
              "      <td>NaN</td>\n",
              "      <td>NaN</td>\n",
              "      <td>NaN</td>\n",
              "      <td>NaN</td>\n",
              "      <td>NaN</td>\n",
              "      <td>2017-09-01 20:02:28.839523+00</td>\n",
              "      <td>54</td>\n",
              "      <td>5880894.0</td>\n",
              "      <td>372862</td>\n",
              "      <td>rejected</td>\n",
              "      <td>0</td>\n",
              "      <td>0</td>\n",
              "      <td>0</td>\n",
              "      <td>0</td>\n",
              "      <td>0</td>\n",
              "      <td>0.0</td>\n",
              "      <td>0</td>\n",
              "      <td>60</td>\n",
              "      <td>0</td>\n",
              "    </tr>\n",
              "    <tr>\n",
              "      <th>2</th>\n",
              "      <td>6027428</td>\n",
              "      <td>0.000000</td>\n",
              "      <td>London (the real one in UK) just kicked them out. As well as several places all around...</td>\n",
              "      <td>0.0</td>\n",
              "      <td>0.0</td>\n",
              "      <td>0.00</td>\n",
              "      <td>0.000000</td>\n",
              "      <td>0.00</td>\n",
              "      <td>NaN</td>\n",
              "      <td>NaN</td>\n",
              "      <td>NaN</td>\n",
              "      <td>NaN</td>\n",
              "      <td>NaN</td>\n",
              "      <td>NaN</td>\n",
              "      <td>NaN</td>\n",
              "      <td>NaN</td>\n",
              "      <td>NaN</td>\n",
              "      <td>NaN</td>\n",
              "      <td>NaN</td>\n",
              "      <td>NaN</td>\n",
              "      <td>NaN</td>\n",
              "      <td>NaN</td>\n",
              "      <td>NaN</td>\n",
              "      <td>NaN</td>\n",
              "      <td>NaN</td>\n",
              "      <td>NaN</td>\n",
              "      <td>NaN</td>\n",
              "      <td>NaN</td>\n",
              "      <td>NaN</td>\n",
              "      <td>NaN</td>\n",
              "      <td>NaN</td>\n",
              "      <td>NaN</td>\n",
              "      <td>2017-09-26 16:57:32.071282+00</td>\n",
              "      <td>54</td>\n",
              "      <td>6025845.0</td>\n",
              "      <td>382076</td>\n",
              "      <td>approved</td>\n",
              "      <td>1</td>\n",
              "      <td>0</td>\n",
              "      <td>0</td>\n",
              "      <td>3</td>\n",
              "      <td>1</td>\n",
              "      <td>0.0</td>\n",
              "      <td>0</td>\n",
              "      <td>4</td>\n",
              "      <td>0</td>\n",
              "    </tr>\n",
              "  </tbody>\n",
              "</table>\n",
              "</div>\n",
              "      <button class=\"colab-df-convert\" onclick=\"convertToInteractive('df-17166cff-fa79-45f8-bdc7-4861a13c0ac6')\"\n",
              "              title=\"Convert this dataframe to an interactive table.\"\n",
              "              style=\"display:none;\">\n",
              "        \n",
              "  <svg xmlns=\"http://www.w3.org/2000/svg\" height=\"24px\"viewBox=\"0 0 24 24\"\n",
              "       width=\"24px\">\n",
              "    <path d=\"M0 0h24v24H0V0z\" fill=\"none\"/>\n",
              "    <path d=\"M18.56 5.44l.94 2.06.94-2.06 2.06-.94-2.06-.94-.94-2.06-.94 2.06-2.06.94zm-11 1L8.5 8.5l.94-2.06 2.06-.94-2.06-.94L8.5 2.5l-.94 2.06-2.06.94zm10 10l.94 2.06.94-2.06 2.06-.94-2.06-.94-.94-2.06-.94 2.06-2.06.94z\"/><path d=\"M17.41 7.96l-1.37-1.37c-.4-.4-.92-.59-1.43-.59-.52 0-1.04.2-1.43.59L10.3 9.45l-7.72 7.72c-.78.78-.78 2.05 0 2.83L4 21.41c.39.39.9.59 1.41.59.51 0 1.02-.2 1.41-.59l7.78-7.78 2.81-2.81c.8-.78.8-2.07 0-2.86zM5.41 20L4 18.59l7.72-7.72 1.47 1.35L5.41 20z\"/>\n",
              "  </svg>\n",
              "      </button>\n",
              "      \n",
              "  <style>\n",
              "    .colab-df-container {\n",
              "      display:flex;\n",
              "      flex-wrap:wrap;\n",
              "      gap: 12px;\n",
              "    }\n",
              "\n",
              "    .colab-df-convert {\n",
              "      background-color: #E8F0FE;\n",
              "      border: none;\n",
              "      border-radius: 50%;\n",
              "      cursor: pointer;\n",
              "      display: none;\n",
              "      fill: #1967D2;\n",
              "      height: 32px;\n",
              "      padding: 0 0 0 0;\n",
              "      width: 32px;\n",
              "    }\n",
              "\n",
              "    .colab-df-convert:hover {\n",
              "      background-color: #E2EBFA;\n",
              "      box-shadow: 0px 1px 2px rgba(60, 64, 67, 0.3), 0px 1px 3px 1px rgba(60, 64, 67, 0.15);\n",
              "      fill: #174EA6;\n",
              "    }\n",
              "\n",
              "    [theme=dark] .colab-df-convert {\n",
              "      background-color: #3B4455;\n",
              "      fill: #D2E3FC;\n",
              "    }\n",
              "\n",
              "    [theme=dark] .colab-df-convert:hover {\n",
              "      background-color: #434B5C;\n",
              "      box-shadow: 0px 1px 3px 1px rgba(0, 0, 0, 0.15);\n",
              "      filter: drop-shadow(0px 1px 2px rgba(0, 0, 0, 0.3));\n",
              "      fill: #FFFFFF;\n",
              "    }\n",
              "  </style>\n",
              "\n",
              "      <script>\n",
              "        const buttonEl =\n",
              "          document.querySelector('#df-17166cff-fa79-45f8-bdc7-4861a13c0ac6 button.colab-df-convert');\n",
              "        buttonEl.style.display =\n",
              "          google.colab.kernel.accessAllowed ? 'block' : 'none';\n",
              "\n",
              "        async function convertToInteractive(key) {\n",
              "          const element = document.querySelector('#df-17166cff-fa79-45f8-bdc7-4861a13c0ac6');\n",
              "          const dataTable =\n",
              "            await google.colab.kernel.invokeFunction('convertToInteractive',\n",
              "                                                     [key], {});\n",
              "          if (!dataTable) return;\n",
              "\n",
              "          const docLinkHtml = 'Like what you see? Visit the ' +\n",
              "            '<a target=\"_blank\" href=https://colab.research.google.com/notebooks/data_table.ipynb>data table notebook</a>'\n",
              "            + ' to learn more about interactive tables.';\n",
              "          element.innerHTML = '';\n",
              "          dataTable['output_type'] = 'display_data';\n",
              "          await google.colab.output.renderOutput(dataTable, element);\n",
              "          const docLink = document.createElement('div');\n",
              "          docLink.innerHTML = docLinkHtml;\n",
              "          element.appendChild(docLink);\n",
              "        }\n",
              "      </script>\n",
              "    </div>\n",
              "  </div>\n",
              "  "
            ]
          },
          "metadata": {},
          "execution_count": 33
        }
      ]
    },
    {
      "cell_type": "markdown",
      "source": [
        "##  Data cleaning & randomization"
      ],
      "metadata": {
        "id": "pHcszdkuJSOv"
      },
      "id": "pHcszdkuJSOv"
    },
    {
      "cell_type": "code",
      "source": [
        "#  Data cleaning\n",
        "#  Remove HTML\n",
        "df_balanced['comment_text'] = df_balanced['comment_text'].str.replace(r'<[^<>]*>', '', regex=True)\n",
        "\n",
        "df_balanced = df_balanced.sample(frac=1).reset_index(drop=True)\n"
      ],
      "metadata": {
        "id": "BcvG7Il2HkLZ"
      },
      "id": "BcvG7Il2HkLZ",
      "execution_count": 32,
      "outputs": []
    },
    {
      "cell_type": "markdown",
      "source": [
        "### Get rid of columns we don't need"
      ],
      "metadata": {
        "id": "hAwyzcc7MHqQ"
      },
      "id": "hAwyzcc7MHqQ"
    },
    {
      "cell_type": "code",
      "source": [
        "df_balanced = df_balanced[['comment_text', 'toxic']]\n",
        "\n"
      ],
      "metadata": {
        "id": "6rvYg5z-ML1W"
      },
      "id": "6rvYg5z-ML1W",
      "execution_count": 34,
      "outputs": []
    },
    {
      "cell_type": "markdown",
      "source": [
        "### Split into Train, Validation and Test"
      ],
      "metadata": {
        "id": "-wDMaTUEK2c5"
      },
      "id": "-wDMaTUEK2c5"
    },
    {
      "cell_type": "code",
      "source": [
        "from sklearn.model_selection import train_test_split\n",
        "\n",
        "def split_stratified_into_train_val_test(df_input, stratify_colname='y',\n",
        "                                         frac_train=0.6, frac_val=0.15, frac_test=0.25,\n",
        "                                         random_state=None):\n",
        "    '''\n",
        "    Splits a Pandas dataframe into three subsets (train, val, and test)\n",
        "    following fractional ratios provided by the user, where each subset is\n",
        "    stratified by the values in a specific column (that is, each subset has\n",
        "    the same relative frequency of the values in the column). It performs this\n",
        "    splitting by running train_test_split() twice.\n",
        "\n",
        "    Parameters\n",
        "    ----------\n",
        "    df_input : Pandas dataframe\n",
        "        Input dataframe to be split.\n",
        "    stratify_colname : str\n",
        "        The name of the column that will be used for stratification. Usually\n",
        "        this column would be for the label.\n",
        "    frac_train : float\n",
        "    frac_val   : float\n",
        "    frac_test  : float\n",
        "        The ratios with which the dataframe will be split into train, val, and\n",
        "        test data. The values should be expressed as float fractions and should\n",
        "        sum to 1.0.\n",
        "    random_state : int, None, or RandomStateInstance\n",
        "        Value to be passed to train_test_split().\n",
        "\n",
        "    Returns\n",
        "    -------\n",
        "    df_train, df_val, df_test :\n",
        "        Dataframes containing the three splits.\n",
        "    '''\n",
        "\n",
        "    if frac_train + frac_val + frac_test != 1.0:\n",
        "        raise ValueError('fractions %f, %f, %f do not add up to 1.0' % \\\n",
        "                         (frac_train, frac_val, frac_test))\n",
        "\n",
        "    if stratify_colname not in df_input.columns:\n",
        "        raise ValueError('%s is not a column in the dataframe' % (stratify_colname))\n",
        "\n",
        "    X = df_input # Contains all columns.\n",
        "    y = df_input[[stratify_colname]] # Dataframe of just the column on which to stratify.\n",
        "\n",
        "    # Split original dataframe into train and temp dataframes.\n",
        "    df_train, df_temp, y_train, y_temp = train_test_split(X,\n",
        "                                                          y,\n",
        "                                                          stratify=y,\n",
        "                                                          test_size=(1.0 - frac_train),\n",
        "                                                          random_state=random_state)\n",
        "\n",
        "    # Split the temp dataframe into val and test dataframes.\n",
        "    relative_frac_test = frac_test / (frac_val + frac_test)\n",
        "    df_val, df_test, y_val, y_test = train_test_split(df_temp,\n",
        "                                                      y_temp,\n",
        "                                                      stratify=y_temp,\n",
        "                                                      test_size=relative_frac_test,\n",
        "                                                      random_state=random_state)\n",
        "\n",
        "    assert len(df_input) == len(df_train) + len(df_val) + len(df_test)\n",
        "\n",
        "    return df_train, df_val, df_test\n",
        "\n",
        "\n",
        "df_train, df_val, df_test = \\\n",
        "    split_stratified_into_train_val_test(df_balanced, stratify_colname='toxic', frac_train=0.60, frac_val=0.20, frac_test=0.20)"
      ],
      "metadata": {
        "id": "Le1TS47kKyA3"
      },
      "id": "Le1TS47kKyA3",
      "execution_count": 36,
      "outputs": []
    },
    {
      "cell_type": "code",
      "source": [
        "df_train.to_csv('train_data.csv')\n",
        "df_val.to_csv('validation_data.csv')\n",
        "df_test.to_csv('test_data.csv')"
      ],
      "metadata": {
        "id": "GimduGAs5R7k"
      },
      "id": "GimduGAs5R7k",
      "execution_count": 37,
      "outputs": []
    },
    {
      "cell_type": "code",
      "source": [
        "!ls"
      ],
      "metadata": {
        "colab": {
          "base_uri": "https://localhost:8080/"
        },
        "id": "cVcBPIXC51pC",
        "outputId": "414364ea-6b9c-4b2c-c89e-79fd65881bf9"
      },
      "id": "cVcBPIXC51pC",
      "execution_count": 38,
      "outputs": [
        {
          "output_type": "stream",
          "name": "stdout",
          "text": [
            "jigsaw-unintended-bias-in-toxicity-classification.zip  train_data.csv\n",
            "sample_data\t\t\t\t\t       validation_data.csv\n",
            "test_data.csv\n"
          ]
        }
      ]
    },
    {
      "cell_type": "code",
      "source": [
        "\n",
        "\n",
        "files.download('train_data.csv')\n",
        "files.download('validation_data.csv')\n",
        "files.download('test_data.csv')"
      ],
      "metadata": {
        "colab": {
          "base_uri": "https://localhost:8080/",
          "height": 17
        },
        "id": "iXjLpV4k6RNa",
        "outputId": "21bfced7-28ca-44cf-ca62-a6600933985c"
      },
      "id": "iXjLpV4k6RNa",
      "execution_count": 39,
      "outputs": [
        {
          "output_type": "display_data",
          "data": {
            "text/plain": [
              "<IPython.core.display.Javascript object>"
            ],
            "application/javascript": [
              "\n",
              "    async function download(id, filename, size) {\n",
              "      if (!google.colab.kernel.accessAllowed) {\n",
              "        return;\n",
              "      }\n",
              "      const div = document.createElement('div');\n",
              "      const label = document.createElement('label');\n",
              "      label.textContent = `Downloading \"${filename}\": `;\n",
              "      div.appendChild(label);\n",
              "      const progress = document.createElement('progress');\n",
              "      progress.max = size;\n",
              "      div.appendChild(progress);\n",
              "      document.body.appendChild(div);\n",
              "\n",
              "      const buffers = [];\n",
              "      let downloaded = 0;\n",
              "\n",
              "      const channel = await google.colab.kernel.comms.open(id);\n",
              "      // Send a message to notify the kernel that we're ready.\n",
              "      channel.send({})\n",
              "\n",
              "      for await (const message of channel.messages) {\n",
              "        // Send a message to notify the kernel that we're ready.\n",
              "        channel.send({})\n",
              "        if (message.buffers) {\n",
              "          for (const buffer of message.buffers) {\n",
              "            buffers.push(buffer);\n",
              "            downloaded += buffer.byteLength;\n",
              "            progress.value = downloaded;\n",
              "          }\n",
              "        }\n",
              "      }\n",
              "      const blob = new Blob(buffers, {type: 'application/binary'});\n",
              "      const a = document.createElement('a');\n",
              "      a.href = window.URL.createObjectURL(blob);\n",
              "      a.download = filename;\n",
              "      div.appendChild(a);\n",
              "      a.click();\n",
              "      div.remove();\n",
              "    }\n",
              "  "
            ]
          },
          "metadata": {}
        },
        {
          "output_type": "display_data",
          "data": {
            "text/plain": [
              "<IPython.core.display.Javascript object>"
            ],
            "application/javascript": [
              "download(\"download_2776aa5f-d46f-42a2-a729-d9160562b163\", \"train_data.csv\", 51840334)"
            ]
          },
          "metadata": {}
        },
        {
          "output_type": "display_data",
          "data": {
            "text/plain": [
              "<IPython.core.display.Javascript object>"
            ],
            "application/javascript": [
              "\n",
              "    async function download(id, filename, size) {\n",
              "      if (!google.colab.kernel.accessAllowed) {\n",
              "        return;\n",
              "      }\n",
              "      const div = document.createElement('div');\n",
              "      const label = document.createElement('label');\n",
              "      label.textContent = `Downloading \"${filename}\": `;\n",
              "      div.appendChild(label);\n",
              "      const progress = document.createElement('progress');\n",
              "      progress.max = size;\n",
              "      div.appendChild(progress);\n",
              "      document.body.appendChild(div);\n",
              "\n",
              "      const buffers = [];\n",
              "      let downloaded = 0;\n",
              "\n",
              "      const channel = await google.colab.kernel.comms.open(id);\n",
              "      // Send a message to notify the kernel that we're ready.\n",
              "      channel.send({})\n",
              "\n",
              "      for await (const message of channel.messages) {\n",
              "        // Send a message to notify the kernel that we're ready.\n",
              "        channel.send({})\n",
              "        if (message.buffers) {\n",
              "          for (const buffer of message.buffers) {\n",
              "            buffers.push(buffer);\n",
              "            downloaded += buffer.byteLength;\n",
              "            progress.value = downloaded;\n",
              "          }\n",
              "        }\n",
              "      }\n",
              "      const blob = new Blob(buffers, {type: 'application/binary'});\n",
              "      const a = document.createElement('a');\n",
              "      a.href = window.URL.createObjectURL(blob);\n",
              "      a.download = filename;\n",
              "      div.appendChild(a);\n",
              "      a.click();\n",
              "      div.remove();\n",
              "    }\n",
              "  "
            ]
          },
          "metadata": {}
        },
        {
          "output_type": "display_data",
          "data": {
            "text/plain": [
              "<IPython.core.display.Javascript object>"
            ],
            "application/javascript": [
              "download(\"download_7c24f532-30e5-4831-88be-bfc972f0ef7e\", \"validation_data.csv\", 17378946)"
            ]
          },
          "metadata": {}
        },
        {
          "output_type": "display_data",
          "data": {
            "text/plain": [
              "<IPython.core.display.Javascript object>"
            ],
            "application/javascript": [
              "\n",
              "    async function download(id, filename, size) {\n",
              "      if (!google.colab.kernel.accessAllowed) {\n",
              "        return;\n",
              "      }\n",
              "      const div = document.createElement('div');\n",
              "      const label = document.createElement('label');\n",
              "      label.textContent = `Downloading \"${filename}\": `;\n",
              "      div.appendChild(label);\n",
              "      const progress = document.createElement('progress');\n",
              "      progress.max = size;\n",
              "      div.appendChild(progress);\n",
              "      document.body.appendChild(div);\n",
              "\n",
              "      const buffers = [];\n",
              "      let downloaded = 0;\n",
              "\n",
              "      const channel = await google.colab.kernel.comms.open(id);\n",
              "      // Send a message to notify the kernel that we're ready.\n",
              "      channel.send({})\n",
              "\n",
              "      for await (const message of channel.messages) {\n",
              "        // Send a message to notify the kernel that we're ready.\n",
              "        channel.send({})\n",
              "        if (message.buffers) {\n",
              "          for (const buffer of message.buffers) {\n",
              "            buffers.push(buffer);\n",
              "            downloaded += buffer.byteLength;\n",
              "            progress.value = downloaded;\n",
              "          }\n",
              "        }\n",
              "      }\n",
              "      const blob = new Blob(buffers, {type: 'application/binary'});\n",
              "      const a = document.createElement('a');\n",
              "      a.href = window.URL.createObjectURL(blob);\n",
              "      a.download = filename;\n",
              "      div.appendChild(a);\n",
              "      a.click();\n",
              "      div.remove();\n",
              "    }\n",
              "  "
            ]
          },
          "metadata": {}
        },
        {
          "output_type": "display_data",
          "data": {
            "text/plain": [
              "<IPython.core.display.Javascript object>"
            ],
            "application/javascript": [
              "download(\"download_c24006be-ec5e-4e2e-90e4-8c4561e169d3\", \"test_data.csv\", 17371987)"
            ]
          },
          "metadata": {}
        }
      ]
    }
  ],
  "metadata": {
    "kernelspec": {
      "display_name": "work-env",
      "language": "python",
      "name": "work-env"
    },
    "language_info": {
      "codemirror_mode": {
        "name": "ipython",
        "version": 3
      },
      "file_extension": ".py",
      "mimetype": "text/x-python",
      "name": "python",
      "nbconvert_exporter": "python",
      "pygments_lexer": "ipython3",
      "version": "3.8.9"
    },
    "colab": {
      "provenance": []
    }
  },
  "nbformat": 4,
  "nbformat_minor": 5
}