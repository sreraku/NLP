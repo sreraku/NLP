{
  "cells": [
    {
      "cell_type": "markdown",
      "id": "00805af9",
      "metadata": {
        "id": "00805af9"
      },
      "source": [
        "Install the packages required\n",
        "\n"
      ]
    },
    {
      "cell_type": "code",
      "execution_count": null,
      "id": "f42ea37d",
      "metadata": {
        "id": "f42ea37d"
      },
      "outputs": [],
      "source": [
        "!pip install pydot --quiet\n",
        "!pip install transformers --quiet\n",
        "!pip install sentencepiece --quiet\n",
        "!pip install nltk --quiet\n",
        "!pip install torch --quiet"
      ]
    },
    {
      "cell_type": "code",
      "execution_count": null,
      "id": "a74e61e8",
      "metadata": {
        "id": "a74e61e8"
      },
      "outputs": [],
      "source": [
        "# standard\n",
        "import numpy as np\n",
        "import pandas as pd\n",
        "\n",
        "\n",
        "import sklearn as sk\n",
        "from sklearn.feature_extraction.text import CountVectorizer\n",
        "import os\n",
        "import nltk\n",
        "from nltk.data import find\n",
        "\n",
        "import matplotlib.pyplot as plt\n",
        "\n",
        "import re\n",
        "import string\n",
        "import seaborn as sns\n",
        "import os\n",
        "import textwrap\n",
        "\n",
        "\n",
        "import copy\n",
        "\n",
        "from tqdm import tqdm\n",
        "import gc\n",
        "\n",
        "import torch\n",
        "import torch.nn as nn\n",
        "import torch.nn.functional as F\n",
        "from torch import optim\n",
        "from torch.utils.data import Dataset, DataLoader\n",
        "\n",
        "from sklearn.metrics import (\n",
        "    accuracy_score, \n",
        "    f1_score, \n",
        "    classification_report\n",
        ")\n",
        "\n",
        "import transformers\n",
        "from transformers import (\n",
        "    T5Tokenizer, \n",
        "    T5Model,\n",
        "    T5ForConditionalGeneration,\n",
        "    get_linear_schedule_with_warmup\n",
        ")\n",
        "\n",
        "\n"
      ]
    },
    {
      "cell_type": "code",
      "execution_count": null,
      "id": "d711409d",
      "metadata": {
        "id": "d711409d"
      },
      "outputs": [],
      "source": [
        "df_train = pd.read_csv(\"https://adamhyman-public.s3.amazonaws.com/w266/for_modeling/augmented_and_balanced/train_data_balanced.csv\")\n",
        "\n",
        "df_valid = pd.read_csv(\"https://adamhyman-public.s3.amazonaws.com/w266/for_modeling/augmented_and_balanced/validation_data_balanced.csv\")\n",
        "\n",
        "df_test = pd.read_csv(\"https://adamhyman-public.s3.amazonaws.com/w266/for_modeling/test_data.csv\")"
      ]
    },
    {
      "cell_type": "code",
      "execution_count": null,
      "id": "07f8cb56",
      "metadata": {
        "id": "07f8cb56"
      },
      "outputs": [],
      "source": [
        "df_train = df_train.astype({'toxic':'int', 'severe_toxic':'int', 'obscene':'int', 'threat':'int', 'insult':'int', 'identity_hate':'int'})\n",
        "#There are 3 null comments in train dataset, 1 in valid and 1 in test. They need to be removed or we get error.\n",
        "df_train = df_train.dropna(how='any',axis=0).reset_index(drop=True)\n",
        "df_valid = df_valid.dropna(how='any',axis=0).reset_index(drop=True)\n",
        "df_test = df_test.dropna(how='any',axis=0) .reset_index(drop=True)\n",
        "\n",
        "\n",
        "df_train = df_train[df_train[\"comment_text\"] != '']\n",
        "df_valid = df_valid[df_valid[\"comment_text\"] != '']\n",
        "df_test = df_test[df_test[\"comment_text\"] != '']\n",
        "\n",
        "df_train = df_train.astype({'toxic':'int', 'severe_toxic':'int', 'obscene':'int', 'threat':'int', 'insult':'int', 'identity_hate':'int'})\n",
        "df_valid = df_valid.astype({'toxic':'int', 'severe_toxic':'int', 'obscene':'int', 'threat':'int', 'insult':'int', 'identity_hate':'int'})\n",
        "df_test = df_test.astype({'toxic':'int', 'severe_toxic':'int', 'obscene':'int', 'threat':'int', 'insult':'int', 'identity_hate':'int'})"
      ]
    },
    {
      "cell_type": "code",
      "execution_count": null,
      "id": "a901e87f",
      "metadata": {
        "id": "a901e87f",
        "colab": {
          "base_uri": "https://localhost:8080/",
          "height": 419
        },
        "outputId": "8bba3986-3485-42ce-94f4-a412e3071377"
      },
      "outputs": [
        {
          "output_type": "execute_result",
          "data": {
            "text/plain": [
              "        id  comment_text  toxic  severe_toxic  obscene  threat  insult  \\\n",
              "0     True          True  False         False    False   False   False   \n",
              "1     True          True  False         False    False   False   False   \n",
              "2     True          True  False         False    False   False   False   \n",
              "3     True          True  False         False    False   False   False   \n",
              "4     True          True  False         False    False   False   False   \n",
              "...    ...           ...    ...           ...      ...     ...     ...   \n",
              "3277  True          True  False         False    False   False   False   \n",
              "3278  True          True  False         False    False   False   False   \n",
              "3279  True          True  False         False    False   False   False   \n",
              "3280  True          True  False         False    False   False   False   \n",
              "3281  True          True  False         False    False   False   False   \n",
              "\n",
              "      identity_hate  text  \n",
              "0             False  True  \n",
              "1             False  True  \n",
              "2             False  True  \n",
              "3             False  True  \n",
              "4             False  True  \n",
              "...             ...   ...  \n",
              "3277          False  True  \n",
              "3278          False  True  \n",
              "3279          False  True  \n",
              "3280          False  True  \n",
              "3281          False  True  \n",
              "\n",
              "[3282 rows x 9 columns]"
            ],
            "text/html": [
              "\n",
              "  <div id=\"df-da097f41-1030-401e-bbaa-575a2d01ebb4\">\n",
              "    <div class=\"colab-df-container\">\n",
              "      <div>\n",
              "<style scoped>\n",
              "    .dataframe tbody tr th:only-of-type {\n",
              "        vertical-align: middle;\n",
              "    }\n",
              "\n",
              "    .dataframe tbody tr th {\n",
              "        vertical-align: top;\n",
              "    }\n",
              "\n",
              "    .dataframe thead th {\n",
              "        text-align: right;\n",
              "    }\n",
              "</style>\n",
              "<table border=\"1\" class=\"dataframe\">\n",
              "  <thead>\n",
              "    <tr style=\"text-align: right;\">\n",
              "      <th></th>\n",
              "      <th>id</th>\n",
              "      <th>comment_text</th>\n",
              "      <th>toxic</th>\n",
              "      <th>severe_toxic</th>\n",
              "      <th>obscene</th>\n",
              "      <th>threat</th>\n",
              "      <th>insult</th>\n",
              "      <th>identity_hate</th>\n",
              "      <th>text</th>\n",
              "    </tr>\n",
              "  </thead>\n",
              "  <tbody>\n",
              "    <tr>\n",
              "      <th>0</th>\n",
              "      <td>True</td>\n",
              "      <td>True</td>\n",
              "      <td>False</td>\n",
              "      <td>False</td>\n",
              "      <td>False</td>\n",
              "      <td>False</td>\n",
              "      <td>False</td>\n",
              "      <td>False</td>\n",
              "      <td>True</td>\n",
              "    </tr>\n",
              "    <tr>\n",
              "      <th>1</th>\n",
              "      <td>True</td>\n",
              "      <td>True</td>\n",
              "      <td>False</td>\n",
              "      <td>False</td>\n",
              "      <td>False</td>\n",
              "      <td>False</td>\n",
              "      <td>False</td>\n",
              "      <td>False</td>\n",
              "      <td>True</td>\n",
              "    </tr>\n",
              "    <tr>\n",
              "      <th>2</th>\n",
              "      <td>True</td>\n",
              "      <td>True</td>\n",
              "      <td>False</td>\n",
              "      <td>False</td>\n",
              "      <td>False</td>\n",
              "      <td>False</td>\n",
              "      <td>False</td>\n",
              "      <td>False</td>\n",
              "      <td>True</td>\n",
              "    </tr>\n",
              "    <tr>\n",
              "      <th>3</th>\n",
              "      <td>True</td>\n",
              "      <td>True</td>\n",
              "      <td>False</td>\n",
              "      <td>False</td>\n",
              "      <td>False</td>\n",
              "      <td>False</td>\n",
              "      <td>False</td>\n",
              "      <td>False</td>\n",
              "      <td>True</td>\n",
              "    </tr>\n",
              "    <tr>\n",
              "      <th>4</th>\n",
              "      <td>True</td>\n",
              "      <td>True</td>\n",
              "      <td>False</td>\n",
              "      <td>False</td>\n",
              "      <td>False</td>\n",
              "      <td>False</td>\n",
              "      <td>False</td>\n",
              "      <td>False</td>\n",
              "      <td>True</td>\n",
              "    </tr>\n",
              "    <tr>\n",
              "      <th>...</th>\n",
              "      <td>...</td>\n",
              "      <td>...</td>\n",
              "      <td>...</td>\n",
              "      <td>...</td>\n",
              "      <td>...</td>\n",
              "      <td>...</td>\n",
              "      <td>...</td>\n",
              "      <td>...</td>\n",
              "      <td>...</td>\n",
              "    </tr>\n",
              "    <tr>\n",
              "      <th>3277</th>\n",
              "      <td>True</td>\n",
              "      <td>True</td>\n",
              "      <td>False</td>\n",
              "      <td>False</td>\n",
              "      <td>False</td>\n",
              "      <td>False</td>\n",
              "      <td>False</td>\n",
              "      <td>False</td>\n",
              "      <td>True</td>\n",
              "    </tr>\n",
              "    <tr>\n",
              "      <th>3278</th>\n",
              "      <td>True</td>\n",
              "      <td>True</td>\n",
              "      <td>False</td>\n",
              "      <td>False</td>\n",
              "      <td>False</td>\n",
              "      <td>False</td>\n",
              "      <td>False</td>\n",
              "      <td>False</td>\n",
              "      <td>True</td>\n",
              "    </tr>\n",
              "    <tr>\n",
              "      <th>3279</th>\n",
              "      <td>True</td>\n",
              "      <td>True</td>\n",
              "      <td>False</td>\n",
              "      <td>False</td>\n",
              "      <td>False</td>\n",
              "      <td>False</td>\n",
              "      <td>False</td>\n",
              "      <td>False</td>\n",
              "      <td>True</td>\n",
              "    </tr>\n",
              "    <tr>\n",
              "      <th>3280</th>\n",
              "      <td>True</td>\n",
              "      <td>True</td>\n",
              "      <td>False</td>\n",
              "      <td>False</td>\n",
              "      <td>False</td>\n",
              "      <td>False</td>\n",
              "      <td>False</td>\n",
              "      <td>False</td>\n",
              "      <td>True</td>\n",
              "    </tr>\n",
              "    <tr>\n",
              "      <th>3281</th>\n",
              "      <td>True</td>\n",
              "      <td>True</td>\n",
              "      <td>False</td>\n",
              "      <td>False</td>\n",
              "      <td>False</td>\n",
              "      <td>False</td>\n",
              "      <td>False</td>\n",
              "      <td>False</td>\n",
              "      <td>True</td>\n",
              "    </tr>\n",
              "  </tbody>\n",
              "</table>\n",
              "<p>3282 rows × 9 columns</p>\n",
              "</div>\n",
              "      <button class=\"colab-df-convert\" onclick=\"convertToInteractive('df-da097f41-1030-401e-bbaa-575a2d01ebb4')\"\n",
              "              title=\"Convert this dataframe to an interactive table.\"\n",
              "              style=\"display:none;\">\n",
              "        \n",
              "  <svg xmlns=\"http://www.w3.org/2000/svg\" height=\"24px\"viewBox=\"0 0 24 24\"\n",
              "       width=\"24px\">\n",
              "    <path d=\"M0 0h24v24H0V0z\" fill=\"none\"/>\n",
              "    <path d=\"M18.56 5.44l.94 2.06.94-2.06 2.06-.94-2.06-.94-.94-2.06-.94 2.06-2.06.94zm-11 1L8.5 8.5l.94-2.06 2.06-.94-2.06-.94L8.5 2.5l-.94 2.06-2.06.94zm10 10l.94 2.06.94-2.06 2.06-.94-2.06-.94-.94-2.06-.94 2.06-2.06.94z\"/><path d=\"M17.41 7.96l-1.37-1.37c-.4-.4-.92-.59-1.43-.59-.52 0-1.04.2-1.43.59L10.3 9.45l-7.72 7.72c-.78.78-.78 2.05 0 2.83L4 21.41c.39.39.9.59 1.41.59.51 0 1.02-.2 1.41-.59l7.78-7.78 2.81-2.81c.8-.78.8-2.07 0-2.86zM5.41 20L4 18.59l7.72-7.72 1.47 1.35L5.41 20z\"/>\n",
              "  </svg>\n",
              "      </button>\n",
              "      \n",
              "  <style>\n",
              "    .colab-df-container {\n",
              "      display:flex;\n",
              "      flex-wrap:wrap;\n",
              "      gap: 12px;\n",
              "    }\n",
              "\n",
              "    .colab-df-convert {\n",
              "      background-color: #E8F0FE;\n",
              "      border: none;\n",
              "      border-radius: 50%;\n",
              "      cursor: pointer;\n",
              "      display: none;\n",
              "      fill: #1967D2;\n",
              "      height: 32px;\n",
              "      padding: 0 0 0 0;\n",
              "      width: 32px;\n",
              "    }\n",
              "\n",
              "    .colab-df-convert:hover {\n",
              "      background-color: #E2EBFA;\n",
              "      box-shadow: 0px 1px 2px rgba(60, 64, 67, 0.3), 0px 1px 3px 1px rgba(60, 64, 67, 0.15);\n",
              "      fill: #174EA6;\n",
              "    }\n",
              "\n",
              "    [theme=dark] .colab-df-convert {\n",
              "      background-color: #3B4455;\n",
              "      fill: #D2E3FC;\n",
              "    }\n",
              "\n",
              "    [theme=dark] .colab-df-convert:hover {\n",
              "      background-color: #434B5C;\n",
              "      box-shadow: 0px 1px 3px 1px rgba(0, 0, 0, 0.15);\n",
              "      filter: drop-shadow(0px 1px 2px rgba(0, 0, 0, 0.3));\n",
              "      fill: #FFFFFF;\n",
              "    }\n",
              "  </style>\n",
              "\n",
              "      <script>\n",
              "        const buttonEl =\n",
              "          document.querySelector('#df-da097f41-1030-401e-bbaa-575a2d01ebb4 button.colab-df-convert');\n",
              "        buttonEl.style.display =\n",
              "          google.colab.kernel.accessAllowed ? 'block' : 'none';\n",
              "\n",
              "        async function convertToInteractive(key) {\n",
              "          const element = document.querySelector('#df-da097f41-1030-401e-bbaa-575a2d01ebb4');\n",
              "          const dataTable =\n",
              "            await google.colab.kernel.invokeFunction('convertToInteractive',\n",
              "                                                     [key], {});\n",
              "          if (!dataTable) return;\n",
              "\n",
              "          const docLinkHtml = 'Like what you see? Visit the ' +\n",
              "            '<a target=\"_blank\" href=https://colab.research.google.com/notebooks/data_table.ipynb>data table notebook</a>'\n",
              "            + ' to learn more about interactive tables.';\n",
              "          element.innerHTML = '';\n",
              "          dataTable['output_type'] = 'display_data';\n",
              "          await google.colab.output.renderOutput(dataTable, element);\n",
              "          const docLink = document.createElement('div');\n",
              "          docLink.innerHTML = docLinkHtml;\n",
              "          element.appendChild(docLink);\n",
              "        }\n",
              "      </script>\n",
              "    </div>\n",
              "  </div>\n",
              "  "
            ]
          },
          "metadata": {},
          "execution_count": 7
        }
      ],
      "source": [
        "def  clean_text(text):\n",
        "    text =  text.lower()\n",
        "    text = re.sub(r\"i'm\", \"i am\", text)\n",
        "    text = re.sub(r\"he's\", \"he is\", text)\n",
        "    text = re.sub(r\"she's\", \"she is\", text)\n",
        "    text = re.sub(r\"it's\", \"it is\", text)\n",
        "    text = re.sub(r\"that's\", \"that is\", text)\n",
        "    text = re.sub(r\"what's\", \"that is\", text)\n",
        "    text = re.sub(r\"where's\", \"where is\", text)\n",
        "    text = re.sub(r\"how's\", \"how is\", text)\n",
        "    text = re.sub(r\"'ll\", \" will\", text)\n",
        "    text = re.sub(r\"'ve\", \" have\", text)\n",
        "    text = re.sub(r\"'re\", \" are\", text)\n",
        "    text = re.sub(r\"'d\", \" would\", text)\n",
        "    text = re.sub(r\"'re\", \" are\", text)\n",
        "    text = re.sub(r\"won't\", \"will not\", text)\n",
        "    text = re.sub(r\"can't\", \"cannot\", text)\n",
        "    text = re.sub(r\"n't\", \" not\", text)\n",
        "    text = re.sub(r\"n'\", \"ng\", text)\n",
        "    text = re.sub(r\"'bout\", \"about\", text)\n",
        "    text = re.sub(r\"'til\", \"until\", text)\n",
        "    text = re.sub(r\"[-()\\\"\\#/@;:{}`+=~|!?,]\", \"\", text)\n",
        "    text = text.translate(str.maketrans('', '', string.punctuation)) \n",
        "    text = re.sub(\"(\\W)\",\" \",text) \n",
        "\n",
        "    return text\n",
        "df_train[\"text\"] = df_train['comment_text'].apply(lambda text: clean_text(text))\n",
        "df_valid[\"text\"] = df_valid['comment_text'].apply(lambda text: clean_text(text))\n",
        "df_test[\"text\"] = df_test['comment_text'].apply(lambda text: clean_text(text))\n"
      ]
    },
    {
      "cell_type": "code",
      "execution_count": null,
      "id": "3ade9f8c",
      "metadata": {
        "id": "3ade9f8c"
      },
      "outputs": [],
      "source": [
        "train_comments, train_labels = df_train[\"text\"], df_train[['toxic', 'severe_toxic', 'obscene', 'threat', 'insult', 'identity_hate']]\n",
        "valid_comments, valid_labels = df_valid[\"text\"], df_valid[['toxic', 'severe_toxic', 'obscene', 'threat', 'insult', 'identity_hate']]\n",
        "test_comments, test_labels = df_test[\"text\"], df_test[['toxic', 'severe_toxic', 'obscene', 'threat', 'insult', 'identity_hate']]"
      ]
    },
    {
      "cell_type": "code",
      "execution_count": null,
      "id": "1e82f497",
      "metadata": {
        "id": "1e82f497"
      },
      "outputs": [],
      "source": [
        "def get_labels(df):\n",
        "    labels_li = [' '.join(x.lower().split()) for x in df.columns.to_list()[:6]]\n",
        "    labels_matrix = np.array([labels_li] * len(df))\n",
        "\n",
        "    mask = df.iloc[:, :6].values.astype(bool)\n",
        "    labels = []\n",
        "    for l, m in zip(labels_matrix, mask):\n",
        "        x = l[m]\n",
        "        if len(x) > 0:\n",
        "            labels.append(' , '.join(x.tolist()) + ' </s>')\n",
        "        else:\n",
        "            labels.append('none </s>')\n",
        "    return labels\n",
        "\n",
        "def get_texts(df):\n",
        "    texts = 'multilabel classification: ' + df\n",
        "    \n",
        "    return texts\n"
      ]
    },
    {
      "cell_type": "code",
      "execution_count": null,
      "id": "iUaE_5USP7Mo",
      "metadata": {
        "id": "iUaE_5USP7Mo",
        "colab": {
          "base_uri": "https://localhost:8080/"
        },
        "outputId": "83350350-8737-4126-b865-301b62b725ba"
      },
      "outputs": [
        {
          "output_type": "stream",
          "name": "stdout",
          "text": [
            "multilabel classification: lead paragraph the lead does not refers that the little girl and her siblings were left unattended in an unlocked ground floor hotel room while the parents went to a restaurant any reader will think that she disappeared while staying with her parents in the apartment and this was not what really happened\n",
            "['none </s>', 'none </s>', 'none </s>', 'none </s>', 'none </s>']\n",
            "       toxic  severe_toxic  obscene  threat  insult  identity_hate\n",
            "0          0             0        0       0       0              0\n",
            "1          0             0        0       0       0              0\n",
            "2          0             0        0       0       0              0\n",
            "3          0             0        0       0       0              0\n",
            "4          0             0        0       0       0              0\n",
            "...      ...           ...      ...     ...     ...            ...\n",
            "13126      1             0        1       1       0              0\n",
            "13127      1             0        0       1       1              0\n",
            "13128      0             0        0       0       0              0\n",
            "13129      0             0        0       0       0              0\n",
            "13130      0             0        0       0       0              0\n",
            "\n",
            "[13131 rows x 6 columns]\n",
            "TEXT -\tmultilabel classification:  have you seen how incompetent middle easterners are their schools are so much worse than ours  the middle easterners are animals they kill another human for no reason  those middle easterners have been invaded so many times they have been brainwashed  arabs are ignorant and their culture is based on violence and war  middle easterners dont appreciate western culture and their western allies like we do  the only thing the middle east has accomplished is making shirts with holes in them \n",
            "LABEL -\ttoxic , identity_hate </s>\n",
            "\n",
            "TEXT -\tmultilabel classification: agreed removed   \n",
            "LABEL -\tnone </s>\n",
            "\n",
            "TEXT -\tmultilabel classification:    let me add a comment here in this discussion  while it certainly seems strange that jokes are included on a page concerning  areligiong dismissing it completely without some discussion and consideration would be doing a disservice  it may very well be that bektashi culture is intimately tied to a rich collection of jokes which serve some pedagogical role in the religion  for example if we look at this site  httpwwwalevibektasiorgxalevis1htm  it is written that  x alevibektashi humor alevis and bektashis love to use humor to mock religious legalism hypocrisy and those who they feel have persecuted them this humor reveals much about alevibektashi thought to understand their humor is to understand the alevibektashis  approach to life religion and their place in society here are only a few examples of the hundreds of bektashi jokes fä kralar that have been collected this first joke reflects the alevi attitude toward the legalism of the five pillars   the author is john shindeldecker and he is listed as one of the researchers on the fairly officiallooking homepage   httpwwwalevibektasiorgmakaleenglhtm  in this case this material suggests that humor is an integral part of defining bektashi culture as distinctive from other factions of islam  much as zen buddhism is characterized by the sometimes meaningless koans or gospel music in certain factions of protestant christianity  in all of these cases i do not think it is fair to say that it is like adding black jokes to an article about african americans  this comparison is also a bit overreaching and unwarranted  aldirmagonul has made a good faith case for why the jokes should be placed on this page  freestylefrappe has deleted it by only saying that it is suspect and racist  but given what we read from another source this seems an overly simplified and inaccurate depiction of the jokes section  i would like to hear an argument against these lines of evidence from freestylefrappe \n",
            "LABEL -\tnone </s>\n",
            "\n",
            "TEXT -\tmultilabel classification:   when they started working on shenmue not one person on that team said lets make this a killer app this is my reasoning behind removing that phrase from the article i do not see how this is a problem  if you can find a quote from someone involved in making the game that includes killer application  then i will quit\n",
            "LABEL -\tnone </s>\n",
            "\n",
            "TEXT -\tmultilabel classification:  binksternet and you did not even read the talk section to discuss this you simply reverted and told me to discuss this i already have you have not presented arguments against  \n",
            "LABEL -\tnone </s>\n",
            "\n",
            "TEXT -\tmultilabel classification: you are being incredibly dishonest by arguing it is not only mainstream among some groups it is only among cultural and physical anthropologists everywhere else it is not so stop beating around the bush already and present your version of the sentence\n",
            "LABEL -\tnone </s>\n",
            "\n",
            "val TEXT -\tmultilabel classification: just wait  your death is near\n",
            "val LABEL -\ttoxic , threat </s>\n",
            "\n",
            "val TEXT -\tmultilabel classification: al wistert was inducted into the eagles honor roll yesterday  i do not have all the details but someone should write this in\n",
            "val LABEL -\tnone </s>\n",
            "\n",
            "val TEXT -\tmultilabel classification: come on fag boy block me\n",
            "val LABEL -\ttoxic , insult </s>\n",
            "\n",
            "val TEXT -\tmultilabel classification: you motherfuckin bitch i want to rape you smelly whore stop blocking my account or get sick my niggas came home and kidnapped and raped you and your family\n",
            "val LABEL -\ttoxic , severe_toxic , obscene , threat , insult , identity_hate </s>\n",
            "\n",
            "val TEXT -\tmultilabel classification: shit cunt fuck nigger chink\n",
            "val LABEL -\ttoxic , severe_toxic , obscene , insult , identity_hate </s>\n",
            "\n",
            "val TEXT -\tmultilabel classification: i am going to be honest with you i am not going to pass your articles as ga because frankly they suck but that does not mean an agreement cannot be reached upon where your articles could still potentially reach ga  first thing you need to know is that good article status is a crock of shit the criteria for it is a fair model and it is not the problem the problem is that it is not governed by a committee any bozo like yourself is allowed to review an article and ultimately decide if the article in their mind merits inclusion into cgd club green dot the bar sits firmly in the mud snakes slither across it my articles on the other hand never have enjoyed the benefits of exception with extreme prejudice they have been held to the highest possible standard set by the criteria  now we get to your ga review of howling bells which i would like a full explanation for that is one of the agreements that i have set forth in order for you to avoid failure of your articles by me you can decide if you would like to abide by this resolution or not tell me something are you on drugs prescription or otherwise if that offends you i apologize but your review made me think of three things either somebody took a shit on your face and you could not see through it you had a big d in your ass or you were in a state of incoherence brought on by substance abuse i must confess i am ashamed that i am even having to talk to some punk ass high school kid who listens to crappy music not that i feel that i hold a higher place in this world than you because lord knows that is not the case it is just that i am sitting here having to deal with some goddamn little kid over the computer even at your age i know you understand where i am coming from  theres not much of a reward getting an article to ga status aside from that dot a small part of me would like to see the article at ga but it really does not concern me a whole lot whether it gets there or not howling bells is at ga and that is basically good enough for me as far as halfway gone goes at this point it is outta my hands you are just gonna have to accept the fact the article could possibly be delisted consider that your penalty for fucking around with other peoples hard work  ok so there are two agreements i have come up with that i think are very acceptable  a full explanation of your ga review of howling bells album i will guide you through it on the review page if you decide to play ball good on ya you must say the following to me here on my talk page i  am just a punk ass teenager who loves justin beiber loves the crappy music of justin beiber and loves crappy music from many other crappy artists the font has to be huge too none of this small crap also see if you can do it in some kind of color that would be cool  now i will not pass your articles if you agree to this but i will not fail them instead i will explain on the review pages that any reviewing of the articles that i have done up until this point should be disregarded my reasoning will be because of my inexperience as a first time reviewer has led me to realize that i am not capable for such a task i will wash my hands of the articles take them off hold and request that another editor undertake the review if you are unwilling to accept these agreements than you leave me no other choice but to expeditiously fail the articles let me know what you wanna do kid  meow\n",
            "val LABEL -\ttoxic </s>\n",
            "\n"
          ]
        }
      ],
      "source": [
        "\n",
        "texts = get_texts(train_comments)\n",
        "labels = get_labels(train_labels)\n",
        "\n",
        "\n",
        "for text, label in zip(texts[854:860], labels[854:860]):\n",
        "     print(f'TEXT -\\t{text}')\n",
        "     print(f'LABEL -\\t{label}')\n",
        "     print()\n",
        "\n",
        "val_texts = get_texts(valid_comments)\n",
        "val_labels = get_labels(valid_labels)\n",
        "\n",
        "\n",
        "for text, label in zip(val_texts[854:860], val_labels[854:860]):\n",
        "     print(f'val TEXT -\\t{text}')\n",
        "     print(f'val LABEL -\\t{label}')\n",
        "     print()\n",
        "# print(type(train_comments))\n"
      ]
    },
    {
      "cell_type": "code",
      "execution_count": null,
      "id": "ee7a8697",
      "metadata": {
        "id": "ee7a8697",
        "colab": {
          "base_uri": "https://localhost:8080/",
          "height": 485
        },
        "outputId": "5337da18-651b-4be9-d77a-bb9862f6f493"
      },
      "outputs": [
        {
          "output_type": "stream",
          "name": "stdout",
          "text": [
            "['severe_toxic', 'obscene', 'threat', 'insult', 'identity_hate']\n"
          ]
        },
        {
          "output_type": "display_data",
          "data": {
            "text/plain": [
              "<Figure size 600x400 with 1 Axes>"
            ],
            "image/png": "[encoded data removed]"
          },
          "metadata": {}
        }
      ],
      "source": [
        "categories = df_train.columns.to_list()[3:8]\n",
        "plt.figure(figsize=(6, 4))\n",
        "print(categories)\n",
        "\n",
        "ax = sns.barplot(x=categories, y=df_train.iloc[:, 3:8].sum().values)\n",
        "plt.ylabel('Total ')\n",
        "plt.xlabel('Toxicity ')\n",
        "plt.xticks(rotation=90)\n",
        "plt.show()"
      ]
    },
    {
      "cell_type": "code",
      "execution_count": null,
      "id": "d95f6fc7",
      "metadata": {
        "id": "d95f6fc7",
        "colab": {
          "base_uri": "https://localhost:8080/",
          "height": 388
        },
        "outputId": "5c38caf0-563a-416c-e2af-b974e5d6b4d1"
      },
      "outputs": [
        {
          "output_type": "display_data",
          "data": {
            "text/plain": [
              "<Figure size 600x400 with 1 Axes>"
            ],
            "image/png": "[encoded data removed]"
          },
          "metadata": {}
        }
      ],
      "source": [
        "# no of samples having multiple labels\n",
        "row_sums = df_train.iloc[:, 3:8].sum(axis=1)\n",
        "multilabel_counts = row_sums.value_counts()\n",
        "\n",
        "plt.figure(figsize=(6, 4))\n",
        "ax = sns.barplot(x=multilabel_counts.index, y=multilabel_counts.values)\n",
        "plt.ylabel('Total samples')\n",
        "plt.xlabel('Number of labels')\n",
        "plt.show()"
      ]
    },
    {
      "cell_type": "markdown",
      "id": "46692d94",
      "metadata": {
        "id": "46692d94"
      },
      "source": [
        "Feed the large T5 dataset"
      ]
    },
    {
      "cell_type": "code",
      "execution_count": null,
      "id": "254bb3b1",
      "metadata": {
        "id": "254bb3b1",
        "colab": {
          "base_uri": "https://localhost:8080/"
        },
        "outputId": "6f424440-bd1a-4904-e7b8-80bf8fff7ddc"
      },
      "outputs": [
        {
          "output_type": "stream",
          "name": "stderr",
          "text": [
            "/usr/local/lib/python3.9/dist-packages/transformers/models/t5/tokenization_t5.py:163: FutureWarning: This tokenizer was incorrectly instantiated with a model max length of 512 which will be corrected in Transformers v5.\n",
            "For now, this behavior is kept to avoid breaking backwards compatibility when padding/encoding with `truncation is True`.\n",
            "- Be aware that you SHOULD NOT rely on t5-base automatically truncating your input to 512 when padding/encoding.\n",
            "- If you want to encode/pad to sequences longer than 512 you can either instantiate this tokenizer with `model_max_length` or pass `max_length` when encoding/padding.\n",
            "- To avoid this warning, please instantiate this tokenizer with `model_max_length` set to your preferred value.\n",
            "  warnings.warn(\n"
          ]
        }
      ],
      "source": [
        "class Config:\n",
        "    def __init__(self):\n",
        "        super(Config, self).__init__()\n",
        "\n",
        "        self.SEED = 42\n",
        "        self.MODEL_PATH = 't5-base'\n",
        "\n",
        "        # data\n",
        "        self.TOKENIZER = T5Tokenizer.from_pretrained(self.MODEL_PATH)\n",
        "        self.SRC_MAX_LENGTH = 320\n",
        "        self.TGT_MAX_LENGTH = 20\n",
        "        self.BATCH_SIZE = 16\n",
        "        self.VALIDATION_SPLIT = 0.25\n",
        "\n",
        "        # model\n",
        "        self.DEVICE = torch.device('cuda' if torch.cuda.is_available() else 'cpu')\n",
        "        self.FULL_FINETUNING = True\n",
        "        self.LR = 3e-5\n",
        "        self.OPTIMIZER = 'AdamW'\n",
        "        self.CRITERION = 'BCEWithLogitsLoss'\n",
        "        self.SAVE_BEST_ONLY = True\n",
        "        self.N_VALIDATE_DUR_TRAIN = 3\n",
        "        self.EPOCHS = 2\n",
        "\n",
        "config = Config()"
      ]
    },
    {
      "cell_type": "code",
      "execution_count": null,
      "id": "ddb6fc9c",
      "metadata": {
        "id": "ddb6fc9c"
      },
      "outputs": [],
      "source": [
        "class T5Dataset(Dataset):\n",
        "    def __init__(self, df, texts, labels, indices, set_type=None):\n",
        "        super(T5Dataset, self).__init__()\n",
        "\n",
        "        df = df.iloc[indices]\n",
        "        self.texts = get_texts(texts)\n",
        "        self.set_type = set_type\n",
        "        if self.set_type != 'test':\n",
        "            self.labels = get_labels(labels)\n",
        "\n",
        "        self.tokenizer = config.TOKENIZER\n",
        "        self.src_max_length = config.SRC_MAX_LENGTH\n",
        "        self.tgt_max_length = config.TGT_MAX_LENGTH\n",
        "\n",
        "    def __len__(self):\n",
        "        return len(self.texts)\n",
        "    \n",
        "    def __getitem__(self, index):\n",
        "\n",
        "        src_tokenized = self.tokenizer.encode_plus(\n",
        "            self.texts[index], \n",
        "            max_length=self.src_max_length,\n",
        "            pad_to_max_length=True,\n",
        "            truncation=True,\n",
        "            return_attention_mask=True,\n",
        "            return_token_type_ids=False,\n",
        "            return_tensors='pt'\n",
        "        )\n",
        "        src_input_ids = src_tokenized['input_ids'].squeeze()\n",
        "        src_attention_mask = src_tokenized['attention_mask'].squeeze()\n",
        "\n",
        "        if self.set_type != 'test':\n",
        "            tgt_tokenized = self.tokenizer.encode_plus(\n",
        "                self.labels[index], \n",
        "                max_length=self.tgt_max_length,\n",
        "                pad_to_max_length=True,\n",
        "                truncation=True,\n",
        "                return_attention_mask=True,\n",
        "                return_token_type_ids=False,\n",
        "                return_tensors='pt'\n",
        "            )\n",
        "            tgt_input_ids = tgt_tokenized['input_ids'].squeeze()\n",
        "            tgt_attention_mask = tgt_tokenized['attention_mask'].squeeze()\n",
        "\n",
        "            return {\n",
        "                'src_input_ids': src_input_ids.long(),\n",
        "                'src_attention_mask': src_attention_mask.long(),\n",
        "                'tgt_input_ids': tgt_input_ids.long(),\n",
        "                'tgt_attention_mask': tgt_attention_mask.long()\n",
        "            }\n",
        "\n",
        "        return {\n",
        "            'src_input_ids': src_input_ids.long(),\n",
        "            'src_attention_mask': src_attention_mask.long()\n",
        "        }"
      ]
    },
    {
      "cell_type": "code",
      "execution_count": null,
      "id": "74f2ed1f",
      "metadata": {
        "id": "74f2ed1f"
      },
      "outputs": [],
      "source": [
        "\n",
        "train_data = T5Dataset(df_train, train_comments, train_labels, len(train_comments)-1)\n",
        "\n",
        "val_data = T5Dataset(df_valid, valid_comments, valid_labels, len(valid_comments)-1)\n",
        "\n"
      ]
    },
    {
      "cell_type": "code",
      "source": [
        "train_dataloader = DataLoader(train_data, batch_size=config.BATCH_SIZE)\n",
        "val_dataloader = DataLoader(val_data, batch_size=config.BATCH_SIZE)\n",
        "print(val_dataloader)\n",
        "b = next(iter(train_dataloader))\n",
        "for k, v in b.items():\n",
        "    print(f'{k} shape: {v.shape}')"
      ],
      "metadata": {
        "colab": {
          "base_uri": "https://localhost:8080/"
        },
        "id": "lnkp-KfVNJVD",
        "outputId": "2687f39e-613f-4f77-d3d5-74d5e1a1ee7a"
      },
      "id": "lnkp-KfVNJVD",
      "execution_count": null,
      "outputs": [
        {
          "output_type": "stream",
          "name": "stdout",
          "text": [
            "<torch.utils.data.dataloader.DataLoader object at 0x7f5b9f59aa30>\n",
            "src_input_ids shape: torch.Size([16, 320])\n",
            "src_attention_mask shape: torch.Size([16, 320])\n",
            "tgt_input_ids shape: torch.Size([16, 20])\n",
            "tgt_attention_mask shape: torch.Size([16, 20])\n"
          ]
        },
        {
          "output_type": "stream",
          "name": "stderr",
          "text": [
            "/usr/local/lib/python3.9/dist-packages/transformers/tokenization_utils_base.py:2346: FutureWarning: The `pad_to_max_length` argument is deprecated and will be removed in a future version, use `padding=True` or `padding='longest'` to pad to the longest sequence in the batch, or use `padding='max_length'` to pad to a max length. In this case, you can give a specific length with `max_length` (e.g. `max_length=45`) or leave max_length to None to pad to the maximal input size of the model (e.g. 512 for Bert).\n",
            "  warnings.warn(\n",
            "/usr/local/lib/python3.9/dist-packages/transformers/models/t5/tokenization_t5.py:226: UserWarning: This sequence already has </s>. In future versions this behavior may lead to duplicated eos tokens being added.\n",
            "  warnings.warn(\n"
          ]
        }
      ]
    },
    {
      "cell_type": "code",
      "execution_count": null,
      "id": "16cdad92",
      "metadata": {
        "id": "16cdad92"
      },
      "outputs": [],
      "source": [
        "class T5Model(nn.Module):\n",
        "    def __init__(self):\n",
        "        super(T5Model, self).__init__()\n",
        "\n",
        "        self.t5_model = T5ForConditionalGeneration.from_pretrained(config.MODEL_PATH)\n",
        "\n",
        "    def forward(\n",
        "        self,\n",
        "        input_ids, \n",
        "        attention_mask=None, \n",
        "        decoder_input_ids=None, \n",
        "        decoder_attention_mask=None, \n",
        "        labels=None\n",
        "        ):\n",
        "\n",
        "        return self.t5_model(\n",
        "            input_ids,\n",
        "            attention_mask=attention_mask,\n",
        "            decoder_input_ids=decoder_input_ids,\n",
        "            decoder_attention_mask=decoder_attention_mask,\n",
        "            labels=labels,\n",
        "        )\n"
      ]
    },
    {
      "cell_type": "code",
      "execution_count": null,
      "id": "11dfe94f",
      "metadata": {
        "id": "11dfe94f",
        "colab": {
          "base_uri": "https://localhost:8080/"
        },
        "outputId": "d1afa537-4e6c-4256-dbeb-995fc51c9f7a"
      },
      "outputs": [
        {
          "output_type": "stream",
          "name": "stdout",
          "text": [
            "cuda\n"
          ]
        }
      ],
      "source": [
        "print(config.DEVICE)\n",
        "device = config.DEVICE"
      ]
    },
    {
      "cell_type": "code",
      "execution_count": null,
      "id": "5ef5091c",
      "metadata": {
        "id": "5ef5091c"
      },
      "outputs": [],
      "source": [
        "def get_ohe(x):\n",
        "    labels_li = ['_'.join(x.lower().split()) for x in df_train.columns.to_list()[3:8]]\n",
        "    labels_li_indices = dict()\n",
        "    for idx, label in enumerate(labels_li):\n",
        "        labels_li_indices[label] = idx\n",
        "        \n",
        "    y = [labels.split(', ') for labels in x]\n",
        "    ohe = []\n",
        "    for labels in y:\n",
        "        temp = [0] * 6\n",
        "        for label in labels:\n",
        "            idx = labels_li_indices.get(label, -1)\n",
        "            if idx != -1:\n",
        "                temp[idx] = 1\n",
        "        ohe.append(temp)\n",
        "    ohe = np.array(ohe)\n",
        "    return ohe"
      ]
    },
    {
      "cell_type": "code",
      "execution_count": null,
      "id": "8cc3fb8c",
      "metadata": {
        "id": "8cc3fb8c"
      },
      "outputs": [],
      "source": [
        "def val(model, val_dataloader, criterion):\n",
        "    \n",
        "    val_loss = 0\n",
        "    true, pred = [], []\n",
        "    \n",
        "    # set model.eval() every time during evaluation\n",
        "    model.eval()\n",
        "    \n",
        "    for step, batch in enumerate(val_dataloader):\n",
        "        # unpack the batch contents and push them to the device (cuda or cpu).\n",
        "        b_src_input_ids = batch['src_input_ids'].to(device)\n",
        "        b_src_attention_mask = batch['src_attention_mask'].to(device)\n",
        "    \n",
        "        b_tgt_input_ids = batch['tgt_input_ids']\n",
        "        labels = b_tgt_input_ids.to(device)\n",
        "        labels[labels[:, :] == config.TOKENIZER.pad_token_id] = -100\n",
        "\n",
        "        b_tgt_attention_mask = batch['tgt_attention_mask'].to(device)\n",
        "\n",
        "        # using torch.no_grad() during validation/inference is faster -\n",
        "        # - since it does not update gradients.\n",
        "        with torch.no_grad():\n",
        "            # forward pass\n",
        "            outputs = model(\n",
        "                input_ids=b_src_input_ids, \n",
        "                attention_mask=b_src_attention_mask,\n",
        "                labels=labels,\n",
        "                decoder_attention_mask=b_tgt_attention_mask)\n",
        "            loss = outputs[0]\n",
        "\n",
        "            val_loss += loss.item()\n",
        "\n",
        "            # get true \n",
        "            for true_id in b_tgt_input_ids:\n",
        "                true_decoded = config.TOKENIZER.decode(true_id)\n",
        "                true.append(true_decoded)\n",
        "\n",
        "            # get pred (decoder generated textual label ids)\n",
        "            pred_ids = model.t5_model.generate(\n",
        "                input_ids=b_src_input_ids, \n",
        "                attention_mask=b_src_attention_mask\n",
        "            )\n",
        "            pred_ids = pred_ids.cpu().numpy()\n",
        "            for pred_id in pred_ids:\n",
        "                pred_decoded = config.TOKENIZER.decode(pred_id)\n",
        "                pred.append(pred_decoded)\n",
        "\n",
        "    true_ohe = get_ohe(true)\n",
        "    pred_ohe = get_ohe(pred)\n",
        "\n",
        "    avg_val_loss = val_loss / len(val_dataloader)\n",
        "    print('Val loss:', avg_val_loss)\n",
        "    print('Val accuracy:', accuracy_score(true_ohe, pred_ohe))\n",
        "\n",
        "    val_micro_f1_score = f1_score(true_ohe, pred_ohe, average='micro')\n",
        "    print('Val micro f1 score:', val_micro_f1_score)\n",
        "    return val_micro_f1_score\n",
        "\n",
        "\n",
        "def train(\n",
        "    model,  \n",
        "    train_dataloader, \n",
        "    val_dataloader, \n",
        "    criterion, \n",
        "    optimizer, \n",
        "    scheduler, \n",
        "    epoch\n",
        "    ):\n",
        "    \n",
        "    # we validate config.N_VALIDATE_DUR_TRAIN times during the training loop\n",
        "    nv = config.N_VALIDATE_DUR_TRAIN\n",
        "    temp = len(train_dataloader) // nv\n",
        "    temp = temp - (temp % 100)\n",
        "    validate_at_steps = [temp * x for x in range(1, nv + 1)]\n",
        "    \n",
        "    train_loss = 0\n",
        "    for step, batch in enumerate(tqdm(train_dataloader, \n",
        "                                      desc='Epoch ' + str(epoch))):\n",
        "        # set model.eval() every time during training\n",
        "        model.train()\n",
        "        \n",
        "        # unpack the batch contents and push them to the device (cuda or cpu).\n",
        "        b_src_input_ids = batch['src_input_ids'].to(device)\n",
        "        b_src_attention_mask = batch['src_attention_mask'].to(device)\n",
        "    \n",
        "        labels = batch['tgt_input_ids'].to(device)\n",
        "        labels[labels[:, :] == config.TOKENIZER.pad_token_id] = -100\n",
        "\n",
        "        b_tgt_attention_mask = batch['tgt_attention_mask'].to(device)\n",
        "\n",
        "        # clear accumulated gradients\n",
        "        optimizer.zero_grad()\n",
        "\n",
        "        # forward pass\n",
        "        outputs = model(input_ids=b_src_input_ids, \n",
        "                        attention_mask=b_src_attention_mask,\n",
        "                        labels=labels,\n",
        "                        decoder_attention_mask=b_tgt_attention_mask)\n",
        "        loss = outputs[0]\n",
        "        train_loss += loss.item()\n",
        "\n",
        "        # backward pass\n",
        "        loss.backward()\n",
        "\n",
        "        # update weights\n",
        "        optimizer.step()\n",
        "        \n",
        "        # update scheduler\n",
        "        scheduler.step()\n",
        "\n",
        "        if step in validate_at_steps:\n",
        "            print(f'-- Step: {step}')\n",
        "            _ = val(model, val_dataloader, criterion)\n",
        "    \n",
        "    avg_train_loss = train_loss / len(train_dataloader)\n",
        "    print('Training loss:', avg_train_loss)"
      ]
    },
    {
      "cell_type": "code",
      "execution_count": null,
      "id": "c8f6a95d",
      "metadata": {
        "id": "c8f6a95d"
      },
      "outputs": [],
      "source": [
        "def run():\n",
        "    # setting a seed ensures reproducible results.\n",
        "    # seed may affect the performance too.\n",
        "    torch.manual_seed(config.SEED)\n",
        "\n",
        "    criterion = nn.BCEWithLogitsLoss()\n",
        "    \n",
        "    # define the parameters to be optmized -\n",
        "    # - and add regularization\n",
        "    if config.FULL_FINETUNING:\n",
        "        param_optimizer = list(model.named_parameters())\n",
        "        no_decay = [\"bias\", \"LayerNorm.bias\", \"LayerNorm.weight\"]\n",
        "        optimizer_parameters = [\n",
        "            {\n",
        "                \"params\": [\n",
        "                    p for n, p in param_optimizer if not any(nd in n for nd in no_decay)\n",
        "                ],\n",
        "                \"weight_decay\": 0.001,\n",
        "            },\n",
        "            {\n",
        "                \"params\": [\n",
        "                    p for n, p in param_optimizer if any(nd in n for nd in no_decay)\n",
        "                ],\n",
        "                \"weight_decay\": 0.0,\n",
        "            },\n",
        "        ]\n",
        "        optimizer = optim.AdamW(optimizer_parameters, lr=config.LR)\n",
        "\n",
        "    num_training_steps = len(train_dataloader) * config.EPOCHS\n",
        "    scheduler = get_linear_schedule_with_warmup(\n",
        "        optimizer,\n",
        "        num_warmup_steps=0,\n",
        "        num_training_steps=num_training_steps\n",
        "    )\n",
        "\n",
        "    max_val_micro_f1_score = float('-inf')\n",
        "    for epoch in range(config.EPOCHS):\n",
        "        train(model, train_dataloader, val_dataloader, criterion, optimizer, scheduler, epoch)\n",
        "        val_micro_f1_score = val(model, val_dataloader, criterion)\n",
        "\n",
        "        if config.SAVE_BEST_ONLY:\n",
        "            if val_micro_f1_score > max_val_micro_f1_score:\n",
        "                best_model = copy.deepcopy(model)\n",
        "                best_val_micro_f1_score = val_micro_f1_score\n",
        "\n",
        "                model_name = 't5_best_model'\n",
        "                torch.save(best_model.state_dict(), model_name + '.pt')\n",
        "\n",
        "                print(f'--- Best Model. Val loss: {max_val_micro_f1_score} -> {val_micro_f1_score}')\n",
        "                max_val_micro_f1_score = val_micro_f1_score\n",
        "\n",
        "    return best_model, best_val_micro_f1_score"
      ]
    },
    {
      "cell_type": "code",
      "execution_count": null,
      "id": "77df35d0",
      "metadata": {
        "id": "77df35d0"
      },
      "outputs": [],
      "source": [
        "model = T5Model()\n",
        "model.to(device);"
      ]
    },
    {
      "cell_type": "code",
      "execution_count": null,
      "id": "c6ab0db3",
      "metadata": {
        "id": "c6ab0db3",
        "colab": {
          "base_uri": "https://localhost:8080/"
        },
        "outputId": "2ffc9b63-395a-4a04-8748-e92fdd919ed5"
      },
      "outputs": [
        {
          "output_type": "stream",
          "name": "stderr",
          "text": [
            "Epoch 0:  24%|██▍       | 200/821 [01:00<03:08,  3.29it/s]"
          ]
        },
        {
          "output_type": "stream",
          "name": "stdout",
          "text": [
            "-- Step: 200\n"
          ]
        },
        {
          "output_type": "stream",
          "name": "stderr",
          "text": [
            "/usr/local/lib/python3.9/dist-packages/transformers/generation/utils.py:1288: UserWarning: Using `max_length`'s default (20) to control the generation length. This behaviour is deprecated and will be removed from the config in v5 of Transformers -- we recommend using `max_new_tokens` to control the maximum length of the generation.\n",
            "  warnings.warn(\n",
            "Epoch 0:  24%|██▍       | 201/821 [02:38<5:04:48, 29.50s/it]"
          ]
        },
        {
          "output_type": "stream",
          "name": "stdout",
          "text": [
            "Val loss: 0.28420481064076564\n",
            "Val accuracy: 0.6264472882388787\n",
            "Val micro f1 score: 0.5150602409638555\n"
          ]
        },
        {
          "output_type": "stream",
          "name": "stderr",
          "text": [
            "/usr/local/lib/python3.9/dist-packages/transformers/tokenization_utils_base.py:2346: FutureWarning: The `pad_to_max_length` argument is deprecated and will be removed in a future version, use `padding=True` or `padding='longest'` to pad to the longest sequence in the batch, or use `padding='max_length'` to pad to a max length. In this case, you can give a specific length with `max_length` (e.g. `max_length=45`) or leave max_length to None to pad to the maximal input size of the model (e.g. 512 for Bert).\n",
            "  warnings.warn(\n",
            "/usr/local/lib/python3.9/dist-packages/transformers/models/t5/tokenization_t5.py:226: UserWarning: This sequence already has </s>. In future versions this behavior may lead to duplicated eos tokens being added.\n",
            "  warnings.warn(\n",
            "Epoch 0:  49%|████▊     | 400/821 [03:37<02:05,  3.36it/s]"
          ]
        },
        {
          "output_type": "stream",
          "name": "stdout",
          "text": [
            "-- Step: 400\n"
          ]
        },
        {
          "output_type": "stream",
          "name": "stderr",
          "text": [
            "/usr/local/lib/python3.9/dist-packages/transformers/generation/utils.py:1288: UserWarning: Using `max_length`'s default (20) to control the generation length. This behaviour is deprecated and will be removed from the config in v5 of Transformers -- we recommend using `max_new_tokens` to control the maximum length of the generation.\n",
            "  warnings.warn(\n",
            "Epoch 0:  49%|████▉     | 401/821 [05:17<3:30:59, 30.14s/it]"
          ]
        },
        {
          "output_type": "stream",
          "name": "stdout",
          "text": [
            "Val loss: 0.20378836665700362\n",
            "Val accuracy: 0.7516758074344911\n",
            "Val micro f1 score: 0.6271050521251003\n"
          ]
        },
        {
          "output_type": "stream",
          "name": "stderr",
          "text": [
            "/usr/local/lib/python3.9/dist-packages/transformers/tokenization_utils_base.py:2346: FutureWarning: The `pad_to_max_length` argument is deprecated and will be removed in a future version, use `padding=True` or `padding='longest'` to pad to the longest sequence in the batch, or use `padding='max_length'` to pad to a max length. In this case, you can give a specific length with `max_length` (e.g. `max_length=45`) or leave max_length to None to pad to the maximal input size of the model (e.g. 512 for Bert).\n",
            "  warnings.warn(\n",
            "/usr/local/lib/python3.9/dist-packages/transformers/models/t5/tokenization_t5.py:226: UserWarning: This sequence already has </s>. In future versions this behavior may lead to duplicated eos tokens being added.\n",
            "  warnings.warn(\n",
            "Epoch 0:  73%|███████▎  | 600/821 [06:17<01:06,  3.32it/s]"
          ]
        },
        {
          "output_type": "stream",
          "name": "stdout",
          "text": [
            "-- Step: 600\n"
          ]
        },
        {
          "output_type": "stream",
          "name": "stderr",
          "text": [
            "/usr/local/lib/python3.9/dist-packages/transformers/generation/utils.py:1288: UserWarning: Using `max_length`'s default (20) to control the generation length. This behaviour is deprecated and will be removed from the config in v5 of Transformers -- we recommend using `max_new_tokens` to control the maximum length of the generation.\n",
            "  warnings.warn(\n",
            "Epoch 0:  73%|███████▎  | 601/821 [07:58<1:51:44, 30.47s/it]"
          ]
        },
        {
          "output_type": "stream",
          "name": "stdout",
          "text": [
            "Val loss: 0.19151277597812774\n",
            "Val accuracy: 0.7730042656916515\n",
            "Val micro f1 score: 0.6635794061563607\n"
          ]
        },
        {
          "output_type": "stream",
          "name": "stderr",
          "text": [
            "/usr/local/lib/python3.9/dist-packages/transformers/tokenization_utils_base.py:2346: FutureWarning: The `pad_to_max_length` argument is deprecated and will be removed in a future version, use `padding=True` or `padding='longest'` to pad to the longest sequence in the batch, or use `padding='max_length'` to pad to a max length. In this case, you can give a specific length with `max_length` (e.g. `max_length=45`) or leave max_length to None to pad to the maximal input size of the model (e.g. 512 for Bert).\n",
            "  warnings.warn(\n",
            "/usr/local/lib/python3.9/dist-packages/transformers/models/t5/tokenization_t5.py:226: UserWarning: This sequence already has </s>. In future versions this behavior may lead to duplicated eos tokens being added.\n",
            "  warnings.warn(\n",
            "Epoch 0: 100%|██████████| 821/821 [09:04<00:00,  1.51it/s]\n",
            "/usr/local/lib/python3.9/dist-packages/transformers/generation/utils.py:1288: UserWarning: Using `max_length`'s default (20) to control the generation length. This behaviour is deprecated and will be removed from the config in v5 of Transformers -- we recommend using `max_new_tokens` to control the maximum length of the generation.\n",
            "  warnings.warn(\n"
          ]
        },
        {
          "output_type": "stream",
          "name": "stdout",
          "text": [
            "Training loss: 0.5369848682659697\n",
            "Val loss: 0.1765579403495615\n",
            "Val accuracy: 0.7809262644728824\n",
            "Val micro f1 score: 0.6927932667017359\n",
            "--- Best Model. Val loss: -inf -> 0.6927932667017359\n"
          ]
        },
        {
          "output_type": "stream",
          "name": "stderr",
          "text": [
            "\rEpoch 1:   0%|          | 0/821 [00:00<?, ?it/s]/usr/local/lib/python3.9/dist-packages/transformers/tokenization_utils_base.py:2346: FutureWarning: The `pad_to_max_length` argument is deprecated and will be removed in a future version, use `padding=True` or `padding='longest'` to pad to the longest sequence in the batch, or use `padding='max_length'` to pad to a max length. In this case, you can give a specific length with `max_length` (e.g. `max_length=45`) or leave max_length to None to pad to the maximal input size of the model (e.g. 512 for Bert).\n",
            "  warnings.warn(\n",
            "/usr/local/lib/python3.9/dist-packages/transformers/models/t5/tokenization_t5.py:226: UserWarning: This sequence already has </s>. In future versions this behavior may lead to duplicated eos tokens being added.\n",
            "  warnings.warn(\n",
            "Epoch 1:  24%|██▍       | 200/821 [00:59<03:05,  3.34it/s]"
          ]
        },
        {
          "output_type": "stream",
          "name": "stdout",
          "text": [
            "-- Step: 200\n"
          ]
        },
        {
          "output_type": "stream",
          "name": "stderr",
          "text": [
            "/usr/local/lib/python3.9/dist-packages/transformers/generation/utils.py:1288: UserWarning: Using `max_length`'s default (20) to control the generation length. This behaviour is deprecated and will be removed from the config in v5 of Transformers -- we recommend using `max_new_tokens` to control the maximum length of the generation.\n",
            "  warnings.warn(\n",
            "Epoch 1:  24%|██▍       | 201/821 [02:42<5:20:21, 31.00s/it]"
          ]
        },
        {
          "output_type": "stream",
          "name": "stdout",
          "text": [
            "Val loss: 0.17041441825336046\n",
            "Val accuracy: 0.7882388787324802\n",
            "Val micro f1 score: 0.694391244870041\n"
          ]
        },
        {
          "output_type": "stream",
          "name": "stderr",
          "text": [
            "/usr/local/lib/python3.9/dist-packages/transformers/tokenization_utils_base.py:2346: FutureWarning: The `pad_to_max_length` argument is deprecated and will be removed in a future version, use `padding=True` or `padding='longest'` to pad to the longest sequence in the batch, or use `padding='max_length'` to pad to a max length. In this case, you can give a specific length with `max_length` (e.g. `max_length=45`) or leave max_length to None to pad to the maximal input size of the model (e.g. 512 for Bert).\n",
            "  warnings.warn(\n",
            "/usr/local/lib/python3.9/dist-packages/transformers/models/t5/tokenization_t5.py:226: UserWarning: This sequence already has </s>. In future versions this behavior may lead to duplicated eos tokens being added.\n",
            "  warnings.warn(\n",
            "Epoch 1:  49%|████▊     | 400/821 [03:42<02:05,  3.36it/s]"
          ]
        },
        {
          "output_type": "stream",
          "name": "stdout",
          "text": [
            "-- Step: 400\n"
          ]
        },
        {
          "output_type": "stream",
          "name": "stderr",
          "text": [
            "/usr/local/lib/python3.9/dist-packages/transformers/generation/utils.py:1288: UserWarning: Using `max_length`'s default (20) to control the generation length. This behaviour is deprecated and will be removed from the config in v5 of Transformers -- we recommend using `max_new_tokens` to control the maximum length of the generation.\n",
            "  warnings.warn(\n",
            "Epoch 1:  49%|████▉     | 401/821 [05:26<3:40:32, 31.51s/it]"
          ]
        },
        {
          "output_type": "stream",
          "name": "stdout",
          "text": [
            "Val loss: 0.16163457254653127\n",
            "Val accuracy: 0.7928092626447288\n",
            "Val micro f1 score: 0.7162198035572074\n"
          ]
        },
        {
          "output_type": "stream",
          "name": "stderr",
          "text": [
            "/usr/local/lib/python3.9/dist-packages/transformers/tokenization_utils_base.py:2346: FutureWarning: The `pad_to_max_length` argument is deprecated and will be removed in a future version, use `padding=True` or `padding='longest'` to pad to the longest sequence in the batch, or use `padding='max_length'` to pad to a max length. In this case, you can give a specific length with `max_length` (e.g. `max_length=45`) or leave max_length to None to pad to the maximal input size of the model (e.g. 512 for Bert).\n",
            "  warnings.warn(\n",
            "/usr/local/lib/python3.9/dist-packages/transformers/models/t5/tokenization_t5.py:226: UserWarning: This sequence already has </s>. In future versions this behavior may lead to duplicated eos tokens being added.\n",
            "  warnings.warn(\n",
            "Epoch 1:  73%|███████▎  | 600/821 [06:26<01:06,  3.33it/s]"
          ]
        },
        {
          "output_type": "stream",
          "name": "stdout",
          "text": [
            "-- Step: 600\n"
          ]
        },
        {
          "output_type": "stream",
          "name": "stderr",
          "text": [
            "/usr/local/lib/python3.9/dist-packages/transformers/generation/utils.py:1288: UserWarning: Using `max_length`'s default (20) to control the generation length. This behaviour is deprecated and will be removed from the config in v5 of Transformers -- we recommend using `max_new_tokens` to control the maximum length of the generation.\n",
            "  warnings.warn(\n",
            "Epoch 1:  73%|███████▎  | 601/821 [08:09<1:54:23, 31.20s/it]"
          ]
        },
        {
          "output_type": "stream",
          "name": "stdout",
          "text": [
            "Val loss: 0.16069654641148534\n",
            "Val accuracy: 0.7931139549055454\n",
            "Val micro f1 score: 0.7120107962213226\n"
          ]
        },
        {
          "output_type": "stream",
          "name": "stderr",
          "text": [
            "/usr/local/lib/python3.9/dist-packages/transformers/tokenization_utils_base.py:2346: FutureWarning: The `pad_to_max_length` argument is deprecated and will be removed in a future version, use `padding=True` or `padding='longest'` to pad to the longest sequence in the batch, or use `padding='max_length'` to pad to a max length. In this case, you can give a specific length with `max_length` (e.g. `max_length=45`) or leave max_length to None to pad to the maximal input size of the model (e.g. 512 for Bert).\n",
            "  warnings.warn(\n",
            "/usr/local/lib/python3.9/dist-packages/transformers/models/t5/tokenization_t5.py:226: UserWarning: This sequence already has </s>. In future versions this behavior may lead to duplicated eos tokens being added.\n",
            "  warnings.warn(\n",
            "Epoch 1: 100%|██████████| 821/821 [09:15<00:00,  1.48it/s]\n",
            "/usr/local/lib/python3.9/dist-packages/transformers/generation/utils.py:1288: UserWarning: Using `max_length`'s default (20) to control the generation length. This behaviour is deprecated and will be removed from the config in v5 of Transformers -- we recommend using `max_new_tokens` to control the maximum length of the generation.\n",
            "  warnings.warn(\n"
          ]
        },
        {
          "output_type": "stream",
          "name": "stdout",
          "text": [
            "Training loss: 0.19907915718789948\n",
            "Val loss: 0.16052742875678447\n",
            "Val accuracy: 0.7940280316879951\n",
            "Val micro f1 score: 0.7168690958164643\n",
            "--- Best Model. Val loss: 0.6927932667017359 -> 0.7168690958164643\n"
          ]
        }
      ],
      "source": [
        "best_model, best_val_micro_f1_score = run()\n"
      ]
    },
    {
      "cell_type": "code",
      "source": [
        "test_data = T5Dataset(df_test, test_comments, test_labels, len(test_comments)-1, set_type = 'test')\n",
        "\n",
        "test_dataloader = DataLoader(test_data, batch_size=config.BATCH_SIZE)\n"
      ],
      "metadata": {
        "id": "pPkQfIHACzaw"
      },
      "id": "pPkQfIHACzaw",
      "execution_count": null,
      "outputs": []
    },
    {
      "cell_type": "code",
      "source": [
        "def predict(model):\n",
        "    val_loss = 0\n",
        "    pred = []\n",
        "    model.eval()\n",
        "    for step, batch in tqdm(enumerate(test_dataloader), total=len(test_dataloader)):\n",
        "        b_src_input_ids = batch['src_input_ids'].to(device)\n",
        "        b_src_attention_mask = batch['src_attention_mask'].to(device)\n",
        "\n",
        "        with torch.no_grad():\n",
        "            # get pred\n",
        "            pred_ids = model.t5_model.generate(\n",
        "                input_ids=b_src_input_ids, \n",
        "                attention_mask=b_src_attention_mask\n",
        "            )\n",
        "            pred_ids = pred_ids.cpu().numpy()\n",
        "            for pred_id in pred_ids:\n",
        "                pred_decoded = config.TOKENIZER.decode(pred_id)\n",
        "                pred.append(pred_decoded)\n",
        "\n",
        "    pred_ohe = get_ohe(pred)\n",
        "    return pred_ohe\n",
        "\n",
        "pred_ohe = predict(best_model)"
      ],
      "metadata": {
        "id": "XDlDeKF_C1NX",
        "colab": {
          "base_uri": "https://localhost:8080/"
        },
        "outputId": "04b71b70-406a-4a46-dbe4-45820a231285"
      },
      "id": "XDlDeKF_C1NX",
      "execution_count": null,
      "outputs": [
        {
          "output_type": "stream",
          "name": "stderr",
          "text": [
            "  0%|          | 0/3999 [00:00<?, ?it/s]/usr/local/lib/python3.9/dist-packages/transformers/tokenization_utils_base.py:2346: FutureWarning: The `pad_to_max_length` argument is deprecated and will be removed in a future version, use `padding=True` or `padding='longest'` to pad to the longest sequence in the batch, or use `padding='max_length'` to pad to a max length. In this case, you can give a specific length with `max_length` (e.g. `max_length=45`) or leave max_length to None to pad to the maximal input size of the model (e.g. 512 for Bert).\n",
            "  warnings.warn(\n",
            "/usr/local/lib/python3.9/dist-packages/transformers/generation/utils.py:1288: UserWarning: Using `max_length`'s default (20) to control the generation length. This behaviour is deprecated and will be removed from the config in v5 of Transformers -- we recommend using `max_new_tokens` to control the maximum length of the generation.\n",
            "  warnings.warn(\n",
            "100%|██████████| 3999/3999 [23:48<00:00,  2.80it/s]\n"
          ]
        }
      ]
    },
    {
      "cell_type": "code",
      "source": [
        "print(best_val_micro_f1_score)\n",
        "print(pred_ohe)\n",
        "y_test = test_labels\n",
        "y_test_pred = np.where(pred_ohe>=0.5, 1, 0)\n",
        "y_test_pred[:10] "
      ],
      "metadata": {
        "id": "-v54_NfikLOV",
        "colab": {
          "base_uri": "https://localhost:8080/"
        },
        "outputId": "d8691f9b-9f94-4c88-deae-554ab8606bfa"
      },
      "id": "-v54_NfikLOV",
      "execution_count": null,
      "outputs": [
        {
          "output_type": "stream",
          "name": "stdout",
          "text": [
            "0.7168690958164643\n",
            "[[0 0 0 0 0 0]\n",
            " [0 0 0 0 0 0]\n",
            " [0 0 0 0 0 0]\n",
            " ...\n",
            " [0 0 0 0 0 0]\n",
            " [1 1 0 0 0 0]\n",
            " [0 0 0 0 0 0]]\n"
          ]
        },
        {
          "output_type": "execute_result",
          "data": {
            "text/plain": [
              "array([[0, 0, 0, 0, 0, 0],\n",
              "       [0, 0, 0, 0, 0, 0],\n",
              "       [0, 0, 0, 0, 0, 0],\n",
              "       [0, 0, 0, 0, 0, 0],\n",
              "       [0, 0, 0, 0, 0, 0],\n",
              "       [0, 0, 0, 0, 0, 0],\n",
              "       [0, 0, 0, 0, 0, 0],\n",
              "       [0, 0, 0, 0, 0, 0],\n",
              "       [0, 0, 0, 0, 0, 0],\n",
              "       [0, 0, 0, 0, 0, 0]])"
            ]
          },
          "metadata": {},
          "execution_count": 35
        }
      ]
    },
    {
      "cell_type": "code",
      "source": [
        "print(pred_ohe)\n",
        "print(type(pred_ohe))"
      ],
      "metadata": {
        "id": "67tvZ5RbNDnO",
        "colab": {
          "base_uri": "https://localhost:8080/"
        },
        "outputId": "b90472fc-948d-44ea-b826-f266c2e86b60"
      },
      "id": "67tvZ5RbNDnO",
      "execution_count": null,
      "outputs": [
        {
          "output_type": "stream",
          "name": "stdout",
          "text": [
            "[[0 0 0 0 0 0]\n",
            " [0 0 0 0 0 0]\n",
            " [0 0 0 0 0 0]\n",
            " ...\n",
            " [0 0 0 0 0 0]\n",
            " [1 1 0 0 0 0]\n",
            " [0 0 0 0 0 0]]\n",
            "<class 'numpy.ndarray'>\n"
          ]
        }
      ]
    },
    {
      "cell_type": "code",
      "source": [
        "from sklearn.metrics import classification_report\n",
        "\n",
        "print(classification_report(y_test, y_test_pred, target_names=['toxic', 'severe_toxic', 'obscene', 'threat', 'insult', 'identity_hate'], zero_division = 0))"
      ],
      "metadata": {
        "id": "NbvztNQ1o9Y2",
        "colab": {
          "base_uri": "https://localhost:8080/"
        },
        "outputId": "62fdbba9-0b91-433e-8cae-73ec69e5dd9f"
      },
      "id": "NbvztNQ1o9Y2",
      "execution_count": null,
      "outputs": [
        {
          "output_type": "stream",
          "name": "stdout",
          "text": [
            "               precision    recall  f1-score   support\n",
            "\n",
            "        toxic       0.53      0.60      0.56      6090\n",
            " severe_toxic       0.04      0.96      0.08       367\n",
            "      obscene       0.52      0.06      0.10      3691\n",
            "       threat       0.00      0.00      0.00       211\n",
            "       insult       0.00      0.00      0.00      3427\n",
            "identity_hate       0.00      0.00      0.00       712\n",
            "\n",
            "    micro avg       0.26      0.29      0.28     14498\n",
            "    macro avg       0.18      0.27      0.12     14498\n",
            " weighted avg       0.36      0.29      0.26     14498\n",
            "  samples avg       0.03      0.03      0.03     14498\n",
            "\n"
          ]
        }
      ]
    },
    {
      "cell_type": "code",
      "source": [
        "from sklearn.metrics import hamming_loss\n",
        "hamming_loss(y_test, y_test_pred)"
      ],
      "metadata": {
        "id": "-VWKPj7QpGVE",
        "colab": {
          "base_uri": "https://localhost:8080/"
        },
        "outputId": "43e015f2-7b96-4455-d19a-e2bdc9ca7a51"
      },
      "id": "-VWKPj7QpGVE",
      "execution_count": null,
      "outputs": [
        {
          "output_type": "execute_result",
          "data": {
            "text/plain": [
              "0.05739490193626378"
            ]
          },
          "metadata": {},
          "execution_count": 38
        }
      ]
    },
    {
      "cell_type": "code",
      "source": [
        "from sklearn.metrics import roc_auc_score\n",
        "roc_auc_score(y_test, y_test_pred, average=None)"
      ],
      "metadata": {
        "id": "vjhIltWH6afz",
        "colab": {
          "base_uri": "https://localhost:8080/"
        },
        "outputId": "055072d3-d19f-4df9-8fc3-e4fdfa31c277"
      },
      "id": "vjhIltWH6afz",
      "execution_count": null,
      "outputs": [
        {
          "output_type": "execute_result",
          "data": {
            "text/plain": [
              "array([0.77105279, 0.92196338, 0.52632976, 0.49753129, 0.5       ,\n",
              "       0.5       ])"
            ]
          },
          "metadata": {},
          "execution_count": 41
        }
      ]
    },
    {
      "cell_type": "code",
      "source": [
        "roc_auc_score(y_test, y_test_pred, average=\"macro\")"
      ],
      "metadata": {
        "colab": {
          "base_uri": "https://localhost:8080/"
        },
        "id": "4pdwMOrAWw1-",
        "outputId": "fef6af89-8d16-4837-a91f-8142a2e835a7"
      },
      "id": "4pdwMOrAWw1-",
      "execution_count": null,
      "outputs": [
        {
          "output_type": "execute_result",
          "data": {
            "text/plain": [
              "0.6194795379675934"
            ]
          },
          "metadata": {},
          "execution_count": 42
        }
      ]
    }
  ],
  "metadata": {
    "colab": {
      "provenance": [],
      "machine_shape": "hm"
    },
    "gpuClass": "premium",
    "kernelspec": {
      "display_name": "Python 3 (ipykernel)",
      "language": "python",
      "name": "python3"
    },
    "language_info": {
      "codemirror_mode": {
        "name": "ipython",
        "version": 3
      },
      "file_extension": ".py",
      "mimetype": "text/x-python",
      "name": "python",
      "nbconvert_exporter": "python",
      "pygments_lexer": "ipython3",
      "version": "3.10.5"
    },
    "accelerator": "GPU"
  },
  "nbformat": 4,
  "nbformat_minor": 5
}